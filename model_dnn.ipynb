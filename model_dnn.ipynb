{
 "cells": [
  {
   "cell_type": "code",
   "execution_count": 1,
   "metadata": {},
   "outputs": [
    {
     "name": "stderr",
     "output_type": "stream",
     "text": [
      "2024-10-11 02:15:34.375018: E external/local_xla/xla/stream_executor/cuda/cuda_fft.cc:485] Unable to register cuFFT factory: Attempting to register factory for plugin cuFFT when one has already been registered\n",
      "2024-10-11 02:15:34.387439: E external/local_xla/xla/stream_executor/cuda/cuda_dnn.cc:8454] Unable to register cuDNN factory: Attempting to register factory for plugin cuDNN when one has already been registered\n",
      "2024-10-11 02:15:34.391019: E external/local_xla/xla/stream_executor/cuda/cuda_blas.cc:1452] Unable to register cuBLAS factory: Attempting to register factory for plugin cuBLAS when one has already been registered\n",
      "2024-10-11 02:15:34.402148: I tensorflow/core/platform/cpu_feature_guard.cc:210] This TensorFlow binary is optimized to use available CPU instructions in performance-critical operations.\n",
      "To enable the following instructions: AVX2 FMA, in other operations, rebuild TensorFlow with the appropriate compiler flags.\n",
      "2024-10-11 02:15:35.002621: W tensorflow/compiler/tf2tensorrt/utils/py_utils.cc:38] TF-TRT Warning: Could not find TensorRT\n"
     ]
    }
   ],
   "source": [
    "from sklearn.preprocessing import StandardScaler\n",
    "import pandas as pd\n",
    "import tensorflow as tf\n",
    "from tensorflow.keras import layers, models\n",
    "import matplotlib.pyplot as plt\n",
    "from sklearn.model_selection import train_test_split\n",
    "import numpy as np\n",
    "from sklearn.metrics import mean_squared_error\n",
    "from sklearn.metrics import r2_score\n",
    "import seaborn as sns\n",
    "import datetime\n",
    "import math\n",
    "from sklearn.cluster import DBSCAN\n",
    "import hdbscan\n",
    "from sklearn.neighbors import NearestNeighbors\n",
    "from sklearn.metrics import mean_absolute_error\n",
    "from sklearn.metrics import median_absolute_error"
   ]
  },
  {
   "cell_type": "code",
   "execution_count": 2,
   "metadata": {},
   "outputs": [
    {
     "name": "stderr",
     "output_type": "stream",
     "text": [
      "WARNING: All log messages before absl::InitializeLog() is called are written to STDERR\n",
      "I0000 00:00:1728573335.860152    5933 cuda_executor.cc:1015] successful NUMA node read from SysFS had negative value (-1), but there must be at least one NUMA node, so returning NUMA node zero. See more at https://github.com/torvalds/linux/blob/v6.0/Documentation/ABI/testing/sysfs-bus-pci#L344-L355\n",
      "I0000 00:00:1728573335.885678    5933 cuda_executor.cc:1015] successful NUMA node read from SysFS had negative value (-1), but there must be at least one NUMA node, so returning NUMA node zero. See more at https://github.com/torvalds/linux/blob/v6.0/Documentation/ABI/testing/sysfs-bus-pci#L344-L355\n",
      "I0000 00:00:1728573335.889628    5933 cuda_executor.cc:1015] successful NUMA node read from SysFS had negative value (-1), but there must be at least one NUMA node, so returning NUMA node zero. See more at https://github.com/torvalds/linux/blob/v6.0/Documentation/ABI/testing/sysfs-bus-pci#L344-L355\n"
     ]
    }
   ],
   "source": [
    "from tensorflow.keras import mixed_precision\n",
    "\n",
    "# # Set the global policy to mixed precision\n",
    "# policy = mixed_precision.Policy('mixed_float16')\n",
    "# mixed_precision.set_global_policy(policy)\n",
    "\n",
    "physical_devices = tf.config.list_physical_devices('GPU')\n",
    "tf.config.experimental.set_memory_growth(physical_devices[0], True)"
   ]
  },
  {
   "cell_type": "code",
   "execution_count": 3,
   "metadata": {},
   "outputs": [],
   "source": [
    "# import os\n",
    "\n",
    "# # Set the environment variable\n",
    "# os.environ['TF_GPU_ALLOCATOR'] = 'cuda_malloc_async'"
   ]
  },
  {
   "cell_type": "code",
   "execution_count": 4,
   "metadata": {},
   "outputs": [
    {
     "data": {
      "text/html": [
       "<div>\n",
       "<style scoped>\n",
       "    .dataframe tbody tr th:only-of-type {\n",
       "        vertical-align: middle;\n",
       "    }\n",
       "\n",
       "    .dataframe tbody tr th {\n",
       "        vertical-align: top;\n",
       "    }\n",
       "\n",
       "    .dataframe thead th {\n",
       "        text-align: right;\n",
       "    }\n",
       "</style>\n",
       "<table border=\"1\" class=\"dataframe\">\n",
       "  <thead>\n",
       "    <tr style=\"text-align: right;\">\n",
       "      <th></th>\n",
       "      <th>nc</th>\n",
       "      <th>rssi</th>\n",
       "      <th>rssi1</th>\n",
       "      <th>rssi2</th>\n",
       "      <th>subcarriers</th>\n",
       "      <th>ant1_amplitude</th>\n",
       "      <th>ant2_amplitude</th>\n",
       "      <th>ant1_phase</th>\n",
       "      <th>ant2_phase</th>\n",
       "      <th>with_receiver</th>\n",
       "      <th>coord1</th>\n",
       "      <th>coord2</th>\n",
       "    </tr>\n",
       "  </thead>\n",
       "  <tbody>\n",
       "    <tr>\n",
       "      <th>0</th>\n",
       "      <td>2</td>\n",
       "      <td>-0.204162</td>\n",
       "      <td>0.205596</td>\n",
       "      <td>0.445233</td>\n",
       "      <td>1</td>\n",
       "      <td>1.210600</td>\n",
       "      <td>1.840597</td>\n",
       "      <td>0.738134</td>\n",
       "      <td>-1.061457</td>\n",
       "      <td>1</td>\n",
       "      <td>7</td>\n",
       "      <td>5</td>\n",
       "    </tr>\n",
       "    <tr>\n",
       "      <th>1</th>\n",
       "      <td>2</td>\n",
       "      <td>-0.204162</td>\n",
       "      <td>0.205596</td>\n",
       "      <td>0.445233</td>\n",
       "      <td>2</td>\n",
       "      <td>-0.848759</td>\n",
       "      <td>-0.978989</td>\n",
       "      <td>0.955270</td>\n",
       "      <td>0.596346</td>\n",
       "      <td>1</td>\n",
       "      <td>7</td>\n",
       "      <td>5</td>\n",
       "    </tr>\n",
       "    <tr>\n",
       "      <th>2</th>\n",
       "      <td>2</td>\n",
       "      <td>-0.204162</td>\n",
       "      <td>0.205596</td>\n",
       "      <td>0.445233</td>\n",
       "      <td>3</td>\n",
       "      <td>1.224672</td>\n",
       "      <td>1.914379</td>\n",
       "      <td>0.726182</td>\n",
       "      <td>-1.088748</td>\n",
       "      <td>1</td>\n",
       "      <td>7</td>\n",
       "      <td>5</td>\n",
       "    </tr>\n",
       "    <tr>\n",
       "      <th>3</th>\n",
       "      <td>2</td>\n",
       "      <td>-0.204162</td>\n",
       "      <td>0.205596</td>\n",
       "      <td>0.445233</td>\n",
       "      <td>4</td>\n",
       "      <td>-0.789109</td>\n",
       "      <td>-0.967102</td>\n",
       "      <td>0.941196</td>\n",
       "      <td>0.586821</td>\n",
       "      <td>1</td>\n",
       "      <td>7</td>\n",
       "      <td>5</td>\n",
       "    </tr>\n",
       "    <tr>\n",
       "      <th>4</th>\n",
       "      <td>2</td>\n",
       "      <td>-0.204162</td>\n",
       "      <td>0.205596</td>\n",
       "      <td>0.445233</td>\n",
       "      <td>5</td>\n",
       "      <td>1.280347</td>\n",
       "      <td>1.937142</td>\n",
       "      <td>0.706598</td>\n",
       "      <td>-1.110769</td>\n",
       "      <td>1</td>\n",
       "      <td>7</td>\n",
       "      <td>5</td>\n",
       "    </tr>\n",
       "  </tbody>\n",
       "</table>\n",
       "</div>"
      ],
      "text/plain": [
       "   nc      rssi     rssi1     rssi2  subcarriers  ant1_amplitude  \\\n",
       "0   2 -0.204162  0.205596  0.445233            1        1.210600   \n",
       "1   2 -0.204162  0.205596  0.445233            2       -0.848759   \n",
       "2   2 -0.204162  0.205596  0.445233            3        1.224672   \n",
       "3   2 -0.204162  0.205596  0.445233            4       -0.789109   \n",
       "4   2 -0.204162  0.205596  0.445233            5        1.280347   \n",
       "\n",
       "   ant2_amplitude  ant1_phase  ant2_phase  with_receiver  coord1  coord2  \n",
       "0        1.840597    0.738134   -1.061457              1       7       5  \n",
       "1       -0.978989    0.955270    0.596346              1       7       5  \n",
       "2        1.914379    0.726182   -1.088748              1       7       5  \n",
       "3       -0.967102    0.941196    0.586821              1       7       5  \n",
       "4        1.937142    0.706598   -1.110769              1       7       5  "
      ]
     },
     "execution_count": 4,
     "metadata": {},
     "output_type": "execute_result"
    }
   ],
   "source": [
    "# data = pd.read_csv(\"C:\\Users\\alanx\\OneDrive - The University of Sydney (Students)\\Thesis\\Deep Learning\\wifi_localization\\data\\csv\\ultimate_combined.csv\")\n",
    "# data = pd.read_csv(\"data/csv/ultimate_combined.csv\")\n",
    "data = pd.read_csv(\"data/csv/still_with_receiver/still_with_receiver.csv\")\n",
    "\n",
    "data.head()"
   ]
  },
  {
   "cell_type": "code",
   "execution_count": 5,
   "metadata": {},
   "outputs": [
    {
     "name": "stdout",
     "output_type": "stream",
     "text": [
      "Num GPUs Available:  1\n"
     ]
    }
   ],
   "source": [
    "print(\"Num GPUs Available: \", len(tf.config.list_physical_devices('GPU')))"
   ]
  },
  {
   "cell_type": "code",
   "execution_count": 6,
   "metadata": {},
   "outputs": [
    {
     "name": "stdout",
     "output_type": "stream",
     "text": [
      "['/device:CPU:0', '/device:GPU:0']\n"
     ]
    },
    {
     "name": "stderr",
     "output_type": "stream",
     "text": [
      "I0000 00:00:1728540741.306442   32536 cuda_executor.cc:1015] successful NUMA node read from SysFS had negative value (-1), but there must be at least one NUMA node, so returning NUMA node zero. See more at https://github.com/torvalds/linux/blob/v6.0/Documentation/ABI/testing/sysfs-bus-pci#L344-L355\n",
      "I0000 00:00:1728540741.309006   32536 cuda_executor.cc:1015] successful NUMA node read from SysFS had negative value (-1), but there must be at least one NUMA node, so returning NUMA node zero. See more at https://github.com/torvalds/linux/blob/v6.0/Documentation/ABI/testing/sysfs-bus-pci#L344-L355\n",
      "I0000 00:00:1728540741.311170   32536 cuda_executor.cc:1015] successful NUMA node read from SysFS had negative value (-1), but there must be at least one NUMA node, so returning NUMA node zero. See more at https://github.com/torvalds/linux/blob/v6.0/Documentation/ABI/testing/sysfs-bus-pci#L344-L355\n",
      "I0000 00:00:1728540741.415635   32536 cuda_executor.cc:1015] successful NUMA node read from SysFS had negative value (-1), but there must be at least one NUMA node, so returning NUMA node zero. See more at https://github.com/torvalds/linux/blob/v6.0/Documentation/ABI/testing/sysfs-bus-pci#L344-L355\n",
      "I0000 00:00:1728540741.416928   32536 cuda_executor.cc:1015] successful NUMA node read from SysFS had negative value (-1), but there must be at least one NUMA node, so returning NUMA node zero. See more at https://github.com/torvalds/linux/blob/v6.0/Documentation/ABI/testing/sysfs-bus-pci#L344-L355\n",
      "I0000 00:00:1728540741.417976   32536 cuda_executor.cc:1015] successful NUMA node read from SysFS had negative value (-1), but there must be at least one NUMA node, so returning NUMA node zero. See more at https://github.com/torvalds/linux/blob/v6.0/Documentation/ABI/testing/sysfs-bus-pci#L344-L355\n",
      "2024-10-10 17:12:21.418942: I tensorflow/core/common_runtime/gpu/gpu_device.cc:2021] Created device /device:GPU:0 with 5198 MB memory:  -> device: 0, name: NVIDIA GeForce RTX 3070 Ti, pci bus id: 0000:01:00.0, compute capability: 8.6\n"
     ]
    }
   ],
   "source": [
    "from tensorflow.python.client import device_lib\n",
    "\n",
    "def get_available_devices():\n",
    "    local_device_protos = device_lib.list_local_devices()\n",
    "    return [x.name for x in local_device_protos]\n",
    "\n",
    "print(get_available_devices())"
   ]
  },
  {
   "cell_type": "code",
   "execution_count": 7,
   "metadata": {},
   "outputs": [],
   "source": [
    "# variances = data.var()\n",
    "# print(variances)\n",
    "\n",
    "# low_variance_cols = variances[variances < 5e-3].index.tolist()\n",
    "# print(\"Columns with low or zero variance:\")\n",
    "# print(low_variance_cols)"
   ]
  },
  {
   "cell_type": "code",
   "execution_count": 5,
   "metadata": {},
   "outputs": [
    {
     "data": {
      "text/html": [
       "<div>\n",
       "<style scoped>\n",
       "    .dataframe tbody tr th:only-of-type {\n",
       "        vertical-align: middle;\n",
       "    }\n",
       "\n",
       "    .dataframe tbody tr th {\n",
       "        vertical-align: top;\n",
       "    }\n",
       "\n",
       "    .dataframe thead th {\n",
       "        text-align: right;\n",
       "    }\n",
       "</style>\n",
       "<table border=\"1\" class=\"dataframe\">\n",
       "  <thead>\n",
       "    <tr style=\"text-align: right;\">\n",
       "      <th></th>\n",
       "      <th>nc</th>\n",
       "      <th>rssi</th>\n",
       "      <th>rssi1</th>\n",
       "      <th>rssi2</th>\n",
       "      <th>subcarriers</th>\n",
       "      <th>ant1_amplitude</th>\n",
       "      <th>ant2_amplitude</th>\n",
       "      <th>ant1_phase</th>\n",
       "      <th>ant2_phase</th>\n",
       "      <th>coord1</th>\n",
       "      <th>coord2</th>\n",
       "    </tr>\n",
       "  </thead>\n",
       "  <tbody>\n",
       "    <tr>\n",
       "      <th>0</th>\n",
       "      <td>2</td>\n",
       "      <td>-0.204162</td>\n",
       "      <td>0.205596</td>\n",
       "      <td>0.445233</td>\n",
       "      <td>1</td>\n",
       "      <td>1.210600</td>\n",
       "      <td>1.840597</td>\n",
       "      <td>0.738134</td>\n",
       "      <td>-1.061457</td>\n",
       "      <td>7</td>\n",
       "      <td>5</td>\n",
       "    </tr>\n",
       "    <tr>\n",
       "      <th>1</th>\n",
       "      <td>2</td>\n",
       "      <td>-0.204162</td>\n",
       "      <td>0.205596</td>\n",
       "      <td>0.445233</td>\n",
       "      <td>2</td>\n",
       "      <td>-0.848759</td>\n",
       "      <td>-0.978989</td>\n",
       "      <td>0.955270</td>\n",
       "      <td>0.596346</td>\n",
       "      <td>7</td>\n",
       "      <td>5</td>\n",
       "    </tr>\n",
       "    <tr>\n",
       "      <th>2</th>\n",
       "      <td>2</td>\n",
       "      <td>-0.204162</td>\n",
       "      <td>0.205596</td>\n",
       "      <td>0.445233</td>\n",
       "      <td>3</td>\n",
       "      <td>1.224672</td>\n",
       "      <td>1.914379</td>\n",
       "      <td>0.726182</td>\n",
       "      <td>-1.088748</td>\n",
       "      <td>7</td>\n",
       "      <td>5</td>\n",
       "    </tr>\n",
       "    <tr>\n",
       "      <th>3</th>\n",
       "      <td>2</td>\n",
       "      <td>-0.204162</td>\n",
       "      <td>0.205596</td>\n",
       "      <td>0.445233</td>\n",
       "      <td>4</td>\n",
       "      <td>-0.789109</td>\n",
       "      <td>-0.967102</td>\n",
       "      <td>0.941196</td>\n",
       "      <td>0.586821</td>\n",
       "      <td>7</td>\n",
       "      <td>5</td>\n",
       "    </tr>\n",
       "    <tr>\n",
       "      <th>4</th>\n",
       "      <td>2</td>\n",
       "      <td>-0.204162</td>\n",
       "      <td>0.205596</td>\n",
       "      <td>0.445233</td>\n",
       "      <td>5</td>\n",
       "      <td>1.280347</td>\n",
       "      <td>1.937142</td>\n",
       "      <td>0.706598</td>\n",
       "      <td>-1.110769</td>\n",
       "      <td>7</td>\n",
       "      <td>5</td>\n",
       "    </tr>\n",
       "  </tbody>\n",
       "</table>\n",
       "</div>"
      ],
      "text/plain": [
       "   nc      rssi     rssi1     rssi2  subcarriers  ant1_amplitude  \\\n",
       "0   2 -0.204162  0.205596  0.445233            1        1.210600   \n",
       "1   2 -0.204162  0.205596  0.445233            2       -0.848759   \n",
       "2   2 -0.204162  0.205596  0.445233            3        1.224672   \n",
       "3   2 -0.204162  0.205596  0.445233            4       -0.789109   \n",
       "4   2 -0.204162  0.205596  0.445233            5        1.280347   \n",
       "\n",
       "   ant2_amplitude  ant1_phase  ant2_phase  coord1  coord2  \n",
       "0        1.840597    0.738134   -1.061457       7       5  \n",
       "1       -0.978989    0.955270    0.596346       7       5  \n",
       "2        1.914379    0.726182   -1.088748       7       5  \n",
       "3       -0.967102    0.941196    0.586821       7       5  \n",
       "4        1.937142    0.706598   -1.110769       7       5  "
      ]
     },
     "execution_count": 5,
     "metadata": {},
     "output_type": "execute_result"
    }
   ],
   "source": [
    "# # Drop constant columns and timeframe from the DataFrame\n",
    "# data.drop(low_variance_cols, axis=1, inplace=True)\n",
    "# data.drop(['csi_len', 'rate', 'payload_length', 'block_length'], axis=1, inplace=True)\n",
    "# data.drop('timestamps', axis=1, inplace=True)\n",
    "# data.head()"
   ]
  },
  {
   "cell_type": "code",
   "execution_count": 9,
   "metadata": {},
   "outputs": [
    {
     "data": {
      "text/html": [
       "<div>\n",
       "<style scoped>\n",
       "    .dataframe tbody tr th:only-of-type {\n",
       "        vertical-align: middle;\n",
       "    }\n",
       "\n",
       "    .dataframe tbody tr th {\n",
       "        vertical-align: top;\n",
       "    }\n",
       "\n",
       "    .dataframe thead th {\n",
       "        text-align: right;\n",
       "    }\n",
       "</style>\n",
       "<table border=\"1\" class=\"dataframe\">\n",
       "  <thead>\n",
       "    <tr style=\"text-align: right;\">\n",
       "      <th></th>\n",
       "      <th>nc</th>\n",
       "      <th>rssi</th>\n",
       "      <th>rssi1</th>\n",
       "      <th>rssi2</th>\n",
       "      <th>subcarriers</th>\n",
       "      <th>ant1_amplitude</th>\n",
       "      <th>ant2_amplitude</th>\n",
       "      <th>ant1_phase</th>\n",
       "      <th>ant2_phase</th>\n",
       "      <th>with_receiver</th>\n",
       "      <th>coord1</th>\n",
       "      <th>coord2</th>\n",
       "    </tr>\n",
       "  </thead>\n",
       "  <tbody>\n",
       "    <tr>\n",
       "      <th>0</th>\n",
       "      <td>1</td>\n",
       "      <td>-0.847627</td>\n",
       "      <td>-0.516768</td>\n",
       "      <td>-0.887673</td>\n",
       "      <td>1</td>\n",
       "      <td>0.010022</td>\n",
       "      <td>0.618786</td>\n",
       "      <td>1.632356</td>\n",
       "      <td>0.090399</td>\n",
       "      <td>0</td>\n",
       "      <td>6</td>\n",
       "      <td>2</td>\n",
       "    </tr>\n",
       "    <tr>\n",
       "      <th>1</th>\n",
       "      <td>1</td>\n",
       "      <td>-0.847627</td>\n",
       "      <td>-0.516768</td>\n",
       "      <td>-0.887673</td>\n",
       "      <td>2</td>\n",
       "      <td>-0.019491</td>\n",
       "      <td>0.672789</td>\n",
       "      <td>1.613112</td>\n",
       "      <td>0.078000</td>\n",
       "      <td>0</td>\n",
       "      <td>6</td>\n",
       "      <td>2</td>\n",
       "    </tr>\n",
       "    <tr>\n",
       "      <th>2</th>\n",
       "      <td>1</td>\n",
       "      <td>-0.847627</td>\n",
       "      <td>-0.516768</td>\n",
       "      <td>-0.887673</td>\n",
       "      <td>3</td>\n",
       "      <td>-0.035476</td>\n",
       "      <td>0.618856</td>\n",
       "      <td>1.575681</td>\n",
       "      <td>0.075098</td>\n",
       "      <td>0</td>\n",
       "      <td>6</td>\n",
       "      <td>2</td>\n",
       "    </tr>\n",
       "    <tr>\n",
       "      <th>3</th>\n",
       "      <td>1</td>\n",
       "      <td>-0.847627</td>\n",
       "      <td>-0.516768</td>\n",
       "      <td>-0.887673</td>\n",
       "      <td>4</td>\n",
       "      <td>-0.085177</td>\n",
       "      <td>0.598500</td>\n",
       "      <td>1.568844</td>\n",
       "      <td>0.063920</td>\n",
       "      <td>0</td>\n",
       "      <td>6</td>\n",
       "      <td>2</td>\n",
       "    </tr>\n",
       "    <tr>\n",
       "      <th>4</th>\n",
       "      <td>1</td>\n",
       "      <td>-0.847627</td>\n",
       "      <td>-0.516768</td>\n",
       "      <td>-0.887673</td>\n",
       "      <td>5</td>\n",
       "      <td>-0.108754</td>\n",
       "      <td>0.759250</td>\n",
       "      <td>1.580504</td>\n",
       "      <td>0.050930</td>\n",
       "      <td>0</td>\n",
       "      <td>6</td>\n",
       "      <td>2</td>\n",
       "    </tr>\n",
       "  </tbody>\n",
       "</table>\n",
       "</div>"
      ],
      "text/plain": [
       "   nc      rssi     rssi1     rssi2  subcarriers  ant1_amplitude  \\\n",
       "0   1 -0.847627 -0.516768 -0.887673            1        0.010022   \n",
       "1   1 -0.847627 -0.516768 -0.887673            2       -0.019491   \n",
       "2   1 -0.847627 -0.516768 -0.887673            3       -0.035476   \n",
       "3   1 -0.847627 -0.516768 -0.887673            4       -0.085177   \n",
       "4   1 -0.847627 -0.516768 -0.887673            5       -0.108754   \n",
       "\n",
       "   ant2_amplitude  ant1_phase  ant2_phase  with_receiver  coord1  coord2  \n",
       "0        0.618786    1.632356    0.090399              0       6       2  \n",
       "1        0.672789    1.613112    0.078000              0       6       2  \n",
       "2        0.618856    1.575681    0.075098              0       6       2  \n",
       "3        0.598500    1.568844    0.063920              0       6       2  \n",
       "4        0.759250    1.580504    0.050930              0       6       2  "
      ]
     },
     "execution_count": 9,
     "metadata": {},
     "output_type": "execute_result"
    }
   ],
   "source": [
    "# # features_to_scale = ['csi_len', 'payload_length', 'block_length', 'ant1_amplitude', 'ant2_amplitude', 'ant1_phase', 'ant2_phase', 'rssi', 'rssi1', 'rssi2']\n",
    "# features_to_scale = ['ant1_amplitude', 'ant2_amplitude', 'ant1_phase', 'ant2_phase', 'rssi', 'rssi1', 'rssi2']\n",
    "# features_to_scale = ['ant1_amplitude', 'ant2_amplitude']\n",
    "# scaler = StandardScaler()\n",
    "\n",
    "# # Apply standardization on features\n",
    "# # data = data_cleaned.copy()\n",
    "# data[features_to_scale] = scaler.fit_transform(data[features_to_scale])\n",
    "# data.head()"
   ]
  },
  {
   "cell_type": "code",
   "execution_count": 10,
   "metadata": {},
   "outputs": [],
   "source": [
    "# # Step 1: Extract your data (using the amplitude data as an example)\n",
    "# X = data[['ant1_amplitude', 'ant2_amplitude']].values\n",
    "\n",
    "# # Step 2: Use Nearest Neighbors to find the k nearest neighbors\n",
    "# k = 49  # min_samples - 1 for DBSCAN, for example, min_samples = 5, so k = 4\n",
    "# neighbors = NearestNeighbors(n_neighbors=k)\n",
    "# neighbors_fit = neighbors.fit(X)\n",
    "# distances, indices = neighbors_fit.kneighbors(X)\n",
    "\n",
    "# # Step 3: Sort the distances to the k-th nearest neighbor\n",
    "# # The distance to the k-th nearest neighbor is in the last column (index k-1)\n",
    "# k_distances = distances[:, k-1]\n",
    "# k_distances = np.sort(k_distances)\n",
    "\n",
    "# # Step 4: Plot the sorted k-distance graph\n",
    "# plt.figure(figsize=(8, 5))\n",
    "# plt.plot(k_distances)\n",
    "# plt.xlabel('Points sorted by distance to {}-th nearest neighbor'.format(k))\n",
    "# plt.ylabel('{}-th nearest neighbor distance'.format(k))\n",
    "# plt.title('K-Distance Graph (Elbow Method for DBSCAN)')\n",
    "# plt.grid(True)\n",
    "# plt.show()"
   ]
  },
  {
   "cell_type": "code",
   "execution_count": 11,
   "metadata": {},
   "outputs": [],
   "source": [
    "# amplitudes = data[['ant1_amplitude', 'ant2_amplitude']].values"
   ]
  },
  {
   "cell_type": "code",
   "execution_count": 12,
   "metadata": {},
   "outputs": [],
   "source": [
    "# dbscan = hdbscan.HDBSCAN(min_samples=10, core_dist_n_jobs=-1)"
   ]
  },
  {
   "cell_type": "code",
   "execution_count": 13,
   "metadata": {},
   "outputs": [],
   "source": [
    "# dbscan = DBSCAN(eps=0.1, min_samples=50)"
   ]
  },
  {
   "cell_type": "code",
   "execution_count": 14,
   "metadata": {},
   "outputs": [],
   "source": [
    "# data_sample = data.sample(frac=0.1)\n",
    "# amplitudes = data_sample[['ant1_amplitude', 'ant2_amplitude']].values"
   ]
  },
  {
   "cell_type": "code",
   "execution_count": 15,
   "metadata": {},
   "outputs": [],
   "source": [
    "# dbscan.fit(amplitudes)"
   ]
  },
  {
   "cell_type": "code",
   "execution_count": 16,
   "metadata": {},
   "outputs": [],
   "source": [
    "# # Step 4: Add the cluster labels to the dataframe\n",
    "# data['cluster'] = dbscan.labels_\n",
    "\n",
    "# data.head()\n",
    "\n",
    "# # Step 5: Visualize the clusters\n",
    "# plt.scatter(data['ant1_amplitude'], data['ant2_amplitude'], c=data['cluster'], cmap='viridis', alpha=0.6)\n",
    "# plt.xlabel('Ant1 Amplitude')\n",
    "# plt.ylabel('Ant2 Amplitude')\n",
    "# plt.title('DBSCAN Clustering on Amplitude Data')\n",
    "# plt.colorbar(label='Cluster Label')\n",
    "# plt.show()"
   ]
  },
  {
   "cell_type": "code",
   "execution_count": 17,
   "metadata": {},
   "outputs": [],
   "source": [
    "data.drop('with_receiver', axis=1, inplace=True)"
   ]
  },
  {
   "cell_type": "code",
   "execution_count": 6,
   "metadata": {},
   "outputs": [
    {
     "data": {
      "text/html": [
       "<div>\n",
       "<style scoped>\n",
       "    .dataframe tbody tr th:only-of-type {\n",
       "        vertical-align: middle;\n",
       "    }\n",
       "\n",
       "    .dataframe tbody tr th {\n",
       "        vertical-align: top;\n",
       "    }\n",
       "\n",
       "    .dataframe thead th {\n",
       "        text-align: right;\n",
       "    }\n",
       "</style>\n",
       "<table border=\"1\" class=\"dataframe\">\n",
       "  <thead>\n",
       "    <tr style=\"text-align: right;\">\n",
       "      <th></th>\n",
       "      <th>nc</th>\n",
       "      <th>rssi</th>\n",
       "      <th>rssi1</th>\n",
       "      <th>rssi2</th>\n",
       "      <th>ant1_amplitude</th>\n",
       "      <th>ant2_amplitude</th>\n",
       "      <th>ant1_phase</th>\n",
       "      <th>ant2_phase</th>\n",
       "      <th>coord1</th>\n",
       "      <th>coord2</th>\n",
       "      <th>...</th>\n",
       "      <th>subcarrier_47</th>\n",
       "      <th>subcarrier_48</th>\n",
       "      <th>subcarrier_49</th>\n",
       "      <th>subcarrier_50</th>\n",
       "      <th>subcarrier_51</th>\n",
       "      <th>subcarrier_52</th>\n",
       "      <th>subcarrier_53</th>\n",
       "      <th>subcarrier_54</th>\n",
       "      <th>subcarrier_55</th>\n",
       "      <th>subcarrier_56</th>\n",
       "    </tr>\n",
       "  </thead>\n",
       "  <tbody>\n",
       "    <tr>\n",
       "      <th>0</th>\n",
       "      <td>2</td>\n",
       "      <td>-0.204162</td>\n",
       "      <td>0.205596</td>\n",
       "      <td>0.445233</td>\n",
       "      <td>1.210600</td>\n",
       "      <td>1.840597</td>\n",
       "      <td>0.738134</td>\n",
       "      <td>-1.061457</td>\n",
       "      <td>7</td>\n",
       "      <td>5</td>\n",
       "      <td>...</td>\n",
       "      <td>False</td>\n",
       "      <td>False</td>\n",
       "      <td>False</td>\n",
       "      <td>False</td>\n",
       "      <td>False</td>\n",
       "      <td>False</td>\n",
       "      <td>False</td>\n",
       "      <td>False</td>\n",
       "      <td>False</td>\n",
       "      <td>False</td>\n",
       "    </tr>\n",
       "    <tr>\n",
       "      <th>1</th>\n",
       "      <td>2</td>\n",
       "      <td>-0.204162</td>\n",
       "      <td>0.205596</td>\n",
       "      <td>0.445233</td>\n",
       "      <td>-0.848759</td>\n",
       "      <td>-0.978989</td>\n",
       "      <td>0.955270</td>\n",
       "      <td>0.596346</td>\n",
       "      <td>7</td>\n",
       "      <td>5</td>\n",
       "      <td>...</td>\n",
       "      <td>False</td>\n",
       "      <td>False</td>\n",
       "      <td>False</td>\n",
       "      <td>False</td>\n",
       "      <td>False</td>\n",
       "      <td>False</td>\n",
       "      <td>False</td>\n",
       "      <td>False</td>\n",
       "      <td>False</td>\n",
       "      <td>False</td>\n",
       "    </tr>\n",
       "    <tr>\n",
       "      <th>2</th>\n",
       "      <td>2</td>\n",
       "      <td>-0.204162</td>\n",
       "      <td>0.205596</td>\n",
       "      <td>0.445233</td>\n",
       "      <td>1.224672</td>\n",
       "      <td>1.914379</td>\n",
       "      <td>0.726182</td>\n",
       "      <td>-1.088748</td>\n",
       "      <td>7</td>\n",
       "      <td>5</td>\n",
       "      <td>...</td>\n",
       "      <td>False</td>\n",
       "      <td>False</td>\n",
       "      <td>False</td>\n",
       "      <td>False</td>\n",
       "      <td>False</td>\n",
       "      <td>False</td>\n",
       "      <td>False</td>\n",
       "      <td>False</td>\n",
       "      <td>False</td>\n",
       "      <td>False</td>\n",
       "    </tr>\n",
       "    <tr>\n",
       "      <th>3</th>\n",
       "      <td>2</td>\n",
       "      <td>-0.204162</td>\n",
       "      <td>0.205596</td>\n",
       "      <td>0.445233</td>\n",
       "      <td>-0.789109</td>\n",
       "      <td>-0.967102</td>\n",
       "      <td>0.941196</td>\n",
       "      <td>0.586821</td>\n",
       "      <td>7</td>\n",
       "      <td>5</td>\n",
       "      <td>...</td>\n",
       "      <td>False</td>\n",
       "      <td>False</td>\n",
       "      <td>False</td>\n",
       "      <td>False</td>\n",
       "      <td>False</td>\n",
       "      <td>False</td>\n",
       "      <td>False</td>\n",
       "      <td>False</td>\n",
       "      <td>False</td>\n",
       "      <td>False</td>\n",
       "    </tr>\n",
       "    <tr>\n",
       "      <th>4</th>\n",
       "      <td>2</td>\n",
       "      <td>-0.204162</td>\n",
       "      <td>0.205596</td>\n",
       "      <td>0.445233</td>\n",
       "      <td>1.280347</td>\n",
       "      <td>1.937142</td>\n",
       "      <td>0.706598</td>\n",
       "      <td>-1.110769</td>\n",
       "      <td>7</td>\n",
       "      <td>5</td>\n",
       "      <td>...</td>\n",
       "      <td>False</td>\n",
       "      <td>False</td>\n",
       "      <td>False</td>\n",
       "      <td>False</td>\n",
       "      <td>False</td>\n",
       "      <td>False</td>\n",
       "      <td>False</td>\n",
       "      <td>False</td>\n",
       "      <td>False</td>\n",
       "      <td>False</td>\n",
       "    </tr>\n",
       "  </tbody>\n",
       "</table>\n",
       "<p>5 rows × 66 columns</p>\n",
       "</div>"
      ],
      "text/plain": [
       "   nc      rssi     rssi1     rssi2  ant1_amplitude  ant2_amplitude  \\\n",
       "0   2 -0.204162  0.205596  0.445233        1.210600        1.840597   \n",
       "1   2 -0.204162  0.205596  0.445233       -0.848759       -0.978989   \n",
       "2   2 -0.204162  0.205596  0.445233        1.224672        1.914379   \n",
       "3   2 -0.204162  0.205596  0.445233       -0.789109       -0.967102   \n",
       "4   2 -0.204162  0.205596  0.445233        1.280347        1.937142   \n",
       "\n",
       "   ant1_phase  ant2_phase  coord1  coord2  ...  subcarrier_47  subcarrier_48  \\\n",
       "0    0.738134   -1.061457       7       5  ...          False          False   \n",
       "1    0.955270    0.596346       7       5  ...          False          False   \n",
       "2    0.726182   -1.088748       7       5  ...          False          False   \n",
       "3    0.941196    0.586821       7       5  ...          False          False   \n",
       "4    0.706598   -1.110769       7       5  ...          False          False   \n",
       "\n",
       "   subcarrier_49  subcarrier_50  subcarrier_51  subcarrier_52  subcarrier_53  \\\n",
       "0          False          False          False          False          False   \n",
       "1          False          False          False          False          False   \n",
       "2          False          False          False          False          False   \n",
       "3          False          False          False          False          False   \n",
       "4          False          False          False          False          False   \n",
       "\n",
       "   subcarrier_54  subcarrier_55  subcarrier_56  \n",
       "0          False          False          False  \n",
       "1          False          False          False  \n",
       "2          False          False          False  \n",
       "3          False          False          False  \n",
       "4          False          False          False  \n",
       "\n",
       "[5 rows x 66 columns]"
      ]
     },
     "execution_count": 6,
     "metadata": {},
     "output_type": "execute_result"
    }
   ],
   "source": [
    "data = pd.concat([data, pd.get_dummies(data['subcarriers'], prefix='subcarrier')], axis=1)\n",
    "data.drop('subcarriers', axis=1, inplace=True)\n",
    "data.head()"
   ]
  },
  {
   "cell_type": "markdown",
   "metadata": {},
   "source": [
    "# Model"
   ]
  },
  {
   "cell_type": "code",
   "execution_count": 7,
   "metadata": {},
   "outputs": [],
   "source": [
    "model_type = \"dnn\""
   ]
  },
  {
   "cell_type": "code",
   "execution_count": 8,
   "metadata": {},
   "outputs": [],
   "source": [
    "X = data.drop(columns=['coord1', 'coord2']) \n",
    "y = data[['coord1', 'coord2']]\n",
    "\n",
    "# X = X.values.astype(np.float32)\n",
    "# y = y.values.astype(np.float32)"
   ]
  },
  {
   "cell_type": "code",
   "execution_count": 9,
   "metadata": {},
   "outputs": [],
   "source": [
    "# np.save('preprocessed_X.npy', X)\n",
    "# np.save('preprocessed_y.npy', y)"
   ]
  },
  {
   "cell_type": "code",
   "execution_count": 10,
   "metadata": {},
   "outputs": [],
   "source": [
    "# X = np.load('preprocessed_X.npy')\n",
    "# y = np.load('preprocessed_y.npy')"
   ]
  },
  {
   "cell_type": "code",
   "execution_count": 11,
   "metadata": {},
   "outputs": [],
   "source": [
    "# dataset = tf.data.Dataset.from_tensor_slices((X, y))\n",
    "\n",
    "# batch_size = 128  # Adjust based on your GPU memory\n",
    "\n",
    "# dataset = dataset.shuffle(buffer_size=10000)\n",
    "# dataset = dataset.batch(batch_size)\n",
    "# dataset = dataset.prefetch(tf.data.AUTOTUNE)"
   ]
  },
  {
   "cell_type": "code",
   "execution_count": 12,
   "metadata": {},
   "outputs": [
    {
     "name": "stdout",
     "output_type": "stream",
     "text": [
      "Training set shape: (2651006, 64)\n",
      "Validation set shape: (883669, 64)\n",
      "Test set shape: (883669, 64)\n"
     ]
    }
   ],
   "source": [
    "# First, split the data into training and a temporary set (which will later be split into validation and test sets)\n",
    "X_train, X_temp, y_train, y_temp = train_test_split(X, y, test_size=0.4, random_state=42)  # 60% train, 40% temp\n",
    "\n",
    "# Now, split the temporary set into validation and test sets\n",
    "X_val, X_test, y_val, y_test = train_test_split(X_temp, y_temp, test_size=0.5, random_state=42)  # 20% val, 20% test\n",
    "\n",
    "# Check the shapes of your splits\n",
    "print(\"Training set shape:\", X_train.shape)\n",
    "print(\"Validation set shape:\", X_val.shape)\n",
    "print(\"Test set shape:\", X_test.shape)"
   ]
  },
  {
   "cell_type": "code",
   "execution_count": 13,
   "metadata": {},
   "outputs": [
    {
     "name": "stderr",
     "output_type": "stream",
     "text": [
      "/home/alan-xie/Documents/Thesis/wifi_localization/.venv/lib/python3.10/site-packages/keras/src/layers/core/input_layer.py:26: UserWarning: Argument `input_shape` is deprecated. Use `shape` instead.\n",
      "  warnings.warn(\n",
      "I0000 00:00:1728573406.917366    5933 cuda_executor.cc:1015] successful NUMA node read from SysFS had negative value (-1), but there must be at least one NUMA node, so returning NUMA node zero. See more at https://github.com/torvalds/linux/blob/v6.0/Documentation/ABI/testing/sysfs-bus-pci#L344-L355\n",
      "I0000 00:00:1728573406.919885    5933 cuda_executor.cc:1015] successful NUMA node read from SysFS had negative value (-1), but there must be at least one NUMA node, so returning NUMA node zero. See more at https://github.com/torvalds/linux/blob/v6.0/Documentation/ABI/testing/sysfs-bus-pci#L344-L355\n",
      "I0000 00:00:1728573406.921877    5933 cuda_executor.cc:1015] successful NUMA node read from SysFS had negative value (-1), but there must be at least one NUMA node, so returning NUMA node zero. See more at https://github.com/torvalds/linux/blob/v6.0/Documentation/ABI/testing/sysfs-bus-pci#L344-L355\n",
      "I0000 00:00:1728573407.016690    5933 cuda_executor.cc:1015] successful NUMA node read from SysFS had negative value (-1), but there must be at least one NUMA node, so returning NUMA node zero. See more at https://github.com/torvalds/linux/blob/v6.0/Documentation/ABI/testing/sysfs-bus-pci#L344-L355\n",
      "I0000 00:00:1728573407.018420    5933 cuda_executor.cc:1015] successful NUMA node read from SysFS had negative value (-1), but there must be at least one NUMA node, so returning NUMA node zero. See more at https://github.com/torvalds/linux/blob/v6.0/Documentation/ABI/testing/sysfs-bus-pci#L344-L355\n",
      "I0000 00:00:1728573407.019582    5933 cuda_executor.cc:1015] successful NUMA node read from SysFS had negative value (-1), but there must be at least one NUMA node, so returning NUMA node zero. See more at https://github.com/torvalds/linux/blob/v6.0/Documentation/ABI/testing/sysfs-bus-pci#L344-L355\n",
      "2024-10-11 02:16:47.020726: I tensorflow/core/common_runtime/gpu/gpu_device.cc:2021] Created device /job:localhost/replica:0/task:0/device:GPU:0 with 5521 MB memory:  -> device: 0, name: NVIDIA GeForce RTX 3070 Ti, pci bus id: 0000:01:00.0, compute capability: 8.6\n"
     ]
    },
    {
     "data": {
      "text/html": [
       "<pre style=\"white-space:pre;overflow-x:auto;line-height:normal;font-family:Menlo,'DejaVu Sans Mono',consolas,'Courier New',monospace\"><span style=\"font-weight: bold\">Model: \"sequential\"</span>\n",
       "</pre>\n"
      ],
      "text/plain": [
       "\u001b[1mModel: \"sequential\"\u001b[0m\n"
      ]
     },
     "metadata": {},
     "output_type": "display_data"
    },
    {
     "data": {
      "text/html": [
       "<pre style=\"white-space:pre;overflow-x:auto;line-height:normal;font-family:Menlo,'DejaVu Sans Mono',consolas,'Courier New',monospace\">┏━━━━━━━━━━━━━━━━━━━━━━━━━━━━━━━━━┳━━━━━━━━━━━━━━━━━━━━━━━━┳━━━━━━━━━━━━━━━┓\n",
       "┃<span style=\"font-weight: bold\"> Layer (type)                    </span>┃<span style=\"font-weight: bold\"> Output Shape           </span>┃<span style=\"font-weight: bold\">       Param # </span>┃\n",
       "┡━━━━━━━━━━━━━━━━━━━━━━━━━━━━━━━━━╇━━━━━━━━━━━━━━━━━━━━━━━━╇━━━━━━━━━━━━━━━┩\n",
       "│ dense (<span style=\"color: #0087ff; text-decoration-color: #0087ff\">Dense</span>)                   │ (<span style=\"color: #00d7ff; text-decoration-color: #00d7ff\">None</span>, <span style=\"color: #00af00; text-decoration-color: #00af00\">2048</span>)           │       <span style=\"color: #00af00; text-decoration-color: #00af00\">133,120</span> │\n",
       "├─────────────────────────────────┼────────────────────────┼───────────────┤\n",
       "│ dense_1 (<span style=\"color: #0087ff; text-decoration-color: #0087ff\">Dense</span>)                 │ (<span style=\"color: #00d7ff; text-decoration-color: #00d7ff\">None</span>, <span style=\"color: #00af00; text-decoration-color: #00af00\">2048</span>)           │     <span style=\"color: #00af00; text-decoration-color: #00af00\">4,196,352</span> │\n",
       "├─────────────────────────────────┼────────────────────────┼───────────────┤\n",
       "│ dense_2 (<span style=\"color: #0087ff; text-decoration-color: #0087ff\">Dense</span>)                 │ (<span style=\"color: #00d7ff; text-decoration-color: #00d7ff\">None</span>, <span style=\"color: #00af00; text-decoration-color: #00af00\">2048</span>)           │     <span style=\"color: #00af00; text-decoration-color: #00af00\">4,196,352</span> │\n",
       "├─────────────────────────────────┼────────────────────────┼───────────────┤\n",
       "│ dense_3 (<span style=\"color: #0087ff; text-decoration-color: #0087ff\">Dense</span>)                 │ (<span style=\"color: #00d7ff; text-decoration-color: #00d7ff\">None</span>, <span style=\"color: #00af00; text-decoration-color: #00af00\">1024</span>)           │     <span style=\"color: #00af00; text-decoration-color: #00af00\">2,098,176</span> │\n",
       "├─────────────────────────────────┼────────────────────────┼───────────────┤\n",
       "│ dense_4 (<span style=\"color: #0087ff; text-decoration-color: #0087ff\">Dense</span>)                 │ (<span style=\"color: #00d7ff; text-decoration-color: #00d7ff\">None</span>, <span style=\"color: #00af00; text-decoration-color: #00af00\">512</span>)            │       <span style=\"color: #00af00; text-decoration-color: #00af00\">524,800</span> │\n",
       "├─────────────────────────────────┼────────────────────────┼───────────────┤\n",
       "│ dense_5 (<span style=\"color: #0087ff; text-decoration-color: #0087ff\">Dense</span>)                 │ (<span style=\"color: #00d7ff; text-decoration-color: #00d7ff\">None</span>, <span style=\"color: #00af00; text-decoration-color: #00af00\">256</span>)            │       <span style=\"color: #00af00; text-decoration-color: #00af00\">131,328</span> │\n",
       "├─────────────────────────────────┼────────────────────────┼───────────────┤\n",
       "│ dense_6 (<span style=\"color: #0087ff; text-decoration-color: #0087ff\">Dense</span>)                 │ (<span style=\"color: #00d7ff; text-decoration-color: #00d7ff\">None</span>, <span style=\"color: #00af00; text-decoration-color: #00af00\">128</span>)            │        <span style=\"color: #00af00; text-decoration-color: #00af00\">32,896</span> │\n",
       "├─────────────────────────────────┼────────────────────────┼───────────────┤\n",
       "│ dense_7 (<span style=\"color: #0087ff; text-decoration-color: #0087ff\">Dense</span>)                 │ (<span style=\"color: #00d7ff; text-decoration-color: #00d7ff\">None</span>, <span style=\"color: #00af00; text-decoration-color: #00af00\">64</span>)             │         <span style=\"color: #00af00; text-decoration-color: #00af00\">8,256</span> │\n",
       "├─────────────────────────────────┼────────────────────────┼───────────────┤\n",
       "│ dense_8 (<span style=\"color: #0087ff; text-decoration-color: #0087ff\">Dense</span>)                 │ (<span style=\"color: #00d7ff; text-decoration-color: #00d7ff\">None</span>, <span style=\"color: #00af00; text-decoration-color: #00af00\">32</span>)             │         <span style=\"color: #00af00; text-decoration-color: #00af00\">2,080</span> │\n",
       "├─────────────────────────────────┼────────────────────────┼───────────────┤\n",
       "│ dense_9 (<span style=\"color: #0087ff; text-decoration-color: #0087ff\">Dense</span>)                 │ (<span style=\"color: #00d7ff; text-decoration-color: #00d7ff\">None</span>, <span style=\"color: #00af00; text-decoration-color: #00af00\">16</span>)             │           <span style=\"color: #00af00; text-decoration-color: #00af00\">528</span> │\n",
       "├─────────────────────────────────┼────────────────────────┼───────────────┤\n",
       "│ dense_10 (<span style=\"color: #0087ff; text-decoration-color: #0087ff\">Dense</span>)                │ (<span style=\"color: #00d7ff; text-decoration-color: #00d7ff\">None</span>, <span style=\"color: #00af00; text-decoration-color: #00af00\">2</span>)              │            <span style=\"color: #00af00; text-decoration-color: #00af00\">34</span> │\n",
       "└─────────────────────────────────┴────────────────────────┴───────────────┘\n",
       "</pre>\n"
      ],
      "text/plain": [
       "┏━━━━━━━━━━━━━━━━━━━━━━━━━━━━━━━━━┳━━━━━━━━━━━━━━━━━━━━━━━━┳━━━━━━━━━━━━━━━┓\n",
       "┃\u001b[1m \u001b[0m\u001b[1mLayer (type)                   \u001b[0m\u001b[1m \u001b[0m┃\u001b[1m \u001b[0m\u001b[1mOutput Shape          \u001b[0m\u001b[1m \u001b[0m┃\u001b[1m \u001b[0m\u001b[1m      Param #\u001b[0m\u001b[1m \u001b[0m┃\n",
       "┡━━━━━━━━━━━━━━━━━━━━━━━━━━━━━━━━━╇━━━━━━━━━━━━━━━━━━━━━━━━╇━━━━━━━━━━━━━━━┩\n",
       "│ dense (\u001b[38;5;33mDense\u001b[0m)                   │ (\u001b[38;5;45mNone\u001b[0m, \u001b[38;5;34m2048\u001b[0m)           │       \u001b[38;5;34m133,120\u001b[0m │\n",
       "├─────────────────────────────────┼────────────────────────┼───────────────┤\n",
       "│ dense_1 (\u001b[38;5;33mDense\u001b[0m)                 │ (\u001b[38;5;45mNone\u001b[0m, \u001b[38;5;34m2048\u001b[0m)           │     \u001b[38;5;34m4,196,352\u001b[0m │\n",
       "├─────────────────────────────────┼────────────────────────┼───────────────┤\n",
       "│ dense_2 (\u001b[38;5;33mDense\u001b[0m)                 │ (\u001b[38;5;45mNone\u001b[0m, \u001b[38;5;34m2048\u001b[0m)           │     \u001b[38;5;34m4,196,352\u001b[0m │\n",
       "├─────────────────────────────────┼────────────────────────┼───────────────┤\n",
       "│ dense_3 (\u001b[38;5;33mDense\u001b[0m)                 │ (\u001b[38;5;45mNone\u001b[0m, \u001b[38;5;34m1024\u001b[0m)           │     \u001b[38;5;34m2,098,176\u001b[0m │\n",
       "├─────────────────────────────────┼────────────────────────┼───────────────┤\n",
       "│ dense_4 (\u001b[38;5;33mDense\u001b[0m)                 │ (\u001b[38;5;45mNone\u001b[0m, \u001b[38;5;34m512\u001b[0m)            │       \u001b[38;5;34m524,800\u001b[0m │\n",
       "├─────────────────────────────────┼────────────────────────┼───────────────┤\n",
       "│ dense_5 (\u001b[38;5;33mDense\u001b[0m)                 │ (\u001b[38;5;45mNone\u001b[0m, \u001b[38;5;34m256\u001b[0m)            │       \u001b[38;5;34m131,328\u001b[0m │\n",
       "├─────────────────────────────────┼────────────────────────┼───────────────┤\n",
       "│ dense_6 (\u001b[38;5;33mDense\u001b[0m)                 │ (\u001b[38;5;45mNone\u001b[0m, \u001b[38;5;34m128\u001b[0m)            │        \u001b[38;5;34m32,896\u001b[0m │\n",
       "├─────────────────────────────────┼────────────────────────┼───────────────┤\n",
       "│ dense_7 (\u001b[38;5;33mDense\u001b[0m)                 │ (\u001b[38;5;45mNone\u001b[0m, \u001b[38;5;34m64\u001b[0m)             │         \u001b[38;5;34m8,256\u001b[0m │\n",
       "├─────────────────────────────────┼────────────────────────┼───────────────┤\n",
       "│ dense_8 (\u001b[38;5;33mDense\u001b[0m)                 │ (\u001b[38;5;45mNone\u001b[0m, \u001b[38;5;34m32\u001b[0m)             │         \u001b[38;5;34m2,080\u001b[0m │\n",
       "├─────────────────────────────────┼────────────────────────┼───────────────┤\n",
       "│ dense_9 (\u001b[38;5;33mDense\u001b[0m)                 │ (\u001b[38;5;45mNone\u001b[0m, \u001b[38;5;34m16\u001b[0m)             │           \u001b[38;5;34m528\u001b[0m │\n",
       "├─────────────────────────────────┼────────────────────────┼───────────────┤\n",
       "│ dense_10 (\u001b[38;5;33mDense\u001b[0m)                │ (\u001b[38;5;45mNone\u001b[0m, \u001b[38;5;34m2\u001b[0m)              │            \u001b[38;5;34m34\u001b[0m │\n",
       "└─────────────────────────────────┴────────────────────────┴───────────────┘\n"
      ]
     },
     "metadata": {},
     "output_type": "display_data"
    },
    {
     "data": {
      "text/html": [
       "<pre style=\"white-space:pre;overflow-x:auto;line-height:normal;font-family:Menlo,'DejaVu Sans Mono',consolas,'Courier New',monospace\"><span style=\"font-weight: bold\"> Total params: </span><span style=\"color: #00af00; text-decoration-color: #00af00\">11,323,922</span> (43.20 MB)\n",
       "</pre>\n"
      ],
      "text/plain": [
       "\u001b[1m Total params: \u001b[0m\u001b[38;5;34m11,323,922\u001b[0m (43.20 MB)\n"
      ]
     },
     "metadata": {},
     "output_type": "display_data"
    },
    {
     "data": {
      "text/html": [
       "<pre style=\"white-space:pre;overflow-x:auto;line-height:normal;font-family:Menlo,'DejaVu Sans Mono',consolas,'Courier New',monospace\"><span style=\"font-weight: bold\"> Trainable params: </span><span style=\"color: #00af00; text-decoration-color: #00af00\">11,323,922</span> (43.20 MB)\n",
       "</pre>\n"
      ],
      "text/plain": [
       "\u001b[1m Trainable params: \u001b[0m\u001b[38;5;34m11,323,922\u001b[0m (43.20 MB)\n"
      ]
     },
     "metadata": {},
     "output_type": "display_data"
    },
    {
     "data": {
      "text/html": [
       "<pre style=\"white-space:pre;overflow-x:auto;line-height:normal;font-family:Menlo,'DejaVu Sans Mono',consolas,'Courier New',monospace\"><span style=\"font-weight: bold\"> Non-trainable params: </span><span style=\"color: #00af00; text-decoration-color: #00af00\">0</span> (0.00 B)\n",
       "</pre>\n"
      ],
      "text/plain": [
       "\u001b[1m Non-trainable params: \u001b[0m\u001b[38;5;34m0\u001b[0m (0.00 B)\n"
      ]
     },
     "metadata": {},
     "output_type": "display_data"
    }
   ],
   "source": [
    "def create_dnn_model(input_shape):\n",
    "    model = models.Sequential()\n",
    "    model.add(layers.InputLayer(input_shape=input_shape))\n",
    "\n",
    "    # Hidden layers\n",
    "    # model.add(layers.Dense(8192, activation='relu'))\n",
    "    # model.add(layers.Dense(4096, activation='relu'))\n",
    "    model.add(layers.Dense(2048, activation='relu'))\n",
    "    model.add(layers.Dense(2048, activation='relu'))\n",
    "    model.add(layers.Dense(2048, activation='relu'))\n",
    "    model.add(layers.Dense(1024, activation='relu'))\n",
    "    model.add(layers.Dense(512, activation='relu'))\n",
    "    model.add(layers.Dense(256, activation='relu'))\n",
    "    model.add(layers.Dense(128, activation='relu'))\n",
    "    model.add(layers.Dense(64, activation='relu'))\n",
    "    model.add(layers.Dense(32, activation='relu'))\n",
    "    model.add(layers.Dense(16, activation='relu'))\n",
    "\n",
    "    # Output layer\n",
    "    model.add(layers.Dense(2))\n",
    "\n",
    "    # Compile the model\n",
    "    model.compile(optimizer='adam', loss='mse', metrics=['mae'])\n",
    "    return model\n",
    "\n",
    "\n",
    "# Example of creating the model, input_shape should be (number of features,)\n",
    "input_shape = (X_train.shape[1],)  # Adjust based on your number of features\n",
    "model = create_dnn_model(input_shape)\n",
    "\n",
    "# Print the model summary\n",
    "model.summary()"
   ]
  },
  {
   "cell_type": "code",
   "execution_count": 14,
   "metadata": {},
   "outputs": [
    {
     "name": "stdout",
     "output_type": "stream",
     "text": [
      "Epoch 1/30\n"
     ]
    },
    {
     "name": "stderr",
     "output_type": "stream",
     "text": [
      "WARNING: All log messages before absl::InitializeLog() is called are written to STDERR\n",
      "I0000 00:00:1728573410.324958    6674 service.cc:146] XLA service 0x77fa34006d00 initialized for platform CUDA (this does not guarantee that XLA will be used). Devices:\n",
      "I0000 00:00:1728573410.324973    6674 service.cc:154]   StreamExecutor device (0): NVIDIA GeForce RTX 3070 Ti, Compute Capability 8.6\n",
      "2024-10-11 02:16:50.361602: I tensorflow/compiler/mlir/tensorflow/utils/dump_mlir_util.cc:268] disabling MLIR crash reproducer, set env var `MLIR_CRASH_REPRODUCER_DIRECTORY` to enable.\n",
      "2024-10-11 02:16:50.717944: I external/local_xla/xla/stream_executor/cuda/cuda_dnn.cc:531] Loaded cuDNN version 8907\n",
      "2024-10-11 02:16:51.483299: I external/local_xla/xla/stream_executor/cuda/cuda_asm_compiler.cc:393] ptxas warning : Registers are spilled to local memory in function 'gemm_fusion_dot_405', 132 bytes spill stores, 132 bytes spill loads\n",
      "\n",
      "2024-10-11 02:16:51.506475: I external/local_xla/xla/stream_executor/cuda/cuda_asm_compiler.cc:393] ptxas warning : Registers are spilled to local memory in function 'gemm_fusion_dot_433', 132 bytes spill stores, 132 bytes spill loads\n",
      "\n",
      "2024-10-11 02:16:51.738061: I external/local_xla/xla/stream_executor/cuda/cuda_asm_compiler.cc:393] ptxas warning : Registers are spilled to local memory in function 'gemm_fusion_dot_405', 344 bytes spill stores, 292 bytes spill loads\n",
      "\n",
      "2024-10-11 02:16:52.065790: I external/local_xla/xla/stream_executor/cuda/cuda_asm_compiler.cc:393] ptxas warning : Registers are spilled to local memory in function 'gemm_fusion_dot_405', 16 bytes spill stores, 16 bytes spill loads\n",
      "\n",
      "2024-10-11 02:16:52.591883: I external/local_xla/xla/stream_executor/cuda/cuda_asm_compiler.cc:393] ptxas warning : Registers are spilled to local memory in function 'gemm_fusion_dot_433', 16 bytes spill stores, 16 bytes spill loads\n",
      "\n",
      "2024-10-11 02:16:52.722118: I external/local_xla/xla/stream_executor/cuda/cuda_asm_compiler.cc:393] ptxas warning : Registers are spilled to local memory in function 'gemm_fusion_dot_433', 344 bytes spill stores, 292 bytes spill loads\n",
      "\n",
      "2024-10-11 02:16:52.829416: I external/local_xla/xla/stream_executor/cuda/cuda_asm_compiler.cc:393] ptxas warning : Registers are spilled to local memory in function 'gemm_fusion_dot_461', 336 bytes spill stores, 288 bytes spill loads\n",
      "\n",
      "2024-10-11 02:16:52.975516: I external/local_xla/xla/stream_executor/cuda/cuda_asm_compiler.cc:393] ptxas warning : Registers are spilled to local memory in function 'gemm_fusion_dot_447', 132 bytes spill stores, 132 bytes spill loads\n",
      "\n",
      "2024-10-11 02:16:53.427231: I external/local_xla/xla/stream_executor/cuda/cuda_asm_compiler.cc:393] ptxas warning : Registers are spilled to local memory in function 'gemm_fusion_dot_447', 1444 bytes spill stores, 1784 bytes spill loads\n",
      "\n",
      "2024-10-11 02:16:54.311410: I external/local_xla/xla/stream_executor/cuda/cuda_asm_compiler.cc:393] ptxas warning : Registers are spilled to local memory in function 'gemm_fusion_dot_447', 16 bytes spill stores, 16 bytes spill loads\n",
      "\n",
      "2024-10-11 02:16:54.774898: I external/local_xla/xla/stream_executor/cuda/cuda_asm_compiler.cc:393] ptxas warning : Registers are spilled to local memory in function 'gemm_fusion_dot_835', 204 bytes spill stores, 196 bytes spill loads\n",
      "\n",
      "2024-10-11 02:16:55.002537: I external/local_xla/xla/stream_executor/cuda/cuda_asm_compiler.cc:393] ptxas warning : Registers are spilled to local memory in function 'gemm_fusion_dot_839', 20 bytes spill stores, 20 bytes spill loads\n",
      "\n",
      "2024-10-11 02:16:55.420094: I external/local_xla/xla/stream_executor/cuda/cuda_asm_compiler.cc:393] ptxas warning : Registers are spilled to local memory in function 'gemm_fusion_dot_461', 184 bytes spill stores, 184 bytes spill loads\n",
      "\n",
      "2024-10-11 02:16:56.078700: I external/local_xla/xla/stream_executor/cuda/cuda_asm_compiler.cc:393] ptxas warning : Registers are spilled to local memory in function 'gemm_fusion_dot_841', 20 bytes spill stores, 20 bytes spill loads\n",
      "\n",
      "2024-10-11 02:16:56.460622: I external/local_xla/xla/stream_executor/cuda/cuda_asm_compiler.cc:393] ptxas warning : Registers are spilled to local memory in function 'gemm_fusion_dot_843', 20 bytes spill stores, 20 bytes spill loads\n",
      "\n",
      "2024-10-11 02:16:56.522957: I external/local_xla/xla/stream_executor/cuda/cuda_asm_compiler.cc:393] ptxas warning : Registers are spilled to local memory in function 'gemm_fusion_dot_839', 204 bytes spill stores, 196 bytes spill loads\n",
      "\n",
      "2024-10-11 02:16:56.885093: I external/local_xla/xla/stream_executor/cuda/cuda_asm_compiler.cc:393] ptxas warning : Registers are spilled to local memory in function 'gemm_fusion_dot_845', 20 bytes spill stores, 20 bytes spill loads\n",
      "\n",
      "2024-10-11 02:16:57.286328: I external/local_xla/xla/stream_executor/cuda/cuda_asm_compiler.cc:393] ptxas warning : Registers are spilled to local memory in function 'gemm_fusion_dot_835', 20 bytes spill stores, 20 bytes spill loads\n",
      "\n"
     ]
    },
    {
     "name": "stdout",
     "output_type": "stream",
     "text": [
      "\u001b[1m   33/20711\u001b[0m \u001b[37m━━━━━━━━━━━━━━━━━━━━\u001b[0m \u001b[1m1:06\u001b[0m 3ms/step - loss: 5.9473 - mae: 1.9283    "
     ]
    },
    {
     "name": "stderr",
     "output_type": "stream",
     "text": [
      "I0000 00:00:1728573420.595202    6674 device_compiler.h:188] Compiled cluster using XLA!  This line is logged at most once for the lifetime of the process.\n"
     ]
    },
    {
     "name": "stdout",
     "output_type": "stream",
     "text": [
      "\u001b[1m20693/20711\u001b[0m \u001b[32m━━━━━━━━━━━━━━━━━━━\u001b[0m\u001b[37m━\u001b[0m \u001b[1m0s\u001b[0m 3ms/step - loss: 1.8836 - mae: 1.0241"
     ]
    },
    {
     "name": "stderr",
     "output_type": "stream",
     "text": [
      "2024-10-11 02:17:59.971731: I external/local_xla/xla/stream_executor/cuda/cuda_asm_compiler.cc:393] ptxas warning : Registers are spilled to local memory in function 'gemm_fusion_dot_433', 20 bytes spill stores, 20 bytes spill loads\n",
      "\n",
      "2024-10-11 02:17:59.982661: I external/local_xla/xla/stream_executor/cuda/cuda_asm_compiler.cc:393] ptxas warning : Registers are spilled to local memory in function 'gemm_fusion_dot_405', 20 bytes spill stores, 20 bytes spill loads\n",
      "\n",
      "2024-10-11 02:18:00.308921: I external/local_xla/xla/stream_executor/cuda/cuda_asm_compiler.cc:393] ptxas warning : Registers are spilled to local memory in function 'gemm_fusion_dot_447', 80 bytes spill stores, 80 bytes spill loads\n",
      "\n",
      "2024-10-11 02:18:00.318646: I external/local_xla/xla/stream_executor/cuda/cuda_asm_compiler.cc:393] ptxas warning : Registers are spilled to local memory in function 'gemm_fusion_dot_461', 16 bytes spill stores, 16 bytes spill loads\n",
      "\n",
      "2024-10-11 02:18:00.400659: I external/local_xla/xla/stream_executor/cuda/cuda_asm_compiler.cc:393] ptxas warning : Registers are spilled to local memory in function 'gemm_fusion_dot_447', 20 bytes spill stores, 20 bytes spill loads\n",
      "\n",
      "2024-10-11 02:18:00.491417: I external/local_xla/xla/stream_executor/cuda/cuda_asm_compiler.cc:393] ptxas warning : Registers are spilled to local memory in function 'gemm_fusion_dot_405', 600 bytes spill stores, 404 bytes spill loads\n",
      "\n",
      "2024-10-11 02:18:00.517659: I external/local_xla/xla/stream_executor/cuda/cuda_asm_compiler.cc:393] ptxas warning : Registers are spilled to local memory in function 'gemm_fusion_dot_405', 88 bytes spill stores, 88 bytes spill loads\n",
      "\n",
      "2024-10-11 02:18:00.934525: I external/local_xla/xla/stream_executor/cuda/cuda_asm_compiler.cc:393] ptxas warning : Registers are spilled to local memory in function 'gemm_fusion_dot_433', 204 bytes spill stores, 204 bytes spill loads\n",
      "\n",
      "2024-10-11 02:18:01.059850: I external/local_xla/xla/stream_executor/cuda/cuda_asm_compiler.cc:393] ptxas warning : Registers are spilled to local memory in function 'gemm_fusion_dot_447', 200 bytes spill stores, 200 bytes spill loads\n",
      "\n",
      "2024-10-11 02:18:01.386564: I external/local_xla/xla/stream_executor/cuda/cuda_asm_compiler.cc:393] ptxas warning : Registers are spilled to local memory in function 'gemm_fusion_dot_461', 592 bytes spill stores, 400 bytes spill loads\n",
      "\n",
      "2024-10-11 02:18:01.468010: I external/local_xla/xla/stream_executor/cuda/cuda_asm_compiler.cc:393] ptxas warning : Registers are spilled to local memory in function 'gemm_fusion_dot_447', 12 bytes spill stores, 12 bytes spill loads\n",
      "\n",
      "2024-10-11 02:18:01.597004: I external/local_xla/xla/stream_executor/cuda/cuda_asm_compiler.cc:393] ptxas warning : Registers are spilled to local memory in function 'gemm_fusion_dot_405', 204 bytes spill stores, 204 bytes spill loads\n",
      "\n",
      "2024-10-11 02:18:01.633617: I external/local_xla/xla/stream_executor/cuda/cuda_asm_compiler.cc:393] ptxas warning : Registers are spilled to local memory in function 'gemm_fusion_dot_433', 88 bytes spill stores, 88 bytes spill loads\n",
      "\n",
      "2024-10-11 02:18:01.924990: I external/local_xla/xla/stream_executor/cuda/cuda_asm_compiler.cc:393] ptxas warning : Registers are spilled to local memory in function 'gemm_fusion_dot_433', 600 bytes spill stores, 404 bytes spill loads\n",
      "\n",
      "2024-10-11 02:18:01.934462: I external/local_xla/xla/stream_executor/cuda/cuda_asm_compiler.cc:393] ptxas warning : Registers are spilled to local memory in function 'gemm_fusion_dot_447', 600 bytes spill stores, 404 bytes spill loads\n",
      "\n",
      "2024-10-11 02:18:03.682368: I external/local_xla/xla/stream_executor/cuda/cuda_asm_compiler.cc:393] ptxas warning : Registers are spilled to local memory in function 'gemm_fusion_dot_835', 288 bytes spill stores, 248 bytes spill loads\n",
      "\n",
      "2024-10-11 02:18:04.859617: I external/local_xla/xla/stream_executor/cuda/cuda_asm_compiler.cc:393] ptxas warning : Registers are spilled to local memory in function 'gemm_fusion_dot_839', 288 bytes spill stores, 248 bytes spill loads\n",
      "\n"
     ]
    },
    {
     "name": "stdout",
     "output_type": "stream",
     "text": [
      "\u001b[1m20711/20711\u001b[0m \u001b[32m━━━━━━━━━━━━━━━━━━━━\u001b[0m\u001b[37m\u001b[0m \u001b[1m0s\u001b[0m 3ms/step - loss: 1.8829 - mae: 1.0238"
     ]
    },
    {
     "name": "stderr",
     "output_type": "stream",
     "text": [
      "2024-10-11 02:18:16.864359: I external/local_xla/xla/stream_executor/cuda/cuda_asm_compiler.cc:393] ptxas warning : Registers are spilled to local memory in function 'gemm_fusion_dot_42', 88 bytes spill stores, 88 bytes spill loads\n",
      "\n",
      "2024-10-11 02:18:16.884374: I external/local_xla/xla/stream_executor/cuda/cuda_asm_compiler.cc:393] ptxas warning : Registers are spilled to local memory in function 'gemm_fusion_dot_42', 20 bytes spill stores, 20 bytes spill loads\n",
      "\n",
      "2024-10-11 02:18:17.020080: I external/local_xla/xla/stream_executor/cuda/cuda_asm_compiler.cc:393] ptxas warning : Registers are spilled to local memory in function 'gemm_fusion_dot_42', 204 bytes spill stores, 204 bytes spill loads\n",
      "\n",
      "2024-10-11 02:18:17.315999: I external/local_xla/xla/stream_executor/cuda/cuda_asm_compiler.cc:393] ptxas warning : Registers are spilled to local memory in function 'gemm_fusion_dot_42', 360 bytes spill stores, 268 bytes spill loads\n",
      "\n",
      "2024-10-11 02:18:17.319234: I external/local_xla/xla/stream_executor/cuda/cuda_asm_compiler.cc:393] ptxas warning : Registers are spilled to local memory in function 'gemm_fusion_dot_56', 204 bytes spill stores, 204 bytes spill loads\n",
      "\n",
      "2024-10-11 02:18:17.321160: I external/local_xla/xla/stream_executor/cuda/cuda_asm_compiler.cc:393] ptxas warning : Registers are spilled to local memory in function 'gemm_fusion_dot_70', 16 bytes spill stores, 16 bytes spill loads\n",
      "\n",
      "2024-10-11 02:18:17.431338: I external/local_xla/xla/stream_executor/cuda/cuda_asm_compiler.cc:393] ptxas warning : Registers are spilled to local memory in function 'gemm_fusion_dot_56', 20 bytes spill stores, 20 bytes spill loads\n",
      "\n",
      "2024-10-11 02:18:17.649402: I external/local_xla/xla/stream_executor/cuda/cuda_asm_compiler.cc:393] ptxas warning : Registers are spilled to local memory in function 'gemm_fusion_dot_63', 360 bytes spill stores, 268 bytes spill loads\n",
      "\n",
      "2024-10-11 02:18:17.905015: I external/local_xla/xla/stream_executor/cuda/cuda_asm_compiler.cc:393] ptxas warning : Registers are spilled to local memory in function 'gemm_fusion_dot_56', 360 bytes spill stores, 268 bytes spill loads\n",
      "\n",
      "2024-10-11 02:18:17.968674: I external/local_xla/xla/stream_executor/cuda/cuda_asm_compiler.cc:393] ptxas warning : Registers are spilled to local memory in function 'gemm_fusion_dot_63', 20 bytes spill stores, 20 bytes spill loads\n",
      "\n",
      "2024-10-11 02:18:18.320661: I external/local_xla/xla/stream_executor/cuda/cuda_asm_compiler.cc:393] ptxas warning : Registers are spilled to local memory in function 'gemm_fusion_dot_70', 352 bytes spill stores, 264 bytes spill loads\n",
      "\n",
      "2024-10-11 02:18:19.419061: I external/local_xla/xla/stream_executor/cuda/cuda_asm_compiler.cc:393] ptxas warning : Registers are spilled to local memory in function 'gemm_fusion_dot_56', 724 bytes spill stores, 896 bytes spill loads\n",
      "\n",
      "2024-10-11 02:18:19.949971: I external/local_xla/xla/stream_executor/cuda/cuda_asm_compiler.cc:393] ptxas warning : Registers are spilled to local memory in function 'gemm_fusion_dot_63', 12 bytes spill stores, 12 bytes spill loads\n",
      "\n",
      "2024-10-11 02:18:19.958105: I external/local_xla/xla/stream_executor/cuda/cuda_asm_compiler.cc:393] ptxas warning : Registers are spilled to local memory in function 'gemm_fusion_dot_63', 200 bytes spill stores, 200 bytes spill loads\n",
      "\n",
      "2024-10-11 02:18:20.114420: I external/local_xla/xla/stream_executor/cuda/cuda_asm_compiler.cc:393] ptxas warning : Registers are spilled to local memory in function 'gemm_fusion_dot_70', 200 bytes spill stores, 200 bytes spill loads\n",
      "\n"
     ]
    },
    {
     "name": "stdout",
     "output_type": "stream",
     "text": [
      "\u001b[1m20711/20711\u001b[0m \u001b[32m━━━━━━━━━━━━━━━━━━━━\u001b[0m\u001b[37m\u001b[0m \u001b[1m92s\u001b[0m 4ms/step - loss: 1.8829 - mae: 1.0238 - val_loss: 0.3266 - val_mae: 0.2824\n",
      "Epoch 2/30\n",
      "\u001b[1m20711/20711\u001b[0m \u001b[32m━━━━━━━━━━━━━━━━━━━━\u001b[0m\u001b[37m\u001b[0m \u001b[1m64s\u001b[0m 3ms/step - loss: 0.3169 - mae: 0.2674 - val_loss: 0.2379 - val_mae: 0.2101\n",
      "Epoch 3/30\n",
      "\u001b[1m20711/20711\u001b[0m \u001b[32m━━━━━━━━━━━━━━━━━━━━\u001b[0m\u001b[37m\u001b[0m \u001b[1m63s\u001b[0m 3ms/step - loss: 0.2020 - mae: 0.1807 - val_loss: 0.1581 - val_mae: 0.1420\n",
      "Epoch 4/30\n",
      "\u001b[1m20711/20711\u001b[0m \u001b[32m━━━━━━━━━━━━━━━━━━━━\u001b[0m\u001b[37m\u001b[0m \u001b[1m63s\u001b[0m 3ms/step - loss: 0.1525 - mae: 0.1433 - val_loss: 0.1342 - val_mae: 0.1194\n",
      "Epoch 5/30\n",
      "\u001b[1m20711/20711\u001b[0m \u001b[32m━━━━━━━━━━━━━━━━━━━━\u001b[0m\u001b[37m\u001b[0m \u001b[1m63s\u001b[0m 3ms/step - loss: 0.1277 - mae: 0.1240 - val_loss: 0.1063 - val_mae: 0.1104\n",
      "Epoch 6/30\n",
      "\u001b[1m20711/20711\u001b[0m \u001b[32m━━━━━━━━━━━━━━━━━━━━\u001b[0m\u001b[37m\u001b[0m \u001b[1m65s\u001b[0m 3ms/step - loss: 0.1107 - mae: 0.1117 - val_loss: 0.1036 - val_mae: 0.0997\n",
      "Epoch 7/30\n",
      "\u001b[1m20711/20711\u001b[0m \u001b[32m━━━━━━━━━━━━━━━━━━━━\u001b[0m\u001b[37m\u001b[0m \u001b[1m63s\u001b[0m 3ms/step - loss: 0.0983 - mae: 0.1016 - val_loss: 0.0860 - val_mae: 0.1002\n",
      "Epoch 8/30\n",
      "\u001b[1m20711/20711\u001b[0m \u001b[32m━━━━━━━━━━━━━━━━━━━━\u001b[0m\u001b[37m\u001b[0m \u001b[1m63s\u001b[0m 3ms/step - loss: 0.0934 - mae: 0.0990 - val_loss: 0.0966 - val_mae: 0.0943\n",
      "Epoch 9/30\n",
      "\u001b[1m20711/20711\u001b[0m \u001b[32m━━━━━━━━━━━━━━━━━━━━\u001b[0m\u001b[37m\u001b[0m \u001b[1m63s\u001b[0m 3ms/step - loss: 0.0940 - mae: 0.0996 - val_loss: 0.0932 - val_mae: 0.0993\n",
      "Epoch 10/30\n",
      "\u001b[1m20711/20711\u001b[0m \u001b[32m━━━━━━━━━━━━━━━━━━━━\u001b[0m\u001b[37m\u001b[0m \u001b[1m63s\u001b[0m 3ms/step - loss: 0.0881 - mae: 0.0954 - val_loss: 0.0932 - val_mae: 0.0912\n",
      "Epoch 11/30\n",
      "\u001b[1m20711/20711\u001b[0m \u001b[32m━━━━━━━━━━━━━━━━━━━━\u001b[0m\u001b[37m\u001b[0m \u001b[1m63s\u001b[0m 3ms/step - loss: 0.0913 - mae: 0.0975 - val_loss: 0.1246 - val_mae: 0.1273\n",
      "Epoch 12/30\n",
      "\u001b[1m20711/20711\u001b[0m \u001b[32m━━━━━━━━━━━━━━━━━━━━\u001b[0m\u001b[37m\u001b[0m \u001b[1m63s\u001b[0m 3ms/step - loss: 0.1072 - mae: 0.1066 - val_loss: 0.0976 - val_mae: 0.0959\n",
      "Epoch 13/30\n",
      "\u001b[1m20711/20711\u001b[0m \u001b[32m━━━━━━━━━━━━━━━━━━━━\u001b[0m\u001b[37m\u001b[0m \u001b[1m63s\u001b[0m 3ms/step - loss: 0.1073 - mae: 0.1069 - val_loss: 0.1365 - val_mae: 0.1194\n",
      "Epoch 14/30\n",
      "\u001b[1m20711/20711\u001b[0m \u001b[32m━━━━━━━━━━━━━━━━━━━━\u001b[0m\u001b[37m\u001b[0m \u001b[1m63s\u001b[0m 3ms/step - loss: 0.1211 - mae: 0.1179 - val_loss: 0.1334 - val_mae: 0.1313\n",
      "Epoch 15/30\n",
      "\u001b[1m20711/20711\u001b[0m \u001b[32m━━━━━━━━━━━━━━━━━━━━\u001b[0m\u001b[37m\u001b[0m \u001b[1m63s\u001b[0m 3ms/step - loss: 0.1177 - mae: 0.1190 - val_loss: 0.1291 - val_mae: 0.1327\n",
      "Epoch 16/30\n",
      "\u001b[1m20711/20711\u001b[0m \u001b[32m━━━━━━━━━━━━━━━━━━━━\u001b[0m\u001b[37m\u001b[0m \u001b[1m63s\u001b[0m 3ms/step - loss: 0.1236 - mae: 0.1238 - val_loss: 0.0899 - val_mae: 0.0914\n",
      "Epoch 17/30\n",
      "\u001b[1m20711/20711\u001b[0m \u001b[32m━━━━━━━━━━━━━━━━━━━━\u001b[0m\u001b[37m\u001b[0m \u001b[1m63s\u001b[0m 3ms/step - loss: 0.1330 - mae: 0.1311 - val_loss: 0.2073 - val_mae: 0.1822\n"
     ]
    },
    {
     "name": "stderr",
     "output_type": "stream",
     "text": [
      "2024-10-11 02:35:13.962923: I external/local_xla/xla/stream_executor/cuda/cuda_asm_compiler.cc:393] ptxas warning : Registers are spilled to local memory in function 'gemm_fusion_dot_42', 132 bytes spill stores, 132 bytes spill loads\n",
      "\n",
      "2024-10-11 02:35:13.963609: I external/local_xla/xla/stream_executor/cuda/cuda_asm_compiler.cc:393] ptxas warning : Registers are spilled to local memory in function 'gemm_fusion_dot_56', 16 bytes spill stores, 16 bytes spill loads\n",
      "\n",
      "2024-10-11 02:35:14.561737: I external/local_xla/xla/stream_executor/cuda/cuda_asm_compiler.cc:393] ptxas warning : Registers are spilled to local memory in function 'gemm_fusion_dot_56', 132 bytes spill stores, 132 bytes spill loads\n",
      "\n",
      "2024-10-11 02:35:14.659524: I external/local_xla/xla/stream_executor/cuda/cuda_asm_compiler.cc:393] ptxas warning : Registers are spilled to local memory in function 'gemm_fusion_dot_63', 132 bytes spill stores, 132 bytes spill loads\n",
      "\n",
      "2024-10-11 02:35:15.050608: I external/local_xla/xla/stream_executor/cuda/cuda_asm_compiler.cc:393] ptxas warning : Registers are spilled to local memory in function 'gemm_fusion_dot_42', 4 bytes spill stores, 4 bytes spill loads\n",
      "\n"
     ]
    },
    {
     "name": "stdout",
     "output_type": "stream",
     "text": [
      "\u001b[1m27548/27615\u001b[0m \u001b[32m━━━━━━━━━━━━━━━━━━━\u001b[0m\u001b[37m━\u001b[0m \u001b[1m0s\u001b[0m 707us/step - loss: 0.2085 - mae: 0.1824"
     ]
    },
    {
     "name": "stderr",
     "output_type": "stream",
     "text": [
      "2024-10-11 02:35:36.888145: I external/local_xla/xla/stream_executor/cuda/cuda_asm_compiler.cc:393] ptxas warning : Registers are spilled to local memory in function 'gemm_fusion_dot_42', 80 bytes spill stores, 80 bytes spill loads\n",
      "\n",
      "2024-10-11 02:35:37.085067: I external/local_xla/xla/stream_executor/cuda/cuda_asm_compiler.cc:393] ptxas warning : Registers are spilled to local memory in function 'gemm_fusion_dot_42', 40 bytes spill stores, 60 bytes spill loads\n",
      "\n",
      "2024-10-11 02:35:37.130031: I external/local_xla/xla/stream_executor/cuda/cuda_asm_compiler.cc:393] ptxas warning : Registers are spilled to local memory in function 'gemm_fusion_dot_42', 204 bytes spill stores, 204 bytes spill loads\n",
      "\n",
      "2024-10-11 02:35:37.292749: I external/local_xla/xla/stream_executor/cuda/cuda_asm_compiler.cc:393] ptxas warning : Registers are spilled to local memory in function 'gemm_fusion_dot_63', 12 bytes spill stores, 12 bytes spill loads\n",
      "\n",
      "2024-10-11 02:35:37.349593: I external/local_xla/xla/stream_executor/cuda/cuda_asm_compiler.cc:393] ptxas warning : Registers are spilled to local memory in function 'gemm_fusion_dot_63', 32 bytes spill stores, 32 bytes spill loads\n",
      "\n",
      "2024-10-11 02:35:37.851246: I external/local_xla/xla/stream_executor/cuda/cuda_asm_compiler.cc:393] ptxas warning : Registers are spilled to local memory in function 'gemm_fusion_dot_56', 204 bytes spill stores, 204 bytes spill loads\n",
      "\n",
      "2024-10-11 02:35:37.864343: I external/local_xla/xla/stream_executor/cuda/cuda_asm_compiler.cc:393] ptxas warning : Registers are spilled to local memory in function 'gemm_fusion_dot_63', 200 bytes spill stores, 200 bytes spill loads\n",
      "\n",
      "2024-10-11 02:35:37.959260: I external/local_xla/xla/stream_executor/cuda/cuda_asm_compiler.cc:393] ptxas warning : Registers are spilled to local memory in function 'gemm_fusion_dot_56', 40 bytes spill stores, 60 bytes spill loads\n",
      "\n"
     ]
    },
    {
     "name": "stdout",
     "output_type": "stream",
     "text": [
      "\u001b[1m27615/27615\u001b[0m \u001b[32m━━━━━━━━━━━━━━━━━━━━\u001b[0m\u001b[37m\u001b[0m \u001b[1m26s\u001b[0m 833us/step - loss: 0.2085 - mae: 0.1824\n",
      "Test Loss: 0.20979170501232147, Test MAE: 0.18283787369728088\n"
     ]
    }
   ],
   "source": [
    "tensorboard_callback = tf.keras.callbacks.TensorBoard(log_dir=\"logs\")\n",
    "# Train the model\n",
    "with tf.device('/GPU:0'):\n",
    "    history = model.fit(\n",
    "                        # dataset,\n",
    "                        X_train, y_train, \n",
    "                        epochs=30, \n",
    "                        batch_size=128, \n",
    "                        validation_data=(X_val, y_val),\n",
    "                        callbacks=[tensorboard_callback, tf.keras.callbacks.EarlyStopping(monitor='val_loss', patience=10)])\n",
    "\n",
    "    # Evaluate the model on test data\n",
    "    test_loss, test_mae = model.evaluate(X_test, y_test)\n",
    "    print(f\"Test Loss: {test_loss}, Test MAE: {test_mae}\")\n"
   ]
  },
  {
   "cell_type": "code",
   "execution_count": 15,
   "metadata": {},
   "outputs": [
    {
     "data": {
      "image/png": "[encoded data removed]",
      "text/plain": [
       "<Figure size 640x480 with 1 Axes>"
      ]
     },
     "metadata": {},
     "output_type": "display_data"
    }
   ],
   "source": [
    "# Plot training & validation loss\n",
    "plt.plot(history.history['loss'], label='Train Loss')\n",
    "plt.plot(history.history['val_loss'], label='Validation Loss')\n",
    "plt.title('Model Loss Over Epochs')\n",
    "plt.xlabel('Epochs')\n",
    "plt.ylabel('Loss')\n",
    "plt.legend()\n",
    "plt.show()\n"
   ]
  },
  {
   "cell_type": "code",
   "execution_count": 16,
   "metadata": {},
   "outputs": [
    {
     "name": "stdout",
     "output_type": "stream",
     "text": [
      "\u001b[1m27615/27615\u001b[0m \u001b[32m━━━━━━━━━━━━━━━━━━━━\u001b[0m\u001b[37m\u001b[0m \u001b[1m19s\u001b[0m 661us/step\n"
     ]
    }
   ],
   "source": [
    "# After training your model\n",
    "y_pred = model.predict(X_test)"
   ]
  },
  {
   "cell_type": "code",
   "execution_count": 17,
   "metadata": {},
   "outputs": [],
   "source": [
    "# Convert y_test to NumPy array with float64 data type\n",
    "y_test_np = y_test.to_numpy(dtype=np.float64)\n",
    "\n",
    "# Ensure y_pred is a NumPy array with float64 data type\n",
    "y_pred_np = np.array(y_pred, dtype=np.float64)"
   ]
  },
  {
   "cell_type": "code",
   "execution_count": 18,
   "metadata": {},
   "outputs": [
    {
     "name": "stdout",
     "output_type": "stream",
     "text": [
      "Mean Relative Error for coord1: 0.0335\n",
      "Mean Relative Error for coord2: 0.0329\n"
     ]
    }
   ],
   "source": [
    "# Assuming y_test and y_pred are NumPy arrays\n",
    "absolute_errors = np.abs(y_test_np - y_pred_np)\n",
    "coordinate_ranges = np.ptp(y_test_np, axis=0)  # Peak to peak (max - min) along each coordinate\n",
    "\n",
    "# Avoid division by zero\n",
    "coordinate_ranges[coordinate_ranges == 0] = 1\n",
    "\n",
    "relative_errors = absolute_errors / coordinate_ranges\n",
    "mean_relative_error = np.mean(relative_errors, axis=0)\n",
    "\n",
    "print(f\"Mean Relative Error for coord1: {mean_relative_error[0]:.4f}\")\n",
    "print(f\"Mean Relative Error for coord2: {mean_relative_error[1]:.4f}\")\n"
   ]
  },
  {
   "cell_type": "code",
   "execution_count": 19,
   "metadata": {},
   "outputs": [
    {
     "name": "stdout",
     "output_type": "stream",
     "text": [
      "Spearman's Rank Correlation for coord1: 0.9503\n",
      "Spearman's Rank Correlation for coord2: 0.9436\n"
     ]
    }
   ],
   "source": [
    "from scipy.stats import spearmanr\n",
    "\n",
    "rho_coord1, _ = spearmanr(y_test_np[:, 0], y_pred_np[:, 0])\n",
    "rho_coord2, _ = spearmanr(y_test_np[:, 1], y_pred_np[:, 1])\n",
    "\n",
    "print(f\"Spearman's Rank Correlation for coord1: {rho_coord1:.4f}\")\n",
    "print(f\"Spearman's Rank Correlation for coord2: {rho_coord2:.4f}\")\n"
   ]
  },
  {
   "cell_type": "code",
   "execution_count": 20,
   "metadata": {},
   "outputs": [],
   "source": [
    "# Create a mapping from coordinate pairs to class labels\n",
    "unique_coords = np.unique(y_test_np, axis=0)\n",
    "coord_to_label = {tuple(coord): idx for idx, coord in enumerate(unique_coords)}\n",
    "\n",
    "# Convert coordinates to labels\n",
    "y_test_labels = np.array([coord_to_label[tuple(coord)] for coord in y_test_np])\n",
    "y_pred_labels = np.array([coord_to_label.get(tuple(coord), -1) for coord in y_pred_np])  # Use -1 for unknowns\n"
   ]
  },
  {
   "cell_type": "code",
   "execution_count": 21,
   "metadata": {},
   "outputs": [],
   "source": [
    "# from sklearn.metrics import accuracy_score, confusion_matrix\n",
    "\n",
    "# # Filter out predictions that don't map to a valid label\n",
    "# valid_indices = y_pred_labels != -1\n",
    "# accuracy = accuracy_score(y_test_labels[valid_indices], y_pred_labels[valid_indices])\n",
    "# print(f\"Classification Accuracy: {accuracy:.4f}\")\n"
   ]
  },
  {
   "cell_type": "code",
   "execution_count": 22,
   "metadata": {},
   "outputs": [],
   "source": [
    "# import matplotlib.pyplot as plt\n",
    "# from sklearn.metrics import ConfusionMatrixDisplay\n",
    "\n",
    "# cm = confusion_matrix(y_test_labels[valid_indices], y_pred_labels[valid_indices])\n",
    "# disp = ConfusionMatrixDisplay(confusion_matrix=cm)\n",
    "# disp.plot(cmap='Blues')\n",
    "# plt.title('Confusion Matrix of Predicted vs Actual Classes')\n",
    "# plt.show()"
   ]
  },
  {
   "cell_type": "code",
   "execution_count": 23,
   "metadata": {},
   "outputs": [
    {
     "name": "stdout",
     "output_type": "stream",
     "text": [
      "MSE on Standardized Coordinates: 0.0778\n"
     ]
    }
   ],
   "source": [
    "scaler = StandardScaler()\n",
    "y_test_scaled = scaler.fit_transform(y_test_np)\n",
    "y_pred_scaled = scaler.transform(y_pred_np)\n",
    "\n",
    "# Compute Mean Squared Error on standardized data\n",
    "from sklearn.metrics import mean_squared_error\n",
    "\n",
    "mse_scaled = mean_squared_error(y_test_scaled, y_pred_scaled)\n",
    "print(f\"MSE on Standardized Coordinates: {mse_scaled:.4f}\")\n"
   ]
  },
  {
   "cell_type": "code",
   "execution_count": 24,
   "metadata": {},
   "outputs": [
    {
     "name": "stdout",
     "output_type": "stream",
     "text": [
      "Accuracy within tolerance 1: 0.9384\n",
      "Accuracy within tolerance 0.5: 0.8984\n",
      "Accuracy within tolerance 0.1: 0.3780\n"
     ]
    }
   ],
   "source": [
    "def custom_accuracy(y_true, y_pred, tolerance):\n",
    "    # Count predictions within a certain tolerance\n",
    "    correct_predictions = np.all(np.abs(y_true - y_pred) <= tolerance, axis=1)\n",
    "    accuracy = np.mean(correct_predictions)\n",
    "    return accuracy\n",
    "\n",
    "tolerances = [1, 0.5, 0.1]  # Adjust based on your coordinate system\n",
    "\n",
    "for tolerance in tolerances:\n",
    "    accuracy = custom_accuracy(y_test_np, y_pred_np, tolerance)\n",
    "    print(f\"Accuracy within tolerance {tolerance}: {accuracy:.4f}\")\n",
    "\n",
    "accuracy = custom_accuracy(y_test_np, y_pred_np, 1)"
   ]
  },
  {
   "cell_type": "code",
   "execution_count": 25,
   "metadata": {},
   "outputs": [
    {
     "name": "stdout",
     "output_type": "stream",
     "text": [
      "Accuracy within tolerance 1: 0.9616\n",
      "Accuracy within tolerance 0.5: 0.8984\n",
      "Accuracy within tolerance 0.1: 0.8984\n"
     ]
    }
   ],
   "source": [
    "tolerances = [1, 0.5, 0.1]  # Adjust based on your coordinate system\n",
    "\n",
    "y_pred_np_rounded = np.round(y_pred_np)\n",
    "\n",
    "for tolerance in tolerances:\n",
    "    accuracy = custom_accuracy(y_test_np, y_pred_np_rounded, tolerance)\n",
    "    print(f\"Accuracy within tolerance {tolerance}: {accuracy:.4f}\")\n",
    "\n",
    "accuracy = custom_accuracy(y_test_np, y_pred_np, 1)"
   ]
  },
  {
   "cell_type": "code",
   "execution_count": 26,
   "metadata": {},
   "outputs": [
    {
     "data": {
      "image/png": "[encoded data removed]",
      "text/plain": [
       "<Figure size 800x600 with 1 Axes>"
      ]
     },
     "metadata": {},
     "output_type": "display_data"
    }
   ],
   "source": [
    "import matplotlib.pyplot as plt\n",
    "\n",
    "plt.figure(figsize=(8, 6))\n",
    "plt.scatter(y_pred_np[:, 0], y_pred_np[:, 1], label='Predicted', alpha=0.6)\n",
    "plt.scatter(y_test_np[:, 0], y_test_np[:, 1], label='Actual', alpha=0.6)\n",
    "plt.xlabel('Coordinate 1')\n",
    "plt.ylabel('Coordinate 2')\n",
    "plt.title('Actual vs Predicted Coordinates')\n",
    "plt.legend()\n",
    "plt.grid(True)\n",
    "plt.show()\n"
   ]
  },
  {
   "cell_type": "code",
   "execution_count": 27,
   "metadata": {},
   "outputs": [
    {
     "name": "stdout",
     "output_type": "stream",
     "text": [
      "MAE for coord1: 0.2010\n",
      "MAE for coord2: 0.1647\n",
      "Overall MAE: 0.1828\n",
      "RMSE for coord1: 0.5168\n",
      "RMSE for coord2: 0.3905\n",
      "Overall RMSE: 0.4537\n",
      "Mean Euclidean Distance Error: 0.2916 units\n",
      "R-squared for coord1: 0.9231\n",
      "R-squared for coord2: 0.9213\n",
      "Median Absolute Error for coord1: 0.0781\n",
      "Median Absolute Error for coord2: 0.0762\n",
      "Accuracy within tolerance 1: 0.9384\n",
      "Accuracy within tolerance 0.5: 0.8984\n",
      "Accuracy within tolerance 0.1: 0.3780\n"
     ]
    }
   ],
   "source": [
    "# MAE for each coordinate\n",
    "mae_coord1 = mean_absolute_error(y_test_np[:, 0], y_pred_np[:, 0])\n",
    "mae_coord2 = mean_absolute_error(y_test_np[:, 1], y_pred_np[:, 1])\n",
    "\n",
    "# Overall MAE\n",
    "mae_overall = np.mean([mae_coord1, mae_coord2])\n",
    "\n",
    "print(f\"MAE for coord1: {mae_coord1:.4f}\")\n",
    "print(f\"MAE for coord2: {mae_coord2:.4f}\")\n",
    "print(f\"Overall MAE: {mae_overall:.4f}\")\n",
    "\n",
    "# RMSE for each coordinate\n",
    "rmse_coord1 = np.sqrt(mean_squared_error(y_test_np[:, 0], y_pred_np[:, 0]))\n",
    "rmse_coord2 = np.sqrt(mean_squared_error(y_test_np[:, 1], y_pred_np[:, 1]))\n",
    "\n",
    "# Overall RMSE\n",
    "rmse_overall = np.mean([rmse_coord1, rmse_coord2])\n",
    "\n",
    "print(f\"RMSE for coord1: {rmse_coord1:.4f}\")\n",
    "print(f\"RMSE for coord2: {rmse_coord2:.4f}\")\n",
    "print(f\"Overall RMSE: {rmse_overall:.4f}\")\n",
    "\n",
    "# Calculate Euclidean distances\n",
    "distance_errors = np.linalg.norm(y_test_np - y_pred_np, axis=1)\n",
    "mean_distance_error = np.mean(distance_errors)\n",
    "\n",
    "print(f\"Mean Euclidean Distance Error: {mean_distance_error:.4f} units\")\n",
    "\n",
    "# R-squared for each coordinate\n",
    "r2_coord1 = r2_score(y_test_np[:, 0], y_pred_np[:, 0])\n",
    "r2_coord2 = r2_score(y_test_np[:, 1], y_pred_np[:, 1])\n",
    "\n",
    "print(f\"R-squared for coord1: {r2_coord1:.4f}\")\n",
    "print(f\"R-squared for coord2: {r2_coord2:.4f}\")\n",
    "\n",
    "# Median Absolute Error for each coordinate\n",
    "medae_coord1 = median_absolute_error(y_test_np[:, 0], y_pred_np[:, 0])\n",
    "medae_coord2 = median_absolute_error(y_test_np[:, 1], y_pred_np[:, 1])\n",
    "\n",
    "print(f\"Median Absolute Error for coord1: {medae_coord1:.4f}\")\n",
    "print(f\"Median Absolute Error for coord2: {medae_coord2:.4f}\")\n",
    "\n",
    "for tolerance in tolerances:\n",
    "    accuracy = custom_accuracy(y_test_np, y_pred_np, tolerance)\n",
    "    print(f\"Accuracy within tolerance {tolerance}: {accuracy:.4f}\")"
   ]
  },
  {
   "cell_type": "code",
   "execution_count": 28,
   "metadata": {},
   "outputs": [],
   "source": [
    "# from sklearn.model_selection import cross_val_score\n",
    "# from sklearn.metrics import make_scorer\n",
    "\n",
    "# def mean_euclidean_error(y_true, y_pred):\n",
    "#     return np.mean(np.linalg.norm(y_true - y_pred, axis=1))\n",
    "\n",
    "# # Create a scorer based on your custom metric\n",
    "# scorer = make_scorer(mean_euclidean_error, greater_is_better=False)\n",
    "\n",
    "# # Assuming you have a model compatible with scikit-learn's API\n",
    "# scores = cross_val_score(model, X, y, cv=5, scoring=scorer)\n",
    "# print(f\"Cross-validated Mean Euclidean Distance Error: {-np.mean(scores):.4f}\")\n"
   ]
  },
  {
   "cell_type": "code",
   "execution_count": 29,
   "metadata": {},
   "outputs": [],
   "source": [
    "now = datetime.datetime.now()\n",
    "date_time = now.strftime(\"%m-%d-%H-%M\")\n",
    "accuracy = custom_accuracy(y_test_np, y_pred_np, 1)\n",
    "model.save(f\"./models/{date_time}-{model_type}-{accuracy:.2f}.keras\")"
   ]
  },
  {
   "cell_type": "code",
   "execution_count": 30,
   "metadata": {},
   "outputs": [
    {
     "data": {
      "image/png": "[encoded data removed]",
      "text/plain": [
       "<Figure size 800x600 with 1 Axes>"
      ]
     },
     "metadata": {},
     "output_type": "display_data"
    }
   ],
   "source": [
    "plt.figure(figsize=(8, 6))\n",
    "plt.plot(history.history['loss'], label='Training Loss')\n",
    "plt.plot(history.history['val_loss'], label='Validation Loss')\n",
    "plt.title('Model Loss over Epochs')\n",
    "plt.xlabel('Epoch')\n",
    "plt.ylabel('Loss')\n",
    "plt.legend()\n",
    "plt.grid(True)\n",
    "plt.show()\n"
   ]
  },
  {
   "cell_type": "code",
   "execution_count": 31,
   "metadata": {},
   "outputs": [
    {
     "name": "stderr",
     "output_type": "stream",
     "text": [
      "/home/alan-xie/Documents/Thesis/wifi_localization/.venv/lib/python3.10/site-packages/keras/src/layers/core/input_layer.py:26: UserWarning: Argument `input_shape` is deprecated. Use `shape` instead.\n",
      "  warnings.warn(\n",
      "2024-10-11 02:37:27.241530: I external/local_xla/xla/stream_executor/cuda/cuda_asm_compiler.cc:393] ptxas warning : Registers are spilled to local memory in function 'gemm_fusion_dot_405', 20 bytes spill stores, 20 bytes spill loads\n",
      "\n",
      "2024-10-11 02:37:27.370556: I external/local_xla/xla/stream_executor/cuda/cuda_asm_compiler.cc:393] ptxas warning : Registers are spilled to local memory in function 'gemm_fusion_dot_447', 200 bytes spill stores, 200 bytes spill loads\n",
      "\n",
      "2024-10-11 02:37:27.408627: I external/local_xla/xla/stream_executor/cuda/cuda_asm_compiler.cc:393] ptxas warning : Registers are spilled to local memory in function 'gemm_fusion_dot_405', 204 bytes spill stores, 204 bytes spill loads\n",
      "\n",
      "2024-10-11 02:37:27.731658: I external/local_xla/xla/stream_executor/cuda/cuda_asm_compiler.cc:393] ptxas warning : Registers are spilled to local memory in function 'gemm_fusion_dot_433', 20 bytes spill stores, 20 bytes spill loads\n",
      "\n",
      "2024-10-11 02:37:27.778908: I external/local_xla/xla/stream_executor/cuda/cuda_asm_compiler.cc:393] ptxas warning : Registers are spilled to local memory in function 'gemm_fusion_dot_447', 20 bytes spill stores, 20 bytes spill loads\n",
      "\n",
      "2024-10-11 02:37:27.823002: I external/local_xla/xla/stream_executor/cuda/cuda_asm_compiler.cc:393] ptxas warning : Registers are spilled to local memory in function 'gemm_fusion_dot_405', 360 bytes spill stores, 268 bytes spill loads\n",
      "\n",
      "2024-10-11 02:37:28.165898: I external/local_xla/xla/stream_executor/cuda/cuda_asm_compiler.cc:393] ptxas warning : Registers are spilled to local memory in function 'gemm_fusion_dot_447', 360 bytes spill stores, 268 bytes spill loads\n",
      "\n",
      "2024-10-11 02:37:28.196496: I external/local_xla/xla/stream_executor/cuda/cuda_asm_compiler.cc:393] ptxas warning : Registers are spilled to local memory in function 'gemm_fusion_dot_405', 88 bytes spill stores, 88 bytes spill loads\n",
      "\n",
      "2024-10-11 02:37:28.413266: I external/local_xla/xla/stream_executor/cuda/cuda_asm_compiler.cc:393] ptxas warning : Registers are spilled to local memory in function 'gemm_fusion_dot_433', 204 bytes spill stores, 204 bytes spill loads\n",
      "\n",
      "2024-10-11 02:37:28.739500: I external/local_xla/xla/stream_executor/cuda/cuda_asm_compiler.cc:393] ptxas warning : Registers are spilled to local memory in function 'gemm_fusion_dot_433', 360 bytes spill stores, 268 bytes spill loads\n",
      "\n",
      "2024-10-11 02:37:28.957568: I external/local_xla/xla/stream_executor/cuda/cuda_asm_compiler.cc:393] ptxas warning : Registers are spilled to local memory in function 'gemm_fusion_dot_447', 12 bytes spill stores, 12 bytes spill loads\n",
      "\n",
      "2024-10-11 02:37:29.072090: I external/local_xla/xla/stream_executor/cuda/cuda_asm_compiler.cc:393] ptxas warning : Registers are spilled to local memory in function 'gemm_fusion_dot_461', 16 bytes spill stores, 16 bytes spill loads\n",
      "\n",
      "2024-10-11 02:37:29.312640: I external/local_xla/xla/stream_executor/cuda/cuda_asm_compiler.cc:393] ptxas warning : Registers are spilled to local memory in function 'gemm_fusion_dot_461', 352 bytes spill stores, 264 bytes spill loads\n",
      "\n",
      "2024-10-11 02:37:29.331385: I external/local_xla/xla/stream_executor/cuda/cuda_asm_compiler.cc:393] ptxas warning : Registers are spilled to local memory in function 'gemm_fusion_dot_433', 724 bytes spill stores, 896 bytes spill loads\n",
      "\n",
      "2024-10-11 02:37:31.038260: I external/local_xla/xla/stream_executor/cuda/cuda_asm_compiler.cc:393] ptxas warning : Registers are spilled to local memory in function 'gemm_fusion_dot_835', 248 bytes spill stores, 256 bytes spill loads\n",
      "\n",
      "2024-10-11 02:37:31.401068: I external/local_xla/xla/stream_executor/cuda/cuda_asm_compiler.cc:393] ptxas warning : Registers are spilled to local memory in function 'gemm_fusion_dot_839', 248 bytes spill stores, 256 bytes spill loads\n",
      "\n",
      "2024-10-11 02:37:31.724832: I external/local_xla/xla/stream_executor/cuda/cuda_asm_compiler.cc:393] ptxas warning : Registers are spilled to local memory in function 'gemm_fusion_dot_461', 200 bytes spill stores, 200 bytes spill loads\n",
      "\n"
     ]
    },
    {
     "name": "stdout",
     "output_type": "stream",
     "text": [
      "\u001b[1m27615/27615\u001b[0m \u001b[32m━━━━━━━━━━━━━━━━━━━━\u001b[0m\u001b[37m\u001b[0m \u001b[1m19s\u001b[0m 652us/step\n"
     ]
    },
    {
     "name": "stderr",
     "output_type": "stream",
     "text": [
      "/home/alan-xie/Documents/Thesis/wifi_localization/.venv/lib/python3.10/site-packages/keras/src/layers/core/input_layer.py:26: UserWarning: Argument `input_shape` is deprecated. Use `shape` instead.\n",
      "  warnings.warn(\n"
     ]
    },
    {
     "name": "stdout",
     "output_type": "stream",
     "text": [
      "\u001b[1m27615/27615\u001b[0m \u001b[32m━━━━━━━━━━━━━━━━━━━━\u001b[0m\u001b[37m\u001b[0m \u001b[1m18s\u001b[0m 650us/step\n"
     ]
    },
    {
     "name": "stderr",
     "output_type": "stream",
     "text": [
      "/home/alan-xie/Documents/Thesis/wifi_localization/.venv/lib/python3.10/site-packages/keras/src/layers/core/input_layer.py:26: UserWarning: Argument `input_shape` is deprecated. Use `shape` instead.\n",
      "  warnings.warn(\n"
     ]
    }
   ],
   "source": [
    "from sklearn.model_selection import KFold\n",
    "import numpy as np\n",
    "\n",
    "kf = KFold(n_splits=5, shuffle=True, random_state=42)\n",
    "mae_scores = []\n",
    "\n",
    "for train_index, test_index in kf.split(X):\n",
    "    X_train_cv, X_test_cv = X.iloc[train_index], X.iloc[test_index]\n",
    "    y_train_cv, y_test_cv = y.iloc[train_index], y.iloc[test_index]\n",
    "    \n",
    "    # Create and train the model\n",
    "    model = create_dnn_model(input_shape=(X_train_cv.shape[1],))\n",
    "    model.fit(X_train_cv, y_train_cv, epochs=30, batch_size=128, verbose=0)\n",
    "    \n",
    "    # Evaluate the model\n",
    "    y_pred_cv = model.predict(X_test_cv)\n",
    "    mae_cv = np.mean(np.abs(y_test_cv - y_pred_cv))\n",
    "    mae_scores.append(mae_cv)\n",
    "\n",
    "print(f\"Cross-validated MAE: {np.mean(mae_scores):.4f} ± {np.std(mae_scores):.4f}\")"
   ]
  }
 ],
 "metadata": {
  "kernelspec": {
   "display_name": "Python 3",
   "language": "python",
   "name": "python3"
  },
  "language_info": {
   "codemirror_mode": {
    "name": "ipython",
    "version": 3
   },
   "file_extension": ".py",
   "mimetype": "text/x-python",
   "name": "python",
   "nbconvert_exporter": "python",
   "pygments_lexer": "ipython3",
   "version": "3.10.15"
  }
 },
 "nbformat": 4,
 "nbformat_minor": 2
}
