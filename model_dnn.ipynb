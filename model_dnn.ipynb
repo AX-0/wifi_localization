{
 "cells": [
  {
   "cell_type": "code",
   "execution_count": 39,
   "metadata": {},
   "outputs": [],
   "source": [
    "from sklearn.preprocessing import StandardScaler\n",
    "import pandas as pd\n",
    "import tensorflow as tf\n",
    "from tensorflow.keras import layers, models\n",
    "import matplotlib.pyplot as plt\n",
    "from sklearn.model_selection import train_test_split\n",
    "import numpy as np\n",
    "from sklearn.metrics import mean_squared_error\n",
    "from sklearn.metrics import r2_score\n",
    "import seaborn as sns\n",
    "import datetime\n",
    "import math\n",
    "from sklearn.cluster import DBSCAN\n",
    "import hdbscan\n",
    "from sklearn.neighbors import NearestNeighbors\n",
    "from sklearn.metrics import mean_absolute_error\n",
    "from sklearn.metrics import median_absolute_error\n",
    "from sklearn.decomposition import PCA"
   ]
  },
  {
   "cell_type": "code",
   "execution_count": 40,
   "metadata": {},
   "outputs": [],
   "source": [
    "from tensorflow.keras import mixed_precision\n",
    "\n",
    "# # Set the global policy to mixed precision\n",
    "# policy = mixed_precision.Policy('mixed_float16')\n",
    "# mixed_precision.set_global_policy(policy)\n",
    "\n",
    "physical_devices = tf.config.list_physical_devices('GPU')\n",
    "tf.config.experimental.set_memory_growth(physical_devices[0], True)"
   ]
  },
  {
   "cell_type": "code",
   "execution_count": 41,
   "metadata": {},
   "outputs": [],
   "source": [
    "# import os\n",
    "\n",
    "# # Set the environment variable\n",
    "# os.environ['TF_GPU_ALLOCATOR'] = 'cuda_malloc_async'"
   ]
  },
  {
   "cell_type": "code",
   "execution_count": 42,
   "metadata": {},
   "outputs": [
    {
     "name": "stdout",
     "output_type": "stream",
     "text": [
      "Num GPUs Available:  1\n"
     ]
    }
   ],
   "source": [
    "print(\"Num GPUs Available: \", len(tf.config.list_physical_devices('GPU')))"
   ]
  },
  {
   "cell_type": "code",
   "execution_count": 43,
   "metadata": {},
   "outputs": [
    {
     "name": "stdout",
     "output_type": "stream",
     "text": [
      "['/device:CPU:0', '/device:GPU:0']\n"
     ]
    },
    {
     "name": "stderr",
     "output_type": "stream",
     "text": [
      "I0000 00:00:1730118380.267949   13720 cuda_executor.cc:1015] successful NUMA node read from SysFS had negative value (-1), but there must be at least one NUMA node, so returning NUMA node zero. See more at https://github.com/torvalds/linux/blob/v6.0/Documentation/ABI/testing/sysfs-bus-pci#L344-L355\n",
      "I0000 00:00:1730118380.270971   13720 cuda_executor.cc:1015] successful NUMA node read from SysFS had negative value (-1), but there must be at least one NUMA node, so returning NUMA node zero. See more at https://github.com/torvalds/linux/blob/v6.0/Documentation/ABI/testing/sysfs-bus-pci#L344-L355\n",
      "I0000 00:00:1730118380.273103   13720 cuda_executor.cc:1015] successful NUMA node read from SysFS had negative value (-1), but there must be at least one NUMA node, so returning NUMA node zero. See more at https://github.com/torvalds/linux/blob/v6.0/Documentation/ABI/testing/sysfs-bus-pci#L344-L355\n",
      "I0000 00:00:1730118380.275229   13720 cuda_executor.cc:1015] successful NUMA node read from SysFS had negative value (-1), but there must be at least one NUMA node, so returning NUMA node zero. See more at https://github.com/torvalds/linux/blob/v6.0/Documentation/ABI/testing/sysfs-bus-pci#L344-L355\n",
      "I0000 00:00:1730118380.277977   13720 cuda_executor.cc:1015] successful NUMA node read from SysFS had negative value (-1), but there must be at least one NUMA node, so returning NUMA node zero. See more at https://github.com/torvalds/linux/blob/v6.0/Documentation/ABI/testing/sysfs-bus-pci#L344-L355\n",
      "2024-10-28 23:26:20.280595: I tensorflow/core/common_runtime/gpu/gpu_device.cc:2021] Created device /device:GPU:0 with 5330 MB memory:  -> device: 0, name: NVIDIA GeForce RTX 3070 Ti, pci bus id: 0000:01:00.0, compute capability: 8.6\n"
     ]
    }
   ],
   "source": [
    "from tensorflow.python.client import device_lib\n",
    "\n",
    "def get_available_devices():\n",
    "    local_device_protos = device_lib.list_local_devices()\n",
    "    return [x.name for x in local_device_protos]\n",
    "\n",
    "print(get_available_devices())"
   ]
  },
  {
   "cell_type": "code",
   "execution_count": 44,
   "metadata": {},
   "outputs": [
    {
     "data": {
      "text/html": [
       "<div>\n",
       "<style scoped>\n",
       "    .dataframe tbody tr th:only-of-type {\n",
       "        vertical-align: middle;\n",
       "    }\n",
       "\n",
       "    .dataframe tbody tr th {\n",
       "        vertical-align: top;\n",
       "    }\n",
       "\n",
       "    .dataframe thead th {\n",
       "        text-align: right;\n",
       "    }\n",
       "</style>\n",
       "<table border=\"1\" class=\"dataframe\">\n",
       "  <thead>\n",
       "    <tr style=\"text-align: right;\">\n",
       "      <th></th>\n",
       "      <th>timestamps</th>\n",
       "      <th>csi_len</th>\n",
       "      <th>channel</th>\n",
       "      <th>err_info</th>\n",
       "      <th>noise_floor</th>\n",
       "      <th>rate</th>\n",
       "      <th>bandWidth</th>\n",
       "      <th>num_tones</th>\n",
       "      <th>nr</th>\n",
       "      <th>nc</th>\n",
       "      <th>...</th>\n",
       "      <th>subcarriers</th>\n",
       "      <th>ant1_amplitude</th>\n",
       "      <th>ant2_amplitude</th>\n",
       "      <th>ant1_phase</th>\n",
       "      <th>ant2_phase</th>\n",
       "      <th>with_receiver</th>\n",
       "      <th>coord1</th>\n",
       "      <th>coord2</th>\n",
       "      <th>ant1_amplitude_cluster</th>\n",
       "      <th>ant2_amplitude_cluster</th>\n",
       "    </tr>\n",
       "  </thead>\n",
       "  <tbody>\n",
       "    <tr>\n",
       "      <th>0</th>\n",
       "      <td>3689776957</td>\n",
       "      <td>280</td>\n",
       "      <td>2437</td>\n",
       "      <td>0</td>\n",
       "      <td>0</td>\n",
       "      <td>135</td>\n",
       "      <td>0</td>\n",
       "      <td>56</td>\n",
       "      <td>2</td>\n",
       "      <td>1</td>\n",
       "      <td>...</td>\n",
       "      <td>2</td>\n",
       "      <td>0.792823</td>\n",
       "      <td>1.803142</td>\n",
       "      <td>0.766030</td>\n",
       "      <td>0.970214</td>\n",
       "      <td>0</td>\n",
       "      <td>5</td>\n",
       "      <td>3</td>\n",
       "      <td>0.0</td>\n",
       "      <td>2.0</td>\n",
       "    </tr>\n",
       "    <tr>\n",
       "      <th>1</th>\n",
       "      <td>3689776957</td>\n",
       "      <td>280</td>\n",
       "      <td>2437</td>\n",
       "      <td>0</td>\n",
       "      <td>0</td>\n",
       "      <td>135</td>\n",
       "      <td>0</td>\n",
       "      <td>56</td>\n",
       "      <td>2</td>\n",
       "      <td>1</td>\n",
       "      <td>...</td>\n",
       "      <td>5</td>\n",
       "      <td>0.633937</td>\n",
       "      <td>1.881858</td>\n",
       "      <td>0.718191</td>\n",
       "      <td>0.925932</td>\n",
       "      <td>0</td>\n",
       "      <td>5</td>\n",
       "      <td>3</td>\n",
       "      <td>0.0</td>\n",
       "      <td>2.0</td>\n",
       "    </tr>\n",
       "    <tr>\n",
       "      <th>2</th>\n",
       "      <td>3689776957</td>\n",
       "      <td>280</td>\n",
       "      <td>2437</td>\n",
       "      <td>0</td>\n",
       "      <td>0</td>\n",
       "      <td>135</td>\n",
       "      <td>0</td>\n",
       "      <td>56</td>\n",
       "      <td>2</td>\n",
       "      <td>1</td>\n",
       "      <td>...</td>\n",
       "      <td>6</td>\n",
       "      <td>0.415493</td>\n",
       "      <td>1.937205</td>\n",
       "      <td>0.687843</td>\n",
       "      <td>0.903455</td>\n",
       "      <td>0</td>\n",
       "      <td>5</td>\n",
       "      <td>3</td>\n",
       "      <td>0.0</td>\n",
       "      <td>2.0</td>\n",
       "    </tr>\n",
       "    <tr>\n",
       "      <th>3</th>\n",
       "      <td>3689776957</td>\n",
       "      <td>280</td>\n",
       "      <td>2437</td>\n",
       "      <td>0</td>\n",
       "      <td>0</td>\n",
       "      <td>135</td>\n",
       "      <td>0</td>\n",
       "      <td>56</td>\n",
       "      <td>2</td>\n",
       "      <td>1</td>\n",
       "      <td>...</td>\n",
       "      <td>7</td>\n",
       "      <td>0.165612</td>\n",
       "      <td>1.719851</td>\n",
       "      <td>0.707981</td>\n",
       "      <td>0.922570</td>\n",
       "      <td>0</td>\n",
       "      <td>5</td>\n",
       "      <td>3</td>\n",
       "      <td>0.0</td>\n",
       "      <td>2.0</td>\n",
       "    </tr>\n",
       "    <tr>\n",
       "      <th>4</th>\n",
       "      <td>3689776957</td>\n",
       "      <td>280</td>\n",
       "      <td>2437</td>\n",
       "      <td>0</td>\n",
       "      <td>0</td>\n",
       "      <td>135</td>\n",
       "      <td>0</td>\n",
       "      <td>56</td>\n",
       "      <td>2</td>\n",
       "      <td>1</td>\n",
       "      <td>...</td>\n",
       "      <td>8</td>\n",
       "      <td>-0.153431</td>\n",
       "      <td>1.705586</td>\n",
       "      <td>0.696637</td>\n",
       "      <td>0.922810</td>\n",
       "      <td>0</td>\n",
       "      <td>5</td>\n",
       "      <td>3</td>\n",
       "      <td>0.0</td>\n",
       "      <td>2.0</td>\n",
       "    </tr>\n",
       "  </tbody>\n",
       "</table>\n",
       "<p>5 rows × 26 columns</p>\n",
       "</div>"
      ],
      "text/plain": [
       "   timestamps  csi_len  channel  err_info  noise_floor  rate  bandWidth  \\\n",
       "0  3689776957      280     2437         0            0   135          0   \n",
       "1  3689776957      280     2437         0            0   135          0   \n",
       "2  3689776957      280     2437         0            0   135          0   \n",
       "3  3689776957      280     2437         0            0   135          0   \n",
       "4  3689776957      280     2437         0            0   135          0   \n",
       "\n",
       "   num_tones  nr  nc  ...  subcarriers  ant1_amplitude  ant2_amplitude  \\\n",
       "0         56   2   1  ...            2        0.792823        1.803142   \n",
       "1         56   2   1  ...            5        0.633937        1.881858   \n",
       "2         56   2   1  ...            6        0.415493        1.937205   \n",
       "3         56   2   1  ...            7        0.165612        1.719851   \n",
       "4         56   2   1  ...            8       -0.153431        1.705586   \n",
       "\n",
       "   ant1_phase  ant2_phase  with_receiver  coord1  coord2  \\\n",
       "0    0.766030    0.970214              0       5       3   \n",
       "1    0.718191    0.925932              0       5       3   \n",
       "2    0.687843    0.903455              0       5       3   \n",
       "3    0.707981    0.922570              0       5       3   \n",
       "4    0.696637    0.922810              0       5       3   \n",
       "\n",
       "   ant1_amplitude_cluster  ant2_amplitude_cluster  \n",
       "0                     0.0                     2.0  \n",
       "1                     0.0                     2.0  \n",
       "2                     0.0                     2.0  \n",
       "3                     0.0                     2.0  \n",
       "4                     0.0                     2.0  \n",
       "\n",
       "[5 rows x 26 columns]"
      ]
     },
     "execution_count": 44,
     "metadata": {},
     "output_type": "execute_result"
    }
   ],
   "source": [
    "# data = pd.read_csv(\"C:\\Users\\alanx\\OneDrive - The University of Sydney (Students)\\Thesis\\Deep Learning\\wifi_localization\\data\\csv\\ultimate_combined.csv\")\n",
    "# data = pd.read_csv(\"data/csv/ultimate_combined.csv\")\n",
    "data = pd.read_csv(\"data/csv/still/still.csv\")\n",
    "# data = pd.read_csv(\"data/csv/still_with_receiver/still_with_receiver.csv\")\n",
    "\n",
    "data.head()"
   ]
  },
  {
   "cell_type": "code",
   "execution_count": 45,
   "metadata": {},
   "outputs": [],
   "source": [
    "# data.drop('with_receiver', axis=1, inplace=True)\n",
    "# data.drop('nc', axis=1, inplace=True)\n",
    "# data.drop('ant1_phase', axis=1, inplace=True)\n",
    "# data.drop('ant2_phase', axis=1, inplace=True)"
   ]
  },
  {
   "cell_type": "code",
   "execution_count": 46,
   "metadata": {},
   "outputs": [],
   "source": [
    "# data = pd.concat([data, pd.get_dummies(data['subcarriers'], prefix='subcarrier')], axis=1)\n",
    "# data.drop('rssi', axis=1, inplace=True)\n",
    "# data.drop('rssi1', axis=1, inplace=True)\n",
    "# data.drop('rssi2', axis=1, inplace=True)\n",
    "# data.drop('rssi3', axis=1, inplace=True)\n",
    "# data.head()\n",
    "amplitudes_subcarriers = data[['ant1_amplitude', 'ant2_amplitude', 'subcarriers']]\n",
    "data.drop(columns=[\"timestamps\", 'ant1_amplitude', 'ant2_amplitude', 'subcarriers'], axis=1, inplace=True)"
   ]
  },
  {
   "cell_type": "code",
   "execution_count": 47,
   "metadata": {},
   "outputs": [],
   "source": [
    "# features_scaled = [\"ant1_phase\", \"ant2_phase\", \"rssi\", \"rssi1\", \"rssi2\"]"
   ]
  },
  {
   "cell_type": "code",
   "execution_count": 48,
   "metadata": {},
   "outputs": [
    {
     "data": {
      "text/html": [
       "<div>\n",
       "<style scoped>\n",
       "    .dataframe tbody tr th:only-of-type {\n",
       "        vertical-align: middle;\n",
       "    }\n",
       "\n",
       "    .dataframe tbody tr th {\n",
       "        vertical-align: top;\n",
       "    }\n",
       "\n",
       "    .dataframe thead th {\n",
       "        text-align: right;\n",
       "    }\n",
       "</style>\n",
       "<table border=\"1\" class=\"dataframe\">\n",
       "  <thead>\n",
       "    <tr style=\"text-align: right;\">\n",
       "      <th></th>\n",
       "      <th>csi_len</th>\n",
       "      <th>channel</th>\n",
       "      <th>err_info</th>\n",
       "      <th>noise_floor</th>\n",
       "      <th>rate</th>\n",
       "      <th>bandWidth</th>\n",
       "      <th>num_tones</th>\n",
       "      <th>nr</th>\n",
       "      <th>nc</th>\n",
       "      <th>rssi</th>\n",
       "      <th>rssi1</th>\n",
       "      <th>rssi2</th>\n",
       "      <th>rssi3</th>\n",
       "      <th>payload_length</th>\n",
       "      <th>block_length</th>\n",
       "      <th>ant1_phase</th>\n",
       "      <th>ant2_phase</th>\n",
       "      <th>with_receiver</th>\n",
       "      <th>ant1_amplitude_cluster</th>\n",
       "      <th>ant2_amplitude_cluster</th>\n",
       "    </tr>\n",
       "  </thead>\n",
       "  <tbody>\n",
       "    <tr>\n",
       "      <th>0</th>\n",
       "      <td>-2.537797</td>\n",
       "      <td>0.00245</td>\n",
       "      <td>-0.009041</td>\n",
       "      <td>0.0</td>\n",
       "      <td>-1.719826</td>\n",
       "      <td>0.0</td>\n",
       "      <td>0.0</td>\n",
       "      <td>0.0</td>\n",
       "      <td>-2.537797</td>\n",
       "      <td>-0.715606</td>\n",
       "      <td>-0.692259</td>\n",
       "      <td>-0.804275</td>\n",
       "      <td>0.0</td>\n",
       "      <td>0.780415</td>\n",
       "      <td>-0.819034</td>\n",
       "      <td>0.766030</td>\n",
       "      <td>0.970214</td>\n",
       "      <td>0.0</td>\n",
       "      <td>-1.279673</td>\n",
       "      <td>-1.318489</td>\n",
       "    </tr>\n",
       "    <tr>\n",
       "      <th>1</th>\n",
       "      <td>-2.537797</td>\n",
       "      <td>0.00245</td>\n",
       "      <td>-0.009041</td>\n",
       "      <td>0.0</td>\n",
       "      <td>-1.719826</td>\n",
       "      <td>0.0</td>\n",
       "      <td>0.0</td>\n",
       "      <td>0.0</td>\n",
       "      <td>-2.537797</td>\n",
       "      <td>-0.715606</td>\n",
       "      <td>-0.692259</td>\n",
       "      <td>-0.804275</td>\n",
       "      <td>0.0</td>\n",
       "      <td>0.780415</td>\n",
       "      <td>-0.819034</td>\n",
       "      <td>0.718191</td>\n",
       "      <td>0.925932</td>\n",
       "      <td>0.0</td>\n",
       "      <td>-1.279673</td>\n",
       "      <td>-1.318489</td>\n",
       "    </tr>\n",
       "    <tr>\n",
       "      <th>2</th>\n",
       "      <td>-2.537797</td>\n",
       "      <td>0.00245</td>\n",
       "      <td>-0.009041</td>\n",
       "      <td>0.0</td>\n",
       "      <td>-1.719826</td>\n",
       "      <td>0.0</td>\n",
       "      <td>0.0</td>\n",
       "      <td>0.0</td>\n",
       "      <td>-2.537797</td>\n",
       "      <td>-0.715606</td>\n",
       "      <td>-0.692259</td>\n",
       "      <td>-0.804275</td>\n",
       "      <td>0.0</td>\n",
       "      <td>0.780415</td>\n",
       "      <td>-0.819034</td>\n",
       "      <td>0.687843</td>\n",
       "      <td>0.903455</td>\n",
       "      <td>0.0</td>\n",
       "      <td>-1.279673</td>\n",
       "      <td>-1.318489</td>\n",
       "    </tr>\n",
       "    <tr>\n",
       "      <th>3</th>\n",
       "      <td>-2.537797</td>\n",
       "      <td>0.00245</td>\n",
       "      <td>-0.009041</td>\n",
       "      <td>0.0</td>\n",
       "      <td>-1.719826</td>\n",
       "      <td>0.0</td>\n",
       "      <td>0.0</td>\n",
       "      <td>0.0</td>\n",
       "      <td>-2.537797</td>\n",
       "      <td>-0.715606</td>\n",
       "      <td>-0.692259</td>\n",
       "      <td>-0.804275</td>\n",
       "      <td>0.0</td>\n",
       "      <td>0.780415</td>\n",
       "      <td>-0.819034</td>\n",
       "      <td>0.707981</td>\n",
       "      <td>0.922570</td>\n",
       "      <td>0.0</td>\n",
       "      <td>-1.279673</td>\n",
       "      <td>-1.318489</td>\n",
       "    </tr>\n",
       "    <tr>\n",
       "      <th>4</th>\n",
       "      <td>-2.537797</td>\n",
       "      <td>0.00245</td>\n",
       "      <td>-0.009041</td>\n",
       "      <td>0.0</td>\n",
       "      <td>-1.719826</td>\n",
       "      <td>0.0</td>\n",
       "      <td>0.0</td>\n",
       "      <td>0.0</td>\n",
       "      <td>-2.537797</td>\n",
       "      <td>-0.715606</td>\n",
       "      <td>-0.692259</td>\n",
       "      <td>-0.804275</td>\n",
       "      <td>0.0</td>\n",
       "      <td>0.780415</td>\n",
       "      <td>-0.819034</td>\n",
       "      <td>0.696637</td>\n",
       "      <td>0.922810</td>\n",
       "      <td>0.0</td>\n",
       "      <td>-1.279673</td>\n",
       "      <td>-1.318489</td>\n",
       "    </tr>\n",
       "  </tbody>\n",
       "</table>\n",
       "</div>"
      ],
      "text/plain": [
       "    csi_len  channel  err_info  noise_floor      rate  bandWidth  num_tones  \\\n",
       "0 -2.537797  0.00245 -0.009041          0.0 -1.719826        0.0        0.0   \n",
       "1 -2.537797  0.00245 -0.009041          0.0 -1.719826        0.0        0.0   \n",
       "2 -2.537797  0.00245 -0.009041          0.0 -1.719826        0.0        0.0   \n",
       "3 -2.537797  0.00245 -0.009041          0.0 -1.719826        0.0        0.0   \n",
       "4 -2.537797  0.00245 -0.009041          0.0 -1.719826        0.0        0.0   \n",
       "\n",
       "    nr        nc      rssi     rssi1     rssi2  rssi3  payload_length  \\\n",
       "0  0.0 -2.537797 -0.715606 -0.692259 -0.804275    0.0        0.780415   \n",
       "1  0.0 -2.537797 -0.715606 -0.692259 -0.804275    0.0        0.780415   \n",
       "2  0.0 -2.537797 -0.715606 -0.692259 -0.804275    0.0        0.780415   \n",
       "3  0.0 -2.537797 -0.715606 -0.692259 -0.804275    0.0        0.780415   \n",
       "4  0.0 -2.537797 -0.715606 -0.692259 -0.804275    0.0        0.780415   \n",
       "\n",
       "   block_length  ant1_phase  ant2_phase  with_receiver  \\\n",
       "0     -0.819034    0.766030    0.970214            0.0   \n",
       "1     -0.819034    0.718191    0.925932            0.0   \n",
       "2     -0.819034    0.687843    0.903455            0.0   \n",
       "3     -0.819034    0.707981    0.922570            0.0   \n",
       "4     -0.819034    0.696637    0.922810            0.0   \n",
       "\n",
       "   ant1_amplitude_cluster  ant2_amplitude_cluster  \n",
       "0               -1.279673               -1.318489  \n",
       "1               -1.279673               -1.318489  \n",
       "2               -1.279673               -1.318489  \n",
       "3               -1.279673               -1.318489  \n",
       "4               -1.279673               -1.318489  "
      ]
     },
     "execution_count": 48,
     "metadata": {},
     "output_type": "execute_result"
    }
   ],
   "source": [
    "features_scaled = [\"ant1_phase\", \"ant2_phase\", \"rssi\", \"rssi1\", \"rssi2\"]\n",
    "features = data.columns\n",
    "# X = data.drop(columns=['coord1', 'coord2', 'ant1_amplitude', 'ant2_amplitude'])\n",
    "X = data.drop(columns=['coord1', 'coord2'])\n",
    "y = data[['coord1', 'coord2']]\n",
    "\n",
    "# scaler = StandardScaler()\n",
    "# X_scaled = scaler.fit_transform(X)\n",
    "# X_scaled = X\n",
    "\n",
    "# Separate the columns that need to be scaled\n",
    "columns_to_scale = [col for col in X.columns if col not in features_scaled]\n",
    "\n",
    "# Initialize the scaler\n",
    "scaler = StandardScaler()\n",
    "\n",
    "# Apply the scaler to the columns that need to be scaled\n",
    "X_scaled_part = scaler.fit_transform(X[columns_to_scale])\n",
    "\n",
    "# Create a DataFrame for the scaled part, with the correct column names\n",
    "X_scaled_df = pd.DataFrame(X_scaled_part, columns=columns_to_scale)\n",
    "\n",
    "# Combine the scaled columns with the unscaled columns\n",
    "X_scaled = pd.concat([X_scaled_df, X[features_scaled]], axis=1)\n",
    "\n",
    "# Reorder columns to match the original DataFrame's structure (optional)\n",
    "X_scaled = X_scaled[X.columns]\n",
    "\n",
    "X_scaled.head()"
   ]
  },
  {
   "cell_type": "code",
   "execution_count": 49,
   "metadata": {},
   "outputs": [
    {
     "name": "stdout",
     "output_type": "stream",
     "text": [
      "PCA with 1 components, sum is 0.2587424869325754.\n",
      "PCA with 2 components, sum is 0.38601272745656445.\n",
      "PCA with 3 components, sum is 0.5056788813990564.\n",
      "PCA with 4 components, sum is 0.5904961018107113.\n",
      "PCA with 5 components, sum is 0.6714906763452682.\n",
      "PCA with 6 components, sum is 0.7487081879938623.\n",
      "PCA with 7 components, sum is 0.8258397527794406.\n",
      "PCA with 8 components, sum is 0.8954942910217492.\n"
     ]
    }
   ],
   "source": [
    "for i in range(1, X.shape[0]):\n",
    "    pca = PCA(n_components=i)\n",
    "    X_pca = pca.fit_transform(X_scaled)\n",
    "    explained_variance = pca.explained_variance_ratio_\n",
    "    # print(f'Explained variance by each component: {explained_variance}')\n",
    "    print(f\"PCA with {i} components, sum is {sum(explained_variance)}.\")\n",
    "    \n",
    "    if (sum(explained_variance) >= 0.85):\n",
    "        break"
   ]
  },
  {
   "cell_type": "code",
   "execution_count": 50,
   "metadata": {},
   "outputs": [
    {
     "data": {
      "text/html": [
       "<div>\n",
       "<style scoped>\n",
       "    .dataframe tbody tr th:only-of-type {\n",
       "        vertical-align: middle;\n",
       "    }\n",
       "\n",
       "    .dataframe tbody tr th {\n",
       "        vertical-align: top;\n",
       "    }\n",
       "\n",
       "    .dataframe thead th {\n",
       "        text-align: right;\n",
       "    }\n",
       "</style>\n",
       "<table border=\"1\" class=\"dataframe\">\n",
       "  <thead>\n",
       "    <tr style=\"text-align: right;\">\n",
       "      <th></th>\n",
       "      <th>0</th>\n",
       "      <th>1</th>\n",
       "      <th>2</th>\n",
       "      <th>3</th>\n",
       "      <th>4</th>\n",
       "      <th>5</th>\n",
       "      <th>6</th>\n",
       "      <th>7</th>\n",
       "    </tr>\n",
       "  </thead>\n",
       "  <tbody>\n",
       "    <tr>\n",
       "      <th>0</th>\n",
       "      <td>-3.901154</td>\n",
       "      <td>-0.535135</td>\n",
       "      <td>2.140810</td>\n",
       "      <td>1.232423</td>\n",
       "      <td>-1.114892</td>\n",
       "      <td>-0.012789</td>\n",
       "      <td>-0.009002</td>\n",
       "      <td>0.154768</td>\n",
       "    </tr>\n",
       "    <tr>\n",
       "      <th>1</th>\n",
       "      <td>-3.901005</td>\n",
       "      <td>-0.534982</td>\n",
       "      <td>2.141155</td>\n",
       "      <td>1.167292</td>\n",
       "      <td>-1.115123</td>\n",
       "      <td>-0.012151</td>\n",
       "      <td>-0.009831</td>\n",
       "      <td>0.157175</td>\n",
       "    </tr>\n",
       "    <tr>\n",
       "      <th>2</th>\n",
       "      <td>-3.900911</td>\n",
       "      <td>-0.534884</td>\n",
       "      <td>2.141356</td>\n",
       "      <td>1.129937</td>\n",
       "      <td>-1.115262</td>\n",
       "      <td>-0.011795</td>\n",
       "      <td>-0.010313</td>\n",
       "      <td>0.162677</td>\n",
       "    </tr>\n",
       "    <tr>\n",
       "      <th>3</th>\n",
       "      <td>-3.900973</td>\n",
       "      <td>-0.534948</td>\n",
       "      <td>2.141210</td>\n",
       "      <td>1.157689</td>\n",
       "      <td>-1.115164</td>\n",
       "      <td>-0.012067</td>\n",
       "      <td>-0.009961</td>\n",
       "      <td>0.162000</td>\n",
       "    </tr>\n",
       "    <tr>\n",
       "      <th>4</th>\n",
       "      <td>-3.900939</td>\n",
       "      <td>-0.534907</td>\n",
       "      <td>2.141260</td>\n",
       "      <td>1.149825</td>\n",
       "      <td>-1.115204</td>\n",
       "      <td>-0.012008</td>\n",
       "      <td>-0.010074</td>\n",
       "      <td>0.170177</td>\n",
       "    </tr>\n",
       "  </tbody>\n",
       "</table>\n",
       "</div>"
      ],
      "text/plain": [
       "          0         1         2         3         4         5         6  \\\n",
       "0 -3.901154 -0.535135  2.140810  1.232423 -1.114892 -0.012789 -0.009002   \n",
       "1 -3.901005 -0.534982  2.141155  1.167292 -1.115123 -0.012151 -0.009831   \n",
       "2 -3.900911 -0.534884  2.141356  1.129937 -1.115262 -0.011795 -0.010313   \n",
       "3 -3.900973 -0.534948  2.141210  1.157689 -1.115164 -0.012067 -0.009961   \n",
       "4 -3.900939 -0.534907  2.141260  1.149825 -1.115204 -0.012008 -0.010074   \n",
       "\n",
       "          7  \n",
       "0  0.154768  \n",
       "1  0.157175  \n",
       "2  0.162677  \n",
       "3  0.162000  \n",
       "4  0.170177  "
      ]
     },
     "execution_count": 50,
     "metadata": {},
     "output_type": "execute_result"
    }
   ],
   "source": [
    "X = pd.DataFrame(X_pca)\n",
    "# X = pd.concat([amplitudes.reset_index(drop=True), X], axis=1)\n",
    "X.head()"
   ]
  },
  {
   "cell_type": "markdown",
   "metadata": {},
   "source": [
    "# Model"
   ]
  },
  {
   "cell_type": "code",
   "execution_count": 51,
   "metadata": {},
   "outputs": [],
   "source": [
    "model_type = \"dnn\""
   ]
  },
  {
   "cell_type": "code",
   "execution_count": 52,
   "metadata": {},
   "outputs": [],
   "source": [
    "# X = data.drop(columns=['coord1', 'coord2']) \n",
    "# y = data[['coord1', 'coord2']]\n",
    "\n",
    "# X = X.values.astype(np.float32)\n",
    "# y = y.values.astype(np.float32)"
   ]
  },
  {
   "cell_type": "code",
   "execution_count": 53,
   "metadata": {},
   "outputs": [],
   "source": [
    "# np.save('preprocessed_X.npy', X)\n",
    "# np.save('preprocessed_y.npy', y)"
   ]
  },
  {
   "cell_type": "code",
   "execution_count": 54,
   "metadata": {},
   "outputs": [],
   "source": [
    "# X = np.load('preprocessed_X.npy')\n",
    "# y = np.load('preprocessed_y.npy')"
   ]
  },
  {
   "cell_type": "code",
   "execution_count": 55,
   "metadata": {},
   "outputs": [],
   "source": [
    "# dataset = tf.data.Dataset.from_tensor_slices((X, y))\n",
    "\n",
    "# batch_size = 128  # Adjust based on your GPU memory\n",
    "\n",
    "# dataset = dataset.shuffle(buffer_size=10000)\n",
    "# dataset = dataset.batch(batch_size)\n",
    "# dataset = dataset.prefetch(tf.data.AUTOTUNE)"
   ]
  },
  {
   "cell_type": "code",
   "execution_count": 56,
   "metadata": {},
   "outputs": [
    {
     "name": "stdout",
     "output_type": "stream",
     "text": [
      "Training set shape: (5498385, 8)\n",
      "Validation set shape: (1832795, 8)\n",
      "Test set shape: (1832795, 8)\n"
     ]
    }
   ],
   "source": [
    "# First, split the data into training and a temporary set (which will later be split into validation and test sets)\n",
    "X_train, X_temp, y_train, y_temp = train_test_split(X, y, test_size=0.4, random_state=42)  # 60% train, 40% temp\n",
    "\n",
    "# Now, split the temporary set into validation and test sets\n",
    "X_val, X_test, y_val, y_test = train_test_split(X_temp, y_temp, test_size=0.5, random_state=42)  # 20% val, 20% test\n",
    "\n",
    "# Check the shapes of your splits\n",
    "print(\"Training set shape:\", X_train.shape)\n",
    "print(\"Validation set shape:\", X_val.shape)\n",
    "print(\"Test set shape:\", X_test.shape)"
   ]
  },
  {
   "cell_type": "code",
   "execution_count": 57,
   "metadata": {},
   "outputs": [
    {
     "name": "stderr",
     "output_type": "stream",
     "text": [
      "/home/alan-xie/Documents/Thesis/wifi_localization/.venv/lib/python3.10/site-packages/keras/src/layers/core/input_layer.py:26: UserWarning: Argument `input_shape` is deprecated. Use `shape` instead.\n",
      "  warnings.warn(\n"
     ]
    },
    {
     "data": {
      "text/html": [
       "<pre style=\"white-space:pre;overflow-x:auto;line-height:normal;font-family:Menlo,'DejaVu Sans Mono',consolas,'Courier New',monospace\"><span style=\"font-weight: bold\">Model: \"sequential_1\"</span>\n",
       "</pre>\n"
      ],
      "text/plain": [
       "\u001b[1mModel: \"sequential_1\"\u001b[0m\n"
      ]
     },
     "metadata": {},
     "output_type": "display_data"
    },
    {
     "data": {
      "text/html": [
       "<pre style=\"white-space:pre;overflow-x:auto;line-height:normal;font-family:Menlo,'DejaVu Sans Mono',consolas,'Courier New',monospace\">┏━━━━━━━━━━━━━━━━━━━━━━━━━━━━━━━━━┳━━━━━━━━━━━━━━━━━━━━━━━━┳━━━━━━━━━━━━━━━┓\n",
       "┃<span style=\"font-weight: bold\"> Layer (type)                    </span>┃<span style=\"font-weight: bold\"> Output Shape           </span>┃<span style=\"font-weight: bold\">       Param # </span>┃\n",
       "┡━━━━━━━━━━━━━━━━━━━━━━━━━━━━━━━━━╇━━━━━━━━━━━━━━━━━━━━━━━━╇━━━━━━━━━━━━━━━┩\n",
       "│ dense_9 (<span style=\"color: #0087ff; text-decoration-color: #0087ff\">Dense</span>)                 │ (<span style=\"color: #00d7ff; text-decoration-color: #00d7ff\">None</span>, <span style=\"color: #00af00; text-decoration-color: #00af00\">2048</span>)           │        <span style=\"color: #00af00; text-decoration-color: #00af00\">18,432</span> │\n",
       "├─────────────────────────────────┼────────────────────────┼───────────────┤\n",
       "│ dense_10 (<span style=\"color: #0087ff; text-decoration-color: #0087ff\">Dense</span>)                │ (<span style=\"color: #00d7ff; text-decoration-color: #00d7ff\">None</span>, <span style=\"color: #00af00; text-decoration-color: #00af00\">2048</span>)           │     <span style=\"color: #00af00; text-decoration-color: #00af00\">4,196,352</span> │\n",
       "├─────────────────────────────────┼────────────────────────┼───────────────┤\n",
       "│ dense_11 (<span style=\"color: #0087ff; text-decoration-color: #0087ff\">Dense</span>)                │ (<span style=\"color: #00d7ff; text-decoration-color: #00d7ff\">None</span>, <span style=\"color: #00af00; text-decoration-color: #00af00\">1024</span>)           │     <span style=\"color: #00af00; text-decoration-color: #00af00\">2,098,176</span> │\n",
       "├─────────────────────────────────┼────────────────────────┼───────────────┤\n",
       "│ dense_12 (<span style=\"color: #0087ff; text-decoration-color: #0087ff\">Dense</span>)                │ (<span style=\"color: #00d7ff; text-decoration-color: #00d7ff\">None</span>, <span style=\"color: #00af00; text-decoration-color: #00af00\">512</span>)            │       <span style=\"color: #00af00; text-decoration-color: #00af00\">524,800</span> │\n",
       "├─────────────────────────────────┼────────────────────────┼───────────────┤\n",
       "│ dense_13 (<span style=\"color: #0087ff; text-decoration-color: #0087ff\">Dense</span>)                │ (<span style=\"color: #00d7ff; text-decoration-color: #00d7ff\">None</span>, <span style=\"color: #00af00; text-decoration-color: #00af00\">1024</span>)           │       <span style=\"color: #00af00; text-decoration-color: #00af00\">525,312</span> │\n",
       "├─────────────────────────────────┼────────────────────────┼───────────────┤\n",
       "│ dense_14 (<span style=\"color: #0087ff; text-decoration-color: #0087ff\">Dense</span>)                │ (<span style=\"color: #00d7ff; text-decoration-color: #00d7ff\">None</span>, <span style=\"color: #00af00; text-decoration-color: #00af00\">512</span>)            │       <span style=\"color: #00af00; text-decoration-color: #00af00\">524,800</span> │\n",
       "├─────────────────────────────────┼────────────────────────┼───────────────┤\n",
       "│ dense_15 (<span style=\"color: #0087ff; text-decoration-color: #0087ff\">Dense</span>)                │ (<span style=\"color: #00d7ff; text-decoration-color: #00d7ff\">None</span>, <span style=\"color: #00af00; text-decoration-color: #00af00\">2</span>)              │         <span style=\"color: #00af00; text-decoration-color: #00af00\">1,026</span> │\n",
       "└─────────────────────────────────┴────────────────────────┴───────────────┘\n",
       "</pre>\n"
      ],
      "text/plain": [
       "┏━━━━━━━━━━━━━━━━━━━━━━━━━━━━━━━━━┳━━━━━━━━━━━━━━━━━━━━━━━━┳━━━━━━━━━━━━━━━┓\n",
       "┃\u001b[1m \u001b[0m\u001b[1mLayer (type)                   \u001b[0m\u001b[1m \u001b[0m┃\u001b[1m \u001b[0m\u001b[1mOutput Shape          \u001b[0m\u001b[1m \u001b[0m┃\u001b[1m \u001b[0m\u001b[1m      Param #\u001b[0m\u001b[1m \u001b[0m┃\n",
       "┡━━━━━━━━━━━━━━━━━━━━━━━━━━━━━━━━━╇━━━━━━━━━━━━━━━━━━━━━━━━╇━━━━━━━━━━━━━━━┩\n",
       "│ dense_9 (\u001b[38;5;33mDense\u001b[0m)                 │ (\u001b[38;5;45mNone\u001b[0m, \u001b[38;5;34m2048\u001b[0m)           │        \u001b[38;5;34m18,432\u001b[0m │\n",
       "├─────────────────────────────────┼────────────────────────┼───────────────┤\n",
       "│ dense_10 (\u001b[38;5;33mDense\u001b[0m)                │ (\u001b[38;5;45mNone\u001b[0m, \u001b[38;5;34m2048\u001b[0m)           │     \u001b[38;5;34m4,196,352\u001b[0m │\n",
       "├─────────────────────────────────┼────────────────────────┼───────────────┤\n",
       "│ dense_11 (\u001b[38;5;33mDense\u001b[0m)                │ (\u001b[38;5;45mNone\u001b[0m, \u001b[38;5;34m1024\u001b[0m)           │     \u001b[38;5;34m2,098,176\u001b[0m │\n",
       "├─────────────────────────────────┼────────────────────────┼───────────────┤\n",
       "│ dense_12 (\u001b[38;5;33mDense\u001b[0m)                │ (\u001b[38;5;45mNone\u001b[0m, \u001b[38;5;34m512\u001b[0m)            │       \u001b[38;5;34m524,800\u001b[0m │\n",
       "├─────────────────────────────────┼────────────────────────┼───────────────┤\n",
       "│ dense_13 (\u001b[38;5;33mDense\u001b[0m)                │ (\u001b[38;5;45mNone\u001b[0m, \u001b[38;5;34m1024\u001b[0m)           │       \u001b[38;5;34m525,312\u001b[0m │\n",
       "├─────────────────────────────────┼────────────────────────┼───────────────┤\n",
       "│ dense_14 (\u001b[38;5;33mDense\u001b[0m)                │ (\u001b[38;5;45mNone\u001b[0m, \u001b[38;5;34m512\u001b[0m)            │       \u001b[38;5;34m524,800\u001b[0m │\n",
       "├─────────────────────────────────┼────────────────────────┼───────────────┤\n",
       "│ dense_15 (\u001b[38;5;33mDense\u001b[0m)                │ (\u001b[38;5;45mNone\u001b[0m, \u001b[38;5;34m2\u001b[0m)              │         \u001b[38;5;34m1,026\u001b[0m │\n",
       "└─────────────────────────────────┴────────────────────────┴───────────────┘\n"
      ]
     },
     "metadata": {},
     "output_type": "display_data"
    },
    {
     "data": {
      "text/html": [
       "<pre style=\"white-space:pre;overflow-x:auto;line-height:normal;font-family:Menlo,'DejaVu Sans Mono',consolas,'Courier New',monospace\"><span style=\"font-weight: bold\"> Total params: </span><span style=\"color: #00af00; text-decoration-color: #00af00\">7,888,898</span> (30.09 MB)\n",
       "</pre>\n"
      ],
      "text/plain": [
       "\u001b[1m Total params: \u001b[0m\u001b[38;5;34m7,888,898\u001b[0m (30.09 MB)\n"
      ]
     },
     "metadata": {},
     "output_type": "display_data"
    },
    {
     "data": {
      "text/html": [
       "<pre style=\"white-space:pre;overflow-x:auto;line-height:normal;font-family:Menlo,'DejaVu Sans Mono',consolas,'Courier New',monospace\"><span style=\"font-weight: bold\"> Trainable params: </span><span style=\"color: #00af00; text-decoration-color: #00af00\">7,888,898</span> (30.09 MB)\n",
       "</pre>\n"
      ],
      "text/plain": [
       "\u001b[1m Trainable params: \u001b[0m\u001b[38;5;34m7,888,898\u001b[0m (30.09 MB)\n"
      ]
     },
     "metadata": {},
     "output_type": "display_data"
    },
    {
     "data": {
      "text/html": [
       "<pre style=\"white-space:pre;overflow-x:auto;line-height:normal;font-family:Menlo,'DejaVu Sans Mono',consolas,'Courier New',monospace\"><span style=\"font-weight: bold\"> Non-trainable params: </span><span style=\"color: #00af00; text-decoration-color: #00af00\">0</span> (0.00 B)\n",
       "</pre>\n"
      ],
      "text/plain": [
       "\u001b[1m Non-trainable params: \u001b[0m\u001b[38;5;34m0\u001b[0m (0.00 B)\n"
      ]
     },
     "metadata": {},
     "output_type": "display_data"
    }
   ],
   "source": [
    "def create_dnn_model(input_shape):\n",
    "    model = models.Sequential()\n",
    "    model.add(layers.InputLayer(input_shape=input_shape))\n",
    "\n",
    "    # Hidden layers\n",
    "    # model.add(layers.Dense(8192, activation='relu'))\n",
    "    # model.add(layers.Dense(4096, activation='relu'))\n",
    "    # model.add(layers.Dense(2048, activation='relu'))\n",
    "    model.add(layers.Dense(2048, activation='relu'))\n",
    "    model.add(layers.Dense(2048, activation='relu'))\n",
    "    model.add(layers.Dense(1024, activation='relu'))\n",
    "    model.add(layers.Dense(512, activation='relu'))\n",
    "    model.add(layers.Dense(1024, activation='relu'))\n",
    "    model.add(layers.Dense(512, activation='relu'))\n",
    "    # model.add(layers.Dense(256, activation='relu'))\n",
    "    # model.add(layers.Dense(128, activation='relu'))\n",
    "    # model.add(layers.Dense(64, activation='relu'))\n",
    "    # model.add(layers.Dense(32, activation='relu'))\n",
    "    # model.add(layers.Dense(16, activation='relu'))\n",
    "\n",
    "    # Output layer\n",
    "    model.add(layers.Dense(2))\n",
    "\n",
    "    # Compile the model\n",
    "    model.compile(optimizer='adam', loss='mse', metrics=['mae'])\n",
    "    return model\n",
    "\n",
    "\n",
    "# Example of creating the model, input_shape should be (number of features,)\n",
    "input_shape = (X_train.shape[1],)  # Adjust based on your number of features\n",
    "model = create_dnn_model(input_shape)\n",
    "\n",
    "# Print the model summary\n",
    "model.summary()"
   ]
  },
  {
   "cell_type": "code",
   "execution_count": 58,
   "metadata": {},
   "outputs": [],
   "source": [
    "def euclidean_distance_loss(y_true, y_pred):\n",
    "    return tf.math.sqrt(tf.reduce_sum(tf.square(y_pred - y_true), axis=-1))"
   ]
  },
  {
   "cell_type": "code",
   "execution_count": 59,
   "metadata": {},
   "outputs": [
    {
     "name": "stdout",
     "output_type": "stream",
     "text": [
      "Epoch 1/15\n",
      "\u001b[1m42940/42957\u001b[0m \u001b[32m━━━━━━━━━━━━━━━━━━━\u001b[0m\u001b[37m━\u001b[0m \u001b[1m0s\u001b[0m 2ms/step - loss: 2.2162 - mae: 1.4247"
     ]
    },
    {
     "name": "stderr",
     "output_type": "stream",
     "text": [
      "2024-10-28 23:28:27.658508: I external/local_xla/xla/stream_executor/cuda/cuda_asm_compiler.cc:393] ptxas warning : Registers are spilled to local memory in function 'gemm_fusion_dot_269', 40 bytes spill stores, 68 bytes spill loads\n",
      "\n",
      "2024-10-28 23:28:27.764006: I external/local_xla/xla/stream_executor/cuda/cuda_asm_compiler.cc:393] ptxas warning : Registers are spilled to local memory in function 'gemm_fusion_dot_269', 204 bytes spill stores, 204 bytes spill loads\n",
      "\n",
      "2024-10-28 23:28:28.092986: I external/local_xla/xla/stream_executor/cuda/cuda_asm_compiler.cc:393] ptxas warning : Registers are spilled to local memory in function 'gemm_fusion_dot_283', 204 bytes spill stores, 204 bytes spill loads\n",
      "\n",
      "2024-10-28 23:28:28.187261: I external/local_xla/xla/stream_executor/cuda/cuda_asm_compiler.cc:393] ptxas warning : Registers are spilled to local memory in function 'gemm_fusion_dot_297', 12 bytes spill stores, 12 bytes spill loads\n",
      "\n",
      "2024-10-28 23:28:28.329889: I external/local_xla/xla/stream_executor/cuda/cuda_asm_compiler.cc:393] ptxas warning : Registers are spilled to local memory in function 'gemm_fusion_dot_269', 80 bytes spill stores, 80 bytes spill loads\n",
      "\n",
      "2024-10-28 23:28:28.427484: I external/local_xla/xla/stream_executor/cuda/cuda_asm_compiler.cc:393] ptxas warning : Registers are spilled to local memory in function 'gemm_fusion_dot_565', 8 bytes spill stores, 8 bytes spill loads\n",
      "\n",
      "2024-10-28 23:28:28.700037: I external/local_xla/xla/stream_executor/cuda/cuda_asm_compiler.cc:393] ptxas warning : Registers are spilled to local memory in function 'gemm_fusion_dot_297', 32 bytes spill stores, 32 bytes spill loads\n",
      "\n",
      "2024-10-28 23:28:28.730895: I external/local_xla/xla/stream_executor/cuda/cuda_asm_compiler.cc:393] ptxas warning : Registers are spilled to local memory in function 'gemm_fusion_dot_283', 40 bytes spill stores, 72 bytes spill loads\n",
      "\n",
      "2024-10-28 23:28:28.946917: I external/local_xla/xla/stream_executor/cuda/cuda_asm_compiler.cc:393] ptxas warning : Registers are spilled to local memory in function 'gemm_fusion_dot_567', 32 bytes spill stores, 32 bytes spill loads\n",
      "\n",
      "2024-10-28 23:28:29.408855: I external/local_xla/xla/stream_executor/cuda/cuda_asm_compiler.cc:393] ptxas warning : Registers are spilled to local memory in function 'gemm_fusion_dot_563', 24 bytes spill stores, 24 bytes spill loads\n",
      "\n",
      "2024-10-28 23:28:29.709434: I external/local_xla/xla/stream_executor/cuda/cuda_asm_compiler.cc:393] ptxas warning : Registers are spilled to local memory in function 'gemm_fusion_dot_297', 200 bytes spill stores, 200 bytes spill loads\n",
      "\n",
      "2024-10-28 23:28:29.933079: I external/local_xla/xla/stream_executor/cuda/cuda_asm_compiler.cc:393] ptxas warning : Registers are spilled to local memory in function 'gemm_fusion_dot_565', 24 bytes spill stores, 24 bytes spill loads\n",
      "\n",
      "2024-10-28 23:28:30.099387: I external/local_xla/xla/stream_executor/cuda/cuda_asm_compiler.cc:393] ptxas warning : Registers are spilled to local memory in function 'gemm_fusion_dot_569', 8 bytes spill stores, 8 bytes spill loads\n",
      "\n",
      "2024-10-28 23:28:30.385925: I external/local_xla/xla/stream_executor/cuda/cuda_asm_compiler.cc:393] ptxas warning : Registers are spilled to local memory in function 'gemm_fusion_dot_569', 24 bytes spill stores, 24 bytes spill loads\n",
      "\n",
      "2024-10-28 23:28:30.485892: I external/local_xla/xla/stream_executor/cuda/cuda_asm_compiler.cc:393] ptxas warning : Registers are spilled to local memory in function 'gemm_fusion_dot_565', 32 bytes spill stores, 32 bytes spill loads\n",
      "\n",
      "2024-10-28 23:28:30.545394: I external/local_xla/xla/stream_executor/cuda/cuda_asm_compiler.cc:393] ptxas warning : Registers are spilled to local memory in function 'gemm_fusion_dot_567', 8 bytes spill stores, 8 bytes spill loads\n",
      "\n",
      "2024-10-28 23:28:30.585190: I external/local_xla/xla/stream_executor/cuda/cuda_asm_compiler.cc:393] ptxas warning : Registers are spilled to local memory in function 'gemm_fusion_dot_569', 32 bytes spill stores, 32 bytes spill loads\n",
      "\n",
      "2024-10-28 23:28:30.621224: I external/local_xla/xla/stream_executor/cuda/cuda_asm_compiler.cc:393] ptxas warning : Registers are spilled to local memory in function 'gemm_fusion_dot_567', 24 bytes spill stores, 24 bytes spill loads\n",
      "\n",
      "2024-10-28 23:28:30.662311: I external/local_xla/xla/stream_executor/cuda/cuda_asm_compiler.cc:393] ptxas warning : Registers are spilled to local memory in function 'gemm_fusion_dot_563', 8 bytes spill stores, 8 bytes spill loads\n",
      "\n",
      "2024-10-28 23:28:30.747737: I external/local_xla/xla/stream_executor/cuda/cuda_asm_compiler.cc:393] ptxas warning : Registers are spilled to local memory in function 'gemm_fusion_dot_563', 32 bytes spill stores, 32 bytes spill loads\n",
      "\n"
     ]
    },
    {
     "name": "stdout",
     "output_type": "stream",
     "text": [
      "\u001b[1m42957/42957\u001b[0m \u001b[32m━━━━━━━━━━━━━━━━━━━━\u001b[0m\u001b[37m\u001b[0m \u001b[1m0s\u001b[0m 2ms/step - loss: 2.2162 - mae: 1.4247"
     ]
    },
    {
     "name": "stderr",
     "output_type": "stream",
     "text": [
      "2024-10-28 23:28:43.400529: I external/local_xla/xla/stream_executor/cuda/cuda_asm_compiler.cc:393] ptxas warning : Registers are spilled to local memory in function 'gemm_fusion_dot_34', 20 bytes spill stores, 20 bytes spill loads\n",
      "\n",
      "2024-10-28 23:28:43.517949: I external/local_xla/xla/stream_executor/cuda/cuda_asm_compiler.cc:393] ptxas warning : Registers are spilled to local memory in function 'gemm_fusion_dot_34', 88 bytes spill stores, 88 bytes spill loads\n",
      "\n",
      "2024-10-28 23:28:43.554528: I external/local_xla/xla/stream_executor/cuda/cuda_asm_compiler.cc:393] ptxas warning : Registers are spilled to local memory in function 'gemm_fusion_dot_34', 204 bytes spill stores, 204 bytes spill loads\n",
      "\n",
      "2024-10-28 23:28:43.843695: I external/local_xla/xla/stream_executor/cuda/cuda_asm_compiler.cc:393] ptxas warning : Registers are spilled to local memory in function 'gemm_fusion_dot_34', 376 bytes spill stores, 284 bytes spill loads\n",
      "\n",
      "2024-10-28 23:28:43.888869: I external/local_xla/xla/stream_executor/cuda/cuda_asm_compiler.cc:393] ptxas warning : Registers are spilled to local memory in function 'gemm_fusion_dot_41', 20 bytes spill stores, 20 bytes spill loads\n",
      "\n",
      "2024-10-28 23:28:43.977838: I external/local_xla/xla/stream_executor/cuda/cuda_asm_compiler.cc:393] ptxas warning : Registers are spilled to local memory in function 'gemm_fusion_dot_55', 16 bytes spill stores, 16 bytes spill loads\n",
      "\n",
      "2024-10-28 23:28:44.373593: I external/local_xla/xla/stream_executor/cuda/cuda_asm_compiler.cc:393] ptxas warning : Registers are spilled to local memory in function 'gemm_fusion_dot_41', 724 bytes spill stores, 896 bytes spill loads\n",
      "\n",
      "2024-10-28 23:28:44.560824: I external/local_xla/xla/stream_executor/cuda/cuda_asm_compiler.cc:393] ptxas warning : Registers are spilled to local memory in function 'gemm_fusion_dot_41', 376 bytes spill stores, 284 bytes spill loads\n",
      "\n",
      "2024-10-28 23:28:44.650166: I external/local_xla/xla/stream_executor/cuda/cuda_asm_compiler.cc:393] ptxas warning : Registers are spilled to local memory in function 'gemm_fusion_dot_48', 12 bytes spill stores, 12 bytes spill loads\n",
      "\n",
      "2024-10-28 23:28:45.185990: I external/local_xla/xla/stream_executor/cuda/cuda_asm_compiler.cc:393] ptxas warning : Registers are spilled to local memory in function 'gemm_fusion_dot_48', 376 bytes spill stores, 284 bytes spill loads\n",
      "\n",
      "2024-10-28 23:28:45.270029: I external/local_xla/xla/stream_executor/cuda/cuda_asm_compiler.cc:393] ptxas warning : Registers are spilled to local memory in function 'gemm_fusion_dot_41', 204 bytes spill stores, 204 bytes spill loads\n",
      "\n",
      "2024-10-28 23:28:45.506629: I external/local_xla/xla/stream_executor/cuda/cuda_asm_compiler.cc:393] ptxas warning : Registers are spilled to local memory in function 'gemm_fusion_dot_55', 368 bytes spill stores, 280 bytes spill loads\n",
      "\n",
      "2024-10-28 23:28:45.531306: I external/local_xla/xla/stream_executor/cuda/cuda_asm_compiler.cc:393] ptxas warning : Registers are spilled to local memory in function 'gemm_fusion_dot_48', 20 bytes spill stores, 20 bytes spill loads\n",
      "\n",
      "2024-10-28 23:28:45.763626: I external/local_xla/xla/stream_executor/cuda/cuda_asm_compiler.cc:393] ptxas warning : Registers are spilled to local memory in function 'gemm_fusion_dot_48', 200 bytes spill stores, 200 bytes spill loads\n",
      "\n",
      "2024-10-28 23:28:45.892969: I external/local_xla/xla/stream_executor/cuda/cuda_asm_compiler.cc:393] ptxas warning : Registers are spilled to local memory in function 'gemm_fusion_dot_55', 200 bytes spill stores, 200 bytes spill loads\n",
      "\n"
     ]
    },
    {
     "name": "stdout",
     "output_type": "stream",
     "text": [
      "\n",
      "Epoch 1: val_loss improved from inf to 2.03327, saving model to ./models/checkpoint/model_checkpoint_01_2.03.keras\n",
      "\u001b[1m42957/42957\u001b[0m \u001b[32m━━━━━━━━━━━━━━━━━━━━\u001b[0m\u001b[37m\u001b[0m \u001b[1m120s\u001b[0m 3ms/step - loss: 2.2162 - mae: 1.4247 - val_loss: 2.0333 - val_mae: 1.3044\n",
      "Epoch 2/15\n",
      "\u001b[1m42948/42957\u001b[0m \u001b[32m━━━━━━━━━━━━━━━━━━━\u001b[0m\u001b[37m━\u001b[0m \u001b[1m0s\u001b[0m 2ms/step - loss: 2.0051 - mae: 1.2840\n",
      "Epoch 2: val_loss improved from 2.03327 to 1.94730, saving model to ./models/checkpoint/model_checkpoint_02_1.95.keras\n",
      "\u001b[1m42957/42957\u001b[0m \u001b[32m━━━━━━━━━━━━━━━━━━━━\u001b[0m\u001b[37m\u001b[0m \u001b[1m111s\u001b[0m 3ms/step - loss: 2.0051 - mae: 1.2840 - val_loss: 1.9473 - val_mae: 1.2445\n",
      "Epoch 3/15\n",
      "\u001b[1m42941/42957\u001b[0m \u001b[32m━━━━━━━━━━━━━━━━━━━\u001b[0m\u001b[37m━\u001b[0m \u001b[1m0s\u001b[0m 2ms/step - loss: 1.9259 - mae: 1.2313\n",
      "Epoch 3: val_loss improved from 1.94730 to 1.88026, saving model to ./models/checkpoint/model_checkpoint_03_1.88.keras\n",
      "\u001b[1m42957/42957\u001b[0m \u001b[32m━━━━━━━━━━━━━━━━━━━━\u001b[0m\u001b[37m\u001b[0m \u001b[1m108s\u001b[0m 3ms/step - loss: 1.9259 - mae: 1.2313 - val_loss: 1.8803 - val_mae: 1.2019\n",
      "Epoch 4/15\n",
      "\u001b[1m42956/42957\u001b[0m \u001b[32m━━━━━━━━━━━━━━━━━━━\u001b[0m\u001b[37m━\u001b[0m \u001b[1m0s\u001b[0m 2ms/step - loss: 1.8650 - mae: 1.1916\n",
      "Epoch 4: val_loss improved from 1.88026 to 1.82703, saving model to ./models/checkpoint/model_checkpoint_04_1.83.keras\n",
      "\u001b[1m42957/42957\u001b[0m \u001b[32m━━━━━━━━━━━━━━━━━━━━\u001b[0m\u001b[37m\u001b[0m \u001b[1m106s\u001b[0m 2ms/step - loss: 1.8650 - mae: 1.1916 - val_loss: 1.8270 - val_mae: 1.1665\n",
      "Epoch 5/15\n",
      "\u001b[1m42952/42957\u001b[0m \u001b[32m━━━━━━━━━━━━━━━━━━━\u001b[0m\u001b[37m━\u001b[0m \u001b[1m0s\u001b[0m 2ms/step - loss: 1.8179 - mae: 1.1609\n",
      "Epoch 5: val_loss improved from 1.82703 to 1.77894, saving model to ./models/checkpoint/model_checkpoint_05_1.78.keras\n",
      "\u001b[1m42957/42957\u001b[0m \u001b[32m━━━━━━━━━━━━━━━━━━━━\u001b[0m\u001b[37m\u001b[0m \u001b[1m107s\u001b[0m 2ms/step - loss: 1.8179 - mae: 1.1609 - val_loss: 1.7789 - val_mae: 1.1355\n",
      "Epoch 6/15\n",
      "\u001b[1m42941/42957\u001b[0m \u001b[32m━━━━━━━━━━━━━━━━━━━\u001b[0m\u001b[37m━\u001b[0m \u001b[1m0s\u001b[0m 2ms/step - loss: 1.7752 - mae: 1.1334\n",
      "Epoch 6: val_loss improved from 1.77894 to 1.76254, saving model to ./models/checkpoint/model_checkpoint_06_1.76.keras\n",
      "\u001b[1m42957/42957\u001b[0m \u001b[32m━━━━━━━━━━━━━━━━━━━━\u001b[0m\u001b[37m\u001b[0m \u001b[1m108s\u001b[0m 3ms/step - loss: 1.7752 - mae: 1.1334 - val_loss: 1.7625 - val_mae: 1.1244\n",
      "Epoch 7/15\n",
      "\u001b[1m42935/42957\u001b[0m \u001b[32m━━━━━━━━━━━━━━━━━━━\u001b[0m\u001b[37m━\u001b[0m \u001b[1m0s\u001b[0m 2ms/step - loss: 1.7388 - mae: 1.1094\n",
      "Epoch 7: val_loss improved from 1.76254 to 1.73142, saving model to ./models/checkpoint/model_checkpoint_07_1.73.keras\n",
      "\u001b[1m42957/42957\u001b[0m \u001b[32m━━━━━━━━━━━━━━━━━━━━\u001b[0m\u001b[37m\u001b[0m \u001b[1m106s\u001b[0m 2ms/step - loss: 1.7388 - mae: 1.1094 - val_loss: 1.7314 - val_mae: 1.1045\n",
      "Epoch 8/15\n",
      "\u001b[1m42952/42957\u001b[0m \u001b[32m━━━━━━━━━━━━━━━━━━━\u001b[0m\u001b[37m━\u001b[0m \u001b[1m0s\u001b[0m 2ms/step - loss: 1.7053 - mae: 1.0878\n",
      "Epoch 8: val_loss improved from 1.73142 to 1.69224, saving model to ./models/checkpoint/model_checkpoint_08_1.69.keras\n",
      "\u001b[1m42957/42957\u001b[0m \u001b[32m━━━━━━━━━━━━━━━━━━━━\u001b[0m\u001b[37m\u001b[0m \u001b[1m105s\u001b[0m 2ms/step - loss: 1.7053 - mae: 1.0878 - val_loss: 1.6922 - val_mae: 1.0791\n",
      "Epoch 9/15\n",
      "\u001b[1m42936/42957\u001b[0m \u001b[32m━━━━━━━━━━━━━━━━━━━\u001b[0m\u001b[37m━\u001b[0m \u001b[1m0s\u001b[0m 2ms/step - loss: 1.6746 - mae: 1.0679\n",
      "Epoch 9: val_loss improved from 1.69224 to 1.66685, saving model to ./models/checkpoint/model_checkpoint_09_1.67.keras\n",
      "\u001b[1m42957/42957\u001b[0m \u001b[32m━━━━━━━━━━━━━━━━━━━━\u001b[0m\u001b[37m\u001b[0m \u001b[1m103s\u001b[0m 2ms/step - loss: 1.6746 - mae: 1.0679 - val_loss: 1.6669 - val_mae: 1.0624\n",
      "Epoch 10/15\n",
      "\u001b[1m42936/42957\u001b[0m \u001b[32m━━━━━━━━━━━━━━━━━━━\u001b[0m\u001b[37m━\u001b[0m \u001b[1m0s\u001b[0m 2ms/step - loss: 1.6478 - mae: 1.0506\n",
      "Epoch 10: val_loss improved from 1.66685 to 1.62866, saving model to ./models/checkpoint/model_checkpoint_10_1.63.keras\n",
      "\u001b[1m42957/42957\u001b[0m \u001b[32m━━━━━━━━━━━━━━━━━━━━\u001b[0m\u001b[37m\u001b[0m \u001b[1m105s\u001b[0m 2ms/step - loss: 1.6478 - mae: 1.0506 - val_loss: 1.6287 - val_mae: 1.0381\n",
      "Epoch 11/15\n",
      "\u001b[1m42939/42957\u001b[0m \u001b[32m━━━━━━━━━━━━━━━━━━━\u001b[0m\u001b[37m━\u001b[0m \u001b[1m0s\u001b[0m 2ms/step - loss: 1.6242 - mae: 1.0354\n",
      "Epoch 11: val_loss improved from 1.62866 to 1.62853, saving model to ./models/checkpoint/model_checkpoint_11_1.63.keras\n",
      "\u001b[1m42957/42957\u001b[0m \u001b[32m━━━━━━━━━━━━━━━━━━━━\u001b[0m\u001b[37m\u001b[0m \u001b[1m103s\u001b[0m 2ms/step - loss: 1.6242 - mae: 1.0354 - val_loss: 1.6285 - val_mae: 1.0386\n",
      "Epoch 12/15\n",
      "\u001b[1m42942/42957\u001b[0m \u001b[32m━━━━━━━━━━━━━━━━━━━\u001b[0m\u001b[37m━\u001b[0m \u001b[1m0s\u001b[0m 2ms/step - loss: 1.6020 - mae: 1.0212\n",
      "Epoch 12: val_loss improved from 1.62853 to 1.60664, saving model to ./models/checkpoint/model_checkpoint_12_1.61.keras\n",
      "\u001b[1m42957/42957\u001b[0m \u001b[32m━━━━━━━━━━━━━━━━━━━━\u001b[0m\u001b[37m\u001b[0m \u001b[1m103s\u001b[0m 2ms/step - loss: 1.6020 - mae: 1.0212 - val_loss: 1.6066 - val_mae: 1.0239\n",
      "Epoch 13/15\n",
      "\u001b[1m42950/42957\u001b[0m \u001b[32m━━━━━━━━━━━━━━━━━━━\u001b[0m\u001b[37m━\u001b[0m \u001b[1m0s\u001b[0m 2ms/step - loss: 1.5817 - mae: 1.0082\n",
      "Epoch 13: val_loss improved from 1.60664 to 1.58138, saving model to ./models/checkpoint/model_checkpoint_13_1.58.keras\n",
      "\u001b[1m42957/42957\u001b[0m \u001b[32m━━━━━━━━━━━━━━━━━━━━\u001b[0m\u001b[37m\u001b[0m \u001b[1m101s\u001b[0m 2ms/step - loss: 1.5817 - mae: 1.0082 - val_loss: 1.5814 - val_mae: 1.0077\n",
      "Epoch 14/15\n",
      "\u001b[1m42952/42957\u001b[0m \u001b[32m━━━━━━━━━━━━━━━━━━━\u001b[0m\u001b[37m━\u001b[0m \u001b[1m0s\u001b[0m 2ms/step - loss: 1.5639 - mae: 0.9967\n",
      "Epoch 14: val_loss improved from 1.58138 to 1.56101, saving model to ./models/checkpoint/model_checkpoint_14_1.56.keras\n",
      "\u001b[1m42957/42957\u001b[0m \u001b[32m━━━━━━━━━━━━━━━━━━━━\u001b[0m\u001b[37m\u001b[0m \u001b[1m102s\u001b[0m 2ms/step - loss: 1.5639 - mae: 0.9967 - val_loss: 1.5610 - val_mae: 0.9948\n",
      "Epoch 15/15\n",
      "\u001b[1m42950/42957\u001b[0m \u001b[32m━━━━━━━━━━━━━━━━━━━\u001b[0m\u001b[37m━\u001b[0m \u001b[1m0s\u001b[0m 2ms/step - loss: 1.5473 - mae: 0.9859\n",
      "Epoch 15: val_loss improved from 1.56101 to 1.54499, saving model to ./models/checkpoint/model_checkpoint_15_1.54.keras\n",
      "\u001b[1m42957/42957\u001b[0m \u001b[32m━━━━━━━━━━━━━━━━━━━━\u001b[0m\u001b[37m\u001b[0m \u001b[1m103s\u001b[0m 2ms/step - loss: 1.5473 - mae: 0.9859 - val_loss: 1.5450 - val_mae: 0.9845\n"
     ]
    }
   ],
   "source": [
    "from tensorflow.keras.callbacks import ModelCheckpoint\n",
    "from tensorflow.keras.models import load_model\n",
    "\n",
    "tensorboard_callback = tf.keras.callbacks.TensorBoard(log_dir=\"logs\")\n",
    "\n",
    "# Define the checkpoint callback\n",
    "checkpoint = ModelCheckpoint(\n",
    "    filepath='./models/checkpoint/model_checkpoint_{epoch:02d}_{val_loss:.2f}.keras',     # Path where the model will be saved\n",
    "    monitor='val_loss',                 # Monitor the validation loss for improvements\n",
    "    save_best_only=True,                # Only save the model if it's the best one seen so far\n",
    "    save_weights_only=False,            # Save the entire model (set to True to save only weights)\n",
    "    mode='min',                         # In case of loss, use 'min' (use 'max' for accuracy)\n",
    "    verbose=1                           # Print a message when saving the model\n",
    ")\n",
    "\n",
    "# model = load_model('./models/checkpoint/model_checkpoint_42_0.59.keras')\n",
    "\n",
    "model.compile(optimizer='adam', \n",
    "              loss=euclidean_distance_loss,  # Custom Euclidean distance loss\n",
    "              metrics=['mae'])\n",
    "\n",
    "# Train the model\n",
    "with tf.device('/GPU:0'):\n",
    "    history = model.fit(\n",
    "                        # dataset,\n",
    "                        X_train, y_train, \n",
    "                        epochs=15, \n",
    "                        batch_size=128, \n",
    "                        validation_data=(X_val, y_val),\n",
    "                        callbacks=[tensorboard_callback, tf.keras.callbacks.EarlyStopping(monitor='val_loss', patience=5), checkpoint])\n"
   ]
  },
  {
   "cell_type": "code",
   "execution_count": 60,
   "metadata": {},
   "outputs": [
    {
     "name": "stdout",
     "output_type": "stream",
     "text": [
      "\u001b[1m57198/57275\u001b[0m \u001b[32m━━━━━━━━━━━━━━━━━━━\u001b[0m\u001b[37m━\u001b[0m \u001b[1m0s\u001b[0m 656us/step - loss: 1.5429 - mae: 0.9829"
     ]
    },
    {
     "name": "stderr",
     "output_type": "stream",
     "text": [
      "2024-10-28 23:53:55.331627: I external/local_xla/xla/stream_executor/cuda/cuda_asm_compiler.cc:393] ptxas warning : Registers are spilled to local memory in function 'gemm_fusion_dot_34', 204 bytes spill stores, 204 bytes spill loads\n",
      "\n",
      "2024-10-28 23:53:55.771758: I external/local_xla/xla/stream_executor/cuda/cuda_asm_compiler.cc:393] ptxas warning : Registers are spilled to local memory in function 'gemm_fusion_dot_34', 80 bytes spill stores, 80 bytes spill loads\n",
      "\n",
      "2024-10-28 23:53:55.801315: I external/local_xla/xla/stream_executor/cuda/cuda_asm_compiler.cc:393] ptxas warning : Registers are spilled to local memory in function 'gemm_fusion_dot_48', 44 bytes spill stores, 44 bytes spill loads\n",
      "\n",
      "2024-10-28 23:53:56.114882: I external/local_xla/xla/stream_executor/cuda/cuda_asm_compiler.cc:393] ptxas warning : Registers are spilled to local memory in function 'gemm_fusion_dot_41', 204 bytes spill stores, 204 bytes spill loads\n",
      "\n",
      "2024-10-28 23:53:56.540286: I external/local_xla/xla/stream_executor/cuda/cuda_asm_compiler.cc:393] ptxas warning : Registers are spilled to local memory in function 'gemm_fusion_dot_48', 12 bytes spill stores, 12 bytes spill loads\n",
      "\n",
      "2024-10-28 23:53:56.948193: I external/local_xla/xla/stream_executor/cuda/cuda_asm_compiler.cc:393] ptxas warning : Registers are spilled to local memory in function 'gemm_fusion_dot_48', 200 bytes spill stores, 200 bytes spill loads\n",
      "\n"
     ]
    },
    {
     "name": "stdout",
     "output_type": "stream",
     "text": [
      "\u001b[1m57275/57275\u001b[0m \u001b[32m━━━━━━━━━━━━━━━━━━━━\u001b[0m\u001b[37m\u001b[0m \u001b[1m41s\u001b[0m 712us/step - loss: 1.5429 - mae: 0.9829\n",
      "Test Loss: 1.54268217086792, Test MAE: 0.982846736907959\n"
     ]
    }
   ],
   "source": [
    "# Evaluate the model on test data\n",
    "test_loss, test_mae = model.evaluate(X_test, y_test)\n",
    "print(f\"Test Loss: {test_loss}, Test MAE: {test_mae}\")"
   ]
  },
  {
   "cell_type": "code",
   "execution_count": 61,
   "metadata": {},
   "outputs": [
    {
     "data": {
      "image/png": "[encoded data removed]",
      "text/plain": [
       "<Figure size 640x480 with 1 Axes>"
      ]
     },
     "metadata": {},
     "output_type": "display_data"
    }
   ],
   "source": [
    "# Plot training & validation loss\n",
    "plt.plot(history.history['loss'], label='Train Loss')\n",
    "plt.plot(history.history['val_loss'], label='Validation Loss')\n",
    "plt.title('Model Loss Over Epochs')\n",
    "plt.xlabel('Epochs')\n",
    "plt.ylabel('Loss')\n",
    "plt.legend()\n",
    "plt.show()\n"
   ]
  },
  {
   "cell_type": "code",
   "execution_count": 62,
   "metadata": {},
   "outputs": [
    {
     "name": "stdout",
     "output_type": "stream",
     "text": [
      "\u001b[1m57275/57275\u001b[0m \u001b[32m━━━━━━━━━━━━━━━━━━━━\u001b[0m\u001b[37m\u001b[0m \u001b[1m35s\u001b[0m 602us/step\n"
     ]
    }
   ],
   "source": [
    "# After training your model\n",
    "y_pred = model.predict(X_test)"
   ]
  },
  {
   "cell_type": "code",
   "execution_count": 63,
   "metadata": {},
   "outputs": [],
   "source": [
    "# print(\"Evaluate on test data\")\n",
    "# results = model.evaluate(X_test, y_test, batch_size=128)\n",
    "# print(\"test loss, test mae:\", results)"
   ]
  },
  {
   "cell_type": "code",
   "execution_count": 64,
   "metadata": {},
   "outputs": [],
   "source": [
    "# Convert y_test to NumPy array with float64 data type\n",
    "y_test_np = y_test.to_numpy(dtype=np.float64)\n",
    "\n",
    "# Ensure y_pred is a NumPy array with float64 data type\n",
    "y_pred_np = np.array(y_pred, dtype=np.float64)"
   ]
  },
  {
   "cell_type": "code",
   "execution_count": 65,
   "metadata": {},
   "outputs": [
    {
     "name": "stdout",
     "output_type": "stream",
     "text": [
      "Mean Relative Error for coord1: 0.1840\n",
      "Mean Relative Error for coord2: 0.1723\n"
     ]
    }
   ],
   "source": [
    "# Assuming y_test and y_pred are NumPy arrays\n",
    "absolute_errors = np.abs(y_test_np - y_pred_np)\n",
    "coordinate_ranges = np.ptp(y_test_np, axis=0)  # Peak to peak (max - min) along each coordinate\n",
    "\n",
    "# Avoid division by zero\n",
    "coordinate_ranges[coordinate_ranges == 0] = 1\n",
    "\n",
    "relative_errors = absolute_errors / coordinate_ranges\n",
    "mean_relative_error = np.mean(relative_errors, axis=0)\n",
    "\n",
    "print(f\"Mean Relative Error for coord1: {mean_relative_error[0]:.4f}\")\n",
    "print(f\"Mean Relative Error for coord2: {mean_relative_error[1]:.4f}\")\n"
   ]
  },
  {
   "cell_type": "code",
   "execution_count": 66,
   "metadata": {},
   "outputs": [
    {
     "name": "stdout",
     "output_type": "stream",
     "text": [
      "Spearman's Rank Correlation for coord1: 0.6133\n",
      "Spearman's Rank Correlation for coord2: 0.5687\n"
     ]
    }
   ],
   "source": [
    "from scipy.stats import spearmanr\n",
    "\n",
    "rho_coord1, _ = spearmanr(y_test_np[:, 0], y_pred_np[:, 0])\n",
    "rho_coord2, _ = spearmanr(y_test_np[:, 1], y_pred_np[:, 1])\n",
    "\n",
    "print(f\"Spearman's Rank Correlation for coord1: {rho_coord1:.4f}\")\n",
    "print(f\"Spearman's Rank Correlation for coord2: {rho_coord2:.4f}\")\n"
   ]
  },
  {
   "cell_type": "code",
   "execution_count": 67,
   "metadata": {},
   "outputs": [],
   "source": [
    "# Create a mapping from coordinate pairs to class labels\n",
    "unique_coords = np.unique(y_test_np, axis=0)\n",
    "coord_to_label = {tuple(coord): idx for idx, coord in enumerate(unique_coords)}\n",
    "\n",
    "# Convert coordinates to labels\n",
    "y_test_labels = np.array([coord_to_label[tuple(coord)] for coord in y_test_np])\n",
    "y_pred_labels = np.array([coord_to_label.get(tuple(coord), -1) for coord in y_pred_np])  # Use -1 for unknowns\n"
   ]
  },
  {
   "cell_type": "code",
   "execution_count": 68,
   "metadata": {},
   "outputs": [],
   "source": [
    "# from sklearn.metrics import accuracy_score, confusion_matrix\n",
    "\n",
    "# # Filter out predictions that don't map to a valid label\n",
    "# valid_indices = y_pred_labels != -1\n",
    "# accuracy = accuracy_score(y_test_labels[valid_indices], y_pred_labels[valid_indices])\n",
    "# print(f\"Classification Accuracy: {accuracy:.4f}\")\n"
   ]
  },
  {
   "cell_type": "code",
   "execution_count": 69,
   "metadata": {},
   "outputs": [],
   "source": [
    "# import matplotlib.pyplot as plt\n",
    "# from sklearn.metrics import ConfusionMatrixDisplay\n",
    "\n",
    "# cm = confusion_matrix(y_test_labels[valid_indices], y_pred_labels[valid_indices])\n",
    "# disp = ConfusionMatrixDisplay(confusion_matrix=cm)\n",
    "# disp.plot(cmap='Blues')\n",
    "# plt.title('Confusion Matrix of Predicted vs Actual Classes')\n",
    "# plt.show()"
   ]
  },
  {
   "cell_type": "code",
   "execution_count": 70,
   "metadata": {},
   "outputs": [
    {
     "name": "stdout",
     "output_type": "stream",
     "text": [
      "MSE on Standardized Coordinates: 0.6455\n"
     ]
    }
   ],
   "source": [
    "scaler = StandardScaler()\n",
    "y_test_scaled = scaler.fit_transform(y_test_np)\n",
    "y_pred_scaled = scaler.transform(y_pred_np)\n",
    "\n",
    "# Compute Mean Squared Error on standardized data\n",
    "from sklearn.metrics import mean_squared_error\n",
    "\n",
    "mse_scaled = mean_squared_error(y_test_scaled, y_pred_scaled)\n",
    "print(f\"MSE on Standardized Coordinates: {mse_scaled:.4f}\")\n"
   ]
  },
  {
   "cell_type": "code",
   "execution_count": 71,
   "metadata": {},
   "outputs": [
    {
     "name": "stdout",
     "output_type": "stream",
     "text": [
      "Accuracy within tolerance 1: 0.4672\n",
      "Accuracy within tolerance 0.5: 0.2847\n",
      "Accuracy within tolerance 0.1: 0.0522\n"
     ]
    }
   ],
   "source": [
    "def custom_accuracy(y_true, y_pred, tolerance):\n",
    "    # Count predictions within a certain tolerance\n",
    "    correct_predictions = np.all(np.abs(y_true - y_pred) <= tolerance, axis=1)\n",
    "    accuracy = np.mean(correct_predictions)\n",
    "    return accuracy\n",
    "\n",
    "tolerances = [1, 0.5, 0.1]  # Adjust based on your coordinate system\n",
    "\n",
    "for tolerance in tolerances:\n",
    "    accuracy = custom_accuracy(y_test_np, y_pred_np, tolerance)\n",
    "    print(f\"Accuracy within tolerance {tolerance}: {accuracy:.4f}\")\n",
    "\n",
    "accuracy = custom_accuracy(y_test_np, y_pred_np, 1)"
   ]
  },
  {
   "cell_type": "code",
   "execution_count": 72,
   "metadata": {},
   "outputs": [
    {
     "name": "stderr",
     "output_type": "stream",
     "text": [
      "/home/alan-xie/Documents/Thesis/wifi_localization/.venv/lib/python3.10/site-packages/IPython/core/pylabtools.py:170: UserWarning: Creating legend with loc=\"best\" can be slow with large amounts of data.\n",
      "  fig.canvas.print_figure(bytes_io, **kw)\n"
     ]
    },
    {
     "data": {
      "image/png": "[encoded data removed]",
      "text/plain": [
       "<Figure size 800x600 with 1 Axes>"
      ]
     },
     "metadata": {},
     "output_type": "display_data"
    }
   ],
   "source": [
    "import matplotlib.pyplot as plt\n",
    "\n",
    "plt.figure(figsize=(8, 6))\n",
    "plt.scatter(y_pred_np[:, 0], y_pred_np[:, 1], label='Predicted', alpha=0.6)\n",
    "plt.scatter(y_test_np[:, 0], y_test_np[:, 1], label='Actual', alpha=0.6)\n",
    "plt.xlabel('Coordinate 1')\n",
    "plt.ylabel('Coordinate 2')\n",
    "plt.title('Actual vs Predicted Coordinates')\n",
    "plt.legend()\n",
    "plt.grid(True)\n",
    "plt.show()\n"
   ]
  },
  {
   "cell_type": "code",
   "execution_count": 73,
   "metadata": {},
   "outputs": [
    {
     "name": "stdout",
     "output_type": "stream",
     "text": [
      "MAE for coord1: 1.1042\n",
      "MAE for coord2: 0.8615\n",
      "Overall MAE: 0.9828\n",
      "RMSE for coord1: 1.5961\n",
      "RMSE for coord2: 1.2190\n",
      "Overall RMSE: 1.4075\n",
      "Mean Euclidean Distance Error: 1.5427 units\n",
      "R-squared for coord1: 0.3661\n",
      "R-squared for coord2: 0.3429\n",
      "Median Absolute Error for coord1: 0.7077\n",
      "Median Absolute Error for coord2: 0.5970\n"
     ]
    }
   ],
   "source": [
    "# MAE for each coordinate\n",
    "mae_coord1 = mean_absolute_error(y_test_np[:, 0], y_pred_np[:, 0])\n",
    "mae_coord2 = mean_absolute_error(y_test_np[:, 1], y_pred_np[:, 1])\n",
    "\n",
    "# Overall MAE\n",
    "mae_overall = np.mean([mae_coord1, mae_coord2])\n",
    "\n",
    "print(f\"MAE for coord1: {mae_coord1:.4f}\")\n",
    "print(f\"MAE for coord2: {mae_coord2:.4f}\")\n",
    "print(f\"Overall MAE: {mae_overall:.4f}\")\n",
    "\n",
    "# RMSE for each coordinate\n",
    "rmse_coord1 = np.sqrt(mean_squared_error(y_test_np[:, 0], y_pred_np[:, 0]))\n",
    "rmse_coord2 = np.sqrt(mean_squared_error(y_test_np[:, 1], y_pred_np[:, 1]))\n",
    "\n",
    "# Overall RMSE\n",
    "rmse_overall = np.mean([rmse_coord1, rmse_coord2])\n",
    "\n",
    "print(f\"RMSE for coord1: {rmse_coord1:.4f}\")\n",
    "print(f\"RMSE for coord2: {rmse_coord2:.4f}\")\n",
    "print(f\"Overall RMSE: {rmse_overall:.4f}\")\n",
    "\n",
    "# Calculate Euclidean distances\n",
    "distance_errors = np.linalg.norm(y_test_np - y_pred_np, axis=1)\n",
    "mean_distance_error = np.mean(distance_errors)\n",
    "\n",
    "print(f\"Mean Euclidean Distance Error: {mean_distance_error:.4f} units\")\n",
    "\n",
    "# R-squared for each coordinate\n",
    "r2_coord1 = r2_score(y_test_np[:, 0], y_pred_np[:, 0])\n",
    "r2_coord2 = r2_score(y_test_np[:, 1], y_pred_np[:, 1])\n",
    "\n",
    "print(f\"R-squared for coord1: {r2_coord1:.4f}\")\n",
    "print(f\"R-squared for coord2: {r2_coord2:.4f}\")\n",
    "\n",
    "# Median Absolute Error for each coordinate\n",
    "medae_coord1 = median_absolute_error(y_test_np[:, 0], y_pred_np[:, 0])\n",
    "medae_coord2 = median_absolute_error(y_test_np[:, 1], y_pred_np[:, 1])\n",
    "\n",
    "print(f\"Median Absolute Error for coord1: {medae_coord1:.4f}\")\n",
    "print(f\"Median Absolute Error for coord2: {medae_coord2:.4f}\")"
   ]
  },
  {
   "cell_type": "code",
   "execution_count": 74,
   "metadata": {},
   "outputs": [],
   "source": [
    "# from sklearn.model_selection import KFold\n",
    "# import numpy as np\n",
    "\n",
    "# kf = KFold(n_splits=5, shuffle=True, random_state=42)\n",
    "# mae_scores = []\n",
    "\n",
    "# for train_index, test_index in kf.split(X):\n",
    "#     X_train_cv, X_test_cv = X[train_index], X[test_index]\n",
    "#     y_train_cv, y_test_cv = y.iloc[train_index], y.iloc[test_index]\n",
    "    \n",
    "#     # Create and train the model\n",
    "#     model = create_dnn_model(input_shape=(X_train_cv.shape[1],))\n",
    "#     model.fit(X_train_cv, y_train_cv, epochs=30, batch_size=128, verbose=0)\n",
    "    \n",
    "#     # Evaluate the model\n",
    "#     y_pred_cv = model.predict(X_test_cv)\n",
    "#     mae_cv = np.mean(np.abs(y_test_cv - y_pred_cv))\n",
    "#     mae_scores.append(mae_cv)\n",
    "\n",
    "# print(f\"Cross-validated MAE: {np.mean(mae_scores):.4f} ± {np.std(mae_scores):.4f}\")"
   ]
  },
  {
   "cell_type": "code",
   "execution_count": 75,
   "metadata": {},
   "outputs": [],
   "source": [
    "now = datetime.datetime.now()\n",
    "date_time = now.strftime(\"%m-%d-%H-%M\")\n",
    "\n",
    "model.save(f\"./models/{date_time}-{model_type}-{accuracy:.2f}.keras\")"
   ]
  }
 ],
 "metadata": {
  "kernelspec": {
   "display_name": ".venv",
   "language": "python",
   "name": "python3"
  },
  "language_info": {
   "codemirror_mode": {
    "name": "ipython",
    "version": 3
   },
   "file_extension": ".py",
   "mimetype": "text/x-python",
   "name": "python",
   "nbconvert_exporter": "python",
   "pygments_lexer": "ipython3",
   "version": "3.10.15"
  }
 },
 "nbformat": 4,
 "nbformat_minor": 2
}
