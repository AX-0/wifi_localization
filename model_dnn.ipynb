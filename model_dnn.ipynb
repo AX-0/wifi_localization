{
 "cells": [
  {
   "cell_type": "code",
   "execution_count": 1,
   "metadata": {},
   "outputs": [
    {
     "name": "stderr",
     "output_type": "stream",
     "text": [
      "2024-09-29 23:25:45.340728: E external/local_xla/xla/stream_executor/cuda/cuda_fft.cc:485] Unable to register cuFFT factory: Attempting to register factory for plugin cuFFT when one has already been registered\n",
      "2024-09-29 23:25:45.352926: E external/local_xla/xla/stream_executor/cuda/cuda_dnn.cc:8454] Unable to register cuDNN factory: Attempting to register factory for plugin cuDNN when one has already been registered\n",
      "2024-09-29 23:25:45.356525: E external/local_xla/xla/stream_executor/cuda/cuda_blas.cc:1452] Unable to register cuBLAS factory: Attempting to register factory for plugin cuBLAS when one has already been registered\n",
      "2024-09-29 23:25:45.364786: I tensorflow/core/platform/cpu_feature_guard.cc:210] This TensorFlow binary is optimized to use available CPU instructions in performance-critical operations.\n",
      "To enable the following instructions: AVX2 FMA, in other operations, rebuild TensorFlow with the appropriate compiler flags.\n",
      "2024-09-29 23:25:45.946764: W tensorflow/compiler/tf2tensorrt/utils/py_utils.cc:38] TF-TRT Warning: Could not find TensorRT\n"
     ]
    }
   ],
   "source": [
    "from sklearn.preprocessing import StandardScaler\n",
    "import pandas as pd\n",
    "import tensorflow as tf\n",
    "from tensorflow.keras import layers, models\n",
    "import matplotlib.pyplot as plt\n",
    "from sklearn.model_selection import train_test_split\n",
    "import numpy as np\n",
    "from sklearn.metrics import mean_squared_error\n",
    "from sklearn.metrics import r2_score\n",
    "import seaborn as sns\n",
    "import datetime\n"
   ]
  },
  {
   "cell_type": "code",
   "execution_count": 2,
   "metadata": {},
   "outputs": [
    {
     "name": "stderr",
     "output_type": "stream",
     "text": [
      "WARNING: All log messages before absl::InitializeLog() is called are written to STDERR\n",
      "I0000 00:00:1727616346.660163   14106 cuda_executor.cc:1015] successful NUMA node read from SysFS had negative value (-1), but there must be at least one NUMA node, so returning NUMA node zero. See more at https://github.com/torvalds/linux/blob/v6.0/Documentation/ABI/testing/sysfs-bus-pci#L344-L355\n",
      "I0000 00:00:1727616346.684921   14106 cuda_executor.cc:1015] successful NUMA node read from SysFS had negative value (-1), but there must be at least one NUMA node, so returning NUMA node zero. See more at https://github.com/torvalds/linux/blob/v6.0/Documentation/ABI/testing/sysfs-bus-pci#L344-L355\n",
      "I0000 00:00:1727616346.687361   14106 cuda_executor.cc:1015] successful NUMA node read from SysFS had negative value (-1), but there must be at least one NUMA node, so returning NUMA node zero. See more at https://github.com/torvalds/linux/blob/v6.0/Documentation/ABI/testing/sysfs-bus-pci#L344-L355\n"
     ]
    }
   ],
   "source": [
    "from tensorflow.keras import mixed_precision\n",
    "\n",
    "# # Set the global policy to mixed precision\n",
    "# policy = mixed_precision.Policy('mixed_float16')\n",
    "# mixed_precision.set_global_policy(policy)\n",
    "\n",
    "physical_devices = tf.config.list_physical_devices('GPU')\n",
    "tf.config.experimental.set_memory_growth(physical_devices[0], True)"
   ]
  },
  {
   "cell_type": "code",
   "execution_count": 3,
   "metadata": {},
   "outputs": [],
   "source": [
    "# import os\n",
    "\n",
    "# # Set the environment variable\n",
    "# os.environ['TF_GPU_ALLOCATOR'] = 'cuda_malloc_async'"
   ]
  },
  {
   "cell_type": "code",
   "execution_count": 4,
   "metadata": {},
   "outputs": [
    {
     "data": {
      "text/html": [
       "<div>\n",
       "<style scoped>\n",
       "    .dataframe tbody tr th:only-of-type {\n",
       "        vertical-align: middle;\n",
       "    }\n",
       "\n",
       "    .dataframe tbody tr th {\n",
       "        vertical-align: top;\n",
       "    }\n",
       "\n",
       "    .dataframe thead th {\n",
       "        text-align: right;\n",
       "    }\n",
       "</style>\n",
       "<table border=\"1\" class=\"dataframe\">\n",
       "  <thead>\n",
       "    <tr style=\"text-align: right;\">\n",
       "      <th></th>\n",
       "      <th>timestamps</th>\n",
       "      <th>csi_len</th>\n",
       "      <th>channel</th>\n",
       "      <th>err_info</th>\n",
       "      <th>noise_floor</th>\n",
       "      <th>rate</th>\n",
       "      <th>bandWidth</th>\n",
       "      <th>num_tones</th>\n",
       "      <th>nr</th>\n",
       "      <th>nc</th>\n",
       "      <th>...</th>\n",
       "      <th>payload_length</th>\n",
       "      <th>block_length</th>\n",
       "      <th>subcarriers</th>\n",
       "      <th>ant1_amplitude</th>\n",
       "      <th>ant2_amplitude</th>\n",
       "      <th>ant1_phase</th>\n",
       "      <th>ant2_phase</th>\n",
       "      <th>with_receiver</th>\n",
       "      <th>coord1</th>\n",
       "      <th>coord2</th>\n",
       "    </tr>\n",
       "  </thead>\n",
       "  <tbody>\n",
       "    <tr>\n",
       "      <th>0</th>\n",
       "      <td>4170220887</td>\n",
       "      <td>560</td>\n",
       "      <td>2437</td>\n",
       "      <td>0</td>\n",
       "      <td>0</td>\n",
       "      <td>143</td>\n",
       "      <td>0</td>\n",
       "      <td>56</td>\n",
       "      <td>2</td>\n",
       "      <td>2</td>\n",
       "      <td>...</td>\n",
       "      <td>1320</td>\n",
       "      <td>1904</td>\n",
       "      <td>1</td>\n",
       "      <td>166.111408</td>\n",
       "      <td>80.056230</td>\n",
       "      <td>-1.376943</td>\n",
       "      <td>2.294327</td>\n",
       "      <td>0</td>\n",
       "      <td>6</td>\n",
       "      <td>2</td>\n",
       "    </tr>\n",
       "    <tr>\n",
       "      <th>1</th>\n",
       "      <td>4170220887</td>\n",
       "      <td>560</td>\n",
       "      <td>2437</td>\n",
       "      <td>0</td>\n",
       "      <td>0</td>\n",
       "      <td>143</td>\n",
       "      <td>0</td>\n",
       "      <td>56</td>\n",
       "      <td>2</td>\n",
       "      <td>2</td>\n",
       "      <td>...</td>\n",
       "      <td>1320</td>\n",
       "      <td>1904</td>\n",
       "      <td>2</td>\n",
       "      <td>168.866811</td>\n",
       "      <td>144.627107</td>\n",
       "      <td>2.816097</td>\n",
       "      <td>-0.513143</td>\n",
       "      <td>0</td>\n",
       "      <td>6</td>\n",
       "      <td>2</td>\n",
       "    </tr>\n",
       "    <tr>\n",
       "      <th>2</th>\n",
       "      <td>4170220887</td>\n",
       "      <td>560</td>\n",
       "      <td>2437</td>\n",
       "      <td>0</td>\n",
       "      <td>0</td>\n",
       "      <td>143</td>\n",
       "      <td>0</td>\n",
       "      <td>56</td>\n",
       "      <td>2</td>\n",
       "      <td>2</td>\n",
       "      <td>...</td>\n",
       "      <td>1320</td>\n",
       "      <td>1904</td>\n",
       "      <td>3</td>\n",
       "      <td>173.366663</td>\n",
       "      <td>86.052310</td>\n",
       "      <td>-1.373401</td>\n",
       "      <td>2.249167</td>\n",
       "      <td>0</td>\n",
       "      <td>6</td>\n",
       "      <td>2</td>\n",
       "    </tr>\n",
       "    <tr>\n",
       "      <th>3</th>\n",
       "      <td>4170220887</td>\n",
       "      <td>560</td>\n",
       "      <td>2437</td>\n",
       "      <td>0</td>\n",
       "      <td>0</td>\n",
       "      <td>143</td>\n",
       "      <td>0</td>\n",
       "      <td>56</td>\n",
       "      <td>2</td>\n",
       "      <td>2</td>\n",
       "      <td>...</td>\n",
       "      <td>1320</td>\n",
       "      <td>1904</td>\n",
       "      <td>4</td>\n",
       "      <td>172.409396</td>\n",
       "      <td>151.092687</td>\n",
       "      <td>2.792326</td>\n",
       "      <td>-0.534744</td>\n",
       "      <td>0</td>\n",
       "      <td>6</td>\n",
       "      <td>2</td>\n",
       "    </tr>\n",
       "    <tr>\n",
       "      <th>4</th>\n",
       "      <td>4170220887</td>\n",
       "      <td>560</td>\n",
       "      <td>2437</td>\n",
       "      <td>0</td>\n",
       "      <td>0</td>\n",
       "      <td>143</td>\n",
       "      <td>0</td>\n",
       "      <td>56</td>\n",
       "      <td>2</td>\n",
       "      <td>2</td>\n",
       "      <td>...</td>\n",
       "      <td>1320</td>\n",
       "      <td>1904</td>\n",
       "      <td>5</td>\n",
       "      <td>176.567268</td>\n",
       "      <td>89.196412</td>\n",
       "      <td>-1.400061</td>\n",
       "      <td>2.308611</td>\n",
       "      <td>0</td>\n",
       "      <td>6</td>\n",
       "      <td>2</td>\n",
       "    </tr>\n",
       "  </tbody>\n",
       "</table>\n",
       "<p>5 rows × 24 columns</p>\n",
       "</div>"
      ],
      "text/plain": [
       "   timestamps  csi_len  channel  err_info  noise_floor  rate  bandWidth  \\\n",
       "0  4170220887      560     2437         0            0   143          0   \n",
       "1  4170220887      560     2437         0            0   143          0   \n",
       "2  4170220887      560     2437         0            0   143          0   \n",
       "3  4170220887      560     2437         0            0   143          0   \n",
       "4  4170220887      560     2437         0            0   143          0   \n",
       "\n",
       "   num_tones  nr  nc  ...  payload_length  block_length  subcarriers  \\\n",
       "0         56   2   2  ...            1320          1904            1   \n",
       "1         56   2   2  ...            1320          1904            2   \n",
       "2         56   2   2  ...            1320          1904            3   \n",
       "3         56   2   2  ...            1320          1904            4   \n",
       "4         56   2   2  ...            1320          1904            5   \n",
       "\n",
       "   ant1_amplitude  ant2_amplitude  ant1_phase  ant2_phase  with_receiver  \\\n",
       "0      166.111408       80.056230   -1.376943    2.294327              0   \n",
       "1      168.866811      144.627107    2.816097   -0.513143              0   \n",
       "2      173.366663       86.052310   -1.373401    2.249167              0   \n",
       "3      172.409396      151.092687    2.792326   -0.534744              0   \n",
       "4      176.567268       89.196412   -1.400061    2.308611              0   \n",
       "\n",
       "   coord1  coord2  \n",
       "0       6       2  \n",
       "1       6       2  \n",
       "2       6       2  \n",
       "3       6       2  \n",
       "4       6       2  \n",
       "\n",
       "[5 rows x 24 columns]"
      ]
     },
     "execution_count": 4,
     "metadata": {},
     "output_type": "execute_result"
    }
   ],
   "source": [
    "# data = pd.read_csv(\"C:\\Users\\alanx\\OneDrive - The University of Sydney (Students)\\Thesis\\Deep Learning\\wifi_localization\\data\\csv\\ultimate_combined.csv\")\n",
    "# data = pd.read_csv(\"data/csv/ultimate_combined.csv\")\n",
    "data = pd.read_csv(\"data/csv/still/still.csv\")\n",
    "\n",
    "data.head()"
   ]
  },
  {
   "cell_type": "code",
   "execution_count": 5,
   "metadata": {},
   "outputs": [
    {
     "name": "stdout",
     "output_type": "stream",
     "text": [
      "Num GPUs Available:  1\n"
     ]
    }
   ],
   "source": [
    "print(\"Num GPUs Available: \", len(tf.config.list_physical_devices('GPU')))"
   ]
  },
  {
   "cell_type": "code",
   "execution_count": 6,
   "metadata": {},
   "outputs": [
    {
     "name": "stdout",
     "output_type": "stream",
     "text": [
      "['/device:CPU:0', '/device:GPU:0']\n"
     ]
    },
    {
     "name": "stderr",
     "output_type": "stream",
     "text": [
      "I0000 00:00:1727616361.847004   14106 cuda_executor.cc:1015] successful NUMA node read from SysFS had negative value (-1), but there must be at least one NUMA node, so returning NUMA node zero. See more at https://github.com/torvalds/linux/blob/v6.0/Documentation/ABI/testing/sysfs-bus-pci#L344-L355\n",
      "I0000 00:00:1727616361.849157   14106 cuda_executor.cc:1015] successful NUMA node read from SysFS had negative value (-1), but there must be at least one NUMA node, so returning NUMA node zero. See more at https://github.com/torvalds/linux/blob/v6.0/Documentation/ABI/testing/sysfs-bus-pci#L344-L355\n",
      "I0000 00:00:1727616361.851465   14106 cuda_executor.cc:1015] successful NUMA node read from SysFS had negative value (-1), but there must be at least one NUMA node, so returning NUMA node zero. See more at https://github.com/torvalds/linux/blob/v6.0/Documentation/ABI/testing/sysfs-bus-pci#L344-L355\n",
      "I0000 00:00:1727616361.960005   14106 cuda_executor.cc:1015] successful NUMA node read from SysFS had negative value (-1), but there must be at least one NUMA node, so returning NUMA node zero. See more at https://github.com/torvalds/linux/blob/v6.0/Documentation/ABI/testing/sysfs-bus-pci#L344-L355\n",
      "I0000 00:00:1727616361.961200   14106 cuda_executor.cc:1015] successful NUMA node read from SysFS had negative value (-1), but there must be at least one NUMA node, so returning NUMA node zero. See more at https://github.com/torvalds/linux/blob/v6.0/Documentation/ABI/testing/sysfs-bus-pci#L344-L355\n",
      "I0000 00:00:1727616361.962341   14106 cuda_executor.cc:1015] successful NUMA node read from SysFS had negative value (-1), but there must be at least one NUMA node, so returning NUMA node zero. See more at https://github.com/torvalds/linux/blob/v6.0/Documentation/ABI/testing/sysfs-bus-pci#L344-L355\n",
      "2024-09-29 23:26:01.964053: I tensorflow/core/common_runtime/gpu/gpu_device.cc:2021] Created device /device:GPU:0 with 5297 MB memory:  -> device: 0, name: NVIDIA GeForce RTX 3070 Ti, pci bus id: 0000:01:00.0, compute capability: 8.6\n"
     ]
    }
   ],
   "source": [
    "from tensorflow.python.client import device_lib\n",
    "\n",
    "def get_available_devices():\n",
    "    local_device_protos = device_lib.list_local_devices()\n",
    "    return [x.name for x in local_device_protos]\n",
    "\n",
    "print(get_available_devices())"
   ]
  },
  {
   "cell_type": "code",
   "execution_count": 7,
   "metadata": {},
   "outputs": [
    {
     "name": "stdout",
     "output_type": "stream",
     "text": [
      "timestamps        1.929837e+18\n",
      "csi_len           9.590696e+03\n",
      "channel           2.805950e-03\n",
      "err_info          4.619301e-03\n",
      "noise_floor       0.000000e+00\n",
      "rate              8.232657e+00\n",
      "bandWidth         0.000000e+00\n",
      "num_tones         0.000000e+00\n",
      "nr                0.000000e+00\n",
      "nc                1.223303e-01\n",
      "rssi              7.971408e+00\n",
      "rssi1             4.820231e+00\n",
      "rssi2             1.001318e+01\n",
      "rssi3             0.000000e+00\n",
      "payload_length    1.846202e+04\n",
      "block_length      2.814382e+04\n",
      "subcarriers       2.612500e+02\n",
      "ant1_amplitude    4.187203e+03\n",
      "ant2_amplitude    5.506470e+03\n",
      "ant1_phase        3.289260e+00\n",
      "ant2_phase        3.291396e+00\n",
      "with_receiver     0.000000e+00\n",
      "coord1            3.996401e+00\n",
      "coord2            2.251143e+00\n",
      "dtype: float64\n",
      "Columns with low or zero variance:\n",
      "['channel', 'err_info', 'noise_floor', 'bandWidth', 'num_tones', 'nr', 'rssi3', 'with_receiver']\n"
     ]
    }
   ],
   "source": [
    "variances = data.var()\n",
    "print(variances)\n",
    "\n",
    "low_variance_cols = variances[variances < 5e-3].index.tolist()\n",
    "print(\"Columns with low or zero variance:\")\n",
    "print(low_variance_cols)"
   ]
  },
  {
   "cell_type": "code",
   "execution_count": 8,
   "metadata": {},
   "outputs": [
    {
     "data": {
      "text/html": [
       "<div>\n",
       "<style scoped>\n",
       "    .dataframe tbody tr th:only-of-type {\n",
       "        vertical-align: middle;\n",
       "    }\n",
       "\n",
       "    .dataframe tbody tr th {\n",
       "        vertical-align: top;\n",
       "    }\n",
       "\n",
       "    .dataframe thead th {\n",
       "        text-align: right;\n",
       "    }\n",
       "</style>\n",
       "<table border=\"1\" class=\"dataframe\">\n",
       "  <thead>\n",
       "    <tr style=\"text-align: right;\">\n",
       "      <th></th>\n",
       "      <th>nc</th>\n",
       "      <th>rssi</th>\n",
       "      <th>rssi1</th>\n",
       "      <th>rssi2</th>\n",
       "      <th>subcarriers</th>\n",
       "      <th>ant1_amplitude</th>\n",
       "      <th>ant2_amplitude</th>\n",
       "      <th>ant1_phase</th>\n",
       "      <th>ant2_phase</th>\n",
       "      <th>coord1</th>\n",
       "      <th>coord2</th>\n",
       "    </tr>\n",
       "  </thead>\n",
       "  <tbody>\n",
       "    <tr>\n",
       "      <th>0</th>\n",
       "      <td>2</td>\n",
       "      <td>58</td>\n",
       "      <td>53</td>\n",
       "      <td>56</td>\n",
       "      <td>1</td>\n",
       "      <td>166.111408</td>\n",
       "      <td>80.056230</td>\n",
       "      <td>-1.376943</td>\n",
       "      <td>2.294327</td>\n",
       "      <td>6</td>\n",
       "      <td>2</td>\n",
       "    </tr>\n",
       "    <tr>\n",
       "      <th>1</th>\n",
       "      <td>2</td>\n",
       "      <td>58</td>\n",
       "      <td>53</td>\n",
       "      <td>56</td>\n",
       "      <td>2</td>\n",
       "      <td>168.866811</td>\n",
       "      <td>144.627107</td>\n",
       "      <td>2.816097</td>\n",
       "      <td>-0.513143</td>\n",
       "      <td>6</td>\n",
       "      <td>2</td>\n",
       "    </tr>\n",
       "    <tr>\n",
       "      <th>2</th>\n",
       "      <td>2</td>\n",
       "      <td>58</td>\n",
       "      <td>53</td>\n",
       "      <td>56</td>\n",
       "      <td>3</td>\n",
       "      <td>173.366663</td>\n",
       "      <td>86.052310</td>\n",
       "      <td>-1.373401</td>\n",
       "      <td>2.249167</td>\n",
       "      <td>6</td>\n",
       "      <td>2</td>\n",
       "    </tr>\n",
       "    <tr>\n",
       "      <th>3</th>\n",
       "      <td>2</td>\n",
       "      <td>58</td>\n",
       "      <td>53</td>\n",
       "      <td>56</td>\n",
       "      <td>4</td>\n",
       "      <td>172.409396</td>\n",
       "      <td>151.092687</td>\n",
       "      <td>2.792326</td>\n",
       "      <td>-0.534744</td>\n",
       "      <td>6</td>\n",
       "      <td>2</td>\n",
       "    </tr>\n",
       "    <tr>\n",
       "      <th>4</th>\n",
       "      <td>2</td>\n",
       "      <td>58</td>\n",
       "      <td>53</td>\n",
       "      <td>56</td>\n",
       "      <td>5</td>\n",
       "      <td>176.567268</td>\n",
       "      <td>89.196412</td>\n",
       "      <td>-1.400061</td>\n",
       "      <td>2.308611</td>\n",
       "      <td>6</td>\n",
       "      <td>2</td>\n",
       "    </tr>\n",
       "  </tbody>\n",
       "</table>\n",
       "</div>"
      ],
      "text/plain": [
       "   nc  rssi  rssi1  rssi2  subcarriers  ant1_amplitude  ant2_amplitude  \\\n",
       "0   2    58     53     56            1      166.111408       80.056230   \n",
       "1   2    58     53     56            2      168.866811      144.627107   \n",
       "2   2    58     53     56            3      173.366663       86.052310   \n",
       "3   2    58     53     56            4      172.409396      151.092687   \n",
       "4   2    58     53     56            5      176.567268       89.196412   \n",
       "\n",
       "   ant1_phase  ant2_phase  coord1  coord2  \n",
       "0   -1.376943    2.294327       6       2  \n",
       "1    2.816097   -0.513143       6       2  \n",
       "2   -1.373401    2.249167       6       2  \n",
       "3    2.792326   -0.534744       6       2  \n",
       "4   -1.400061    2.308611       6       2  "
      ]
     },
     "execution_count": 8,
     "metadata": {},
     "output_type": "execute_result"
    }
   ],
   "source": [
    "# Drop constant columns and timeframe from the DataFrame\n",
    "data.drop(low_variance_cols, axis=1, inplace=True)\n",
    "data.drop(['csi_len', 'rate', 'payload_length', 'block_length'], axis=1, inplace=True)\n",
    "data.drop('timestamps', axis=1, inplace=True)\n",
    "data.head()"
   ]
  },
  {
   "cell_type": "code",
   "execution_count": 9,
   "metadata": {},
   "outputs": [],
   "source": [
    "# features_to_scale = ['csi_len', 'payload_length', 'block_length', 'ant1_amplitude', 'ant2_amplitude', 'ant1_phase', 'ant2_phase', 'rssi', 'rssi1', 'rssi2']\n",
    "features_to_scale = ['ant1_amplitude', 'ant2_amplitude', 'ant1_phase', 'ant2_phase', 'rssi', 'rssi1', 'rssi2']\n",
    "scaler = StandardScaler()\n",
    "\n",
    "# Apply standardization on features\n",
    "# data = data_cleaned.copy()\n",
    "data[features_to_scale] = scaler.fit_transform(data[features_to_scale])"
   ]
  },
  {
   "cell_type": "code",
   "execution_count": 10,
   "metadata": {},
   "outputs": [
    {
     "data": {
      "text/html": [
       "<div>\n",
       "<style scoped>\n",
       "    .dataframe tbody tr th:only-of-type {\n",
       "        vertical-align: middle;\n",
       "    }\n",
       "\n",
       "    .dataframe tbody tr th {\n",
       "        vertical-align: top;\n",
       "    }\n",
       "\n",
       "    .dataframe thead th {\n",
       "        text-align: right;\n",
       "    }\n",
       "</style>\n",
       "<table border=\"1\" class=\"dataframe\">\n",
       "  <thead>\n",
       "    <tr style=\"text-align: right;\">\n",
       "      <th></th>\n",
       "      <th>nc</th>\n",
       "      <th>rssi</th>\n",
       "      <th>rssi1</th>\n",
       "      <th>rssi2</th>\n",
       "      <th>subcarriers</th>\n",
       "      <th>ant1_amplitude</th>\n",
       "      <th>ant2_amplitude</th>\n",
       "      <th>ant1_phase</th>\n",
       "      <th>ant2_phase</th>\n",
       "      <th>coord1</th>\n",
       "      <th>coord2</th>\n",
       "    </tr>\n",
       "  </thead>\n",
       "  <tbody>\n",
       "    <tr>\n",
       "      <th>0</th>\n",
       "      <td>2</td>\n",
       "      <td>-0.721583</td>\n",
       "      <td>-0.491469</td>\n",
       "      <td>-0.820802</td>\n",
       "      <td>1</td>\n",
       "      <td>-0.187897</td>\n",
       "      <td>-0.964817</td>\n",
       "      <td>-0.762717</td>\n",
       "      <td>1.268949</td>\n",
       "      <td>6</td>\n",
       "      <td>2</td>\n",
       "    </tr>\n",
       "    <tr>\n",
       "      <th>1</th>\n",
       "      <td>2</td>\n",
       "      <td>-0.721583</td>\n",
       "      <td>-0.491469</td>\n",
       "      <td>-0.820802</td>\n",
       "      <td>2</td>\n",
       "      <td>-0.145316</td>\n",
       "      <td>-0.094656</td>\n",
       "      <td>1.549240</td>\n",
       "      <td>-0.278531</td>\n",
       "      <td>6</td>\n",
       "      <td>2</td>\n",
       "    </tr>\n",
       "    <tr>\n",
       "      <th>2</th>\n",
       "      <td>2</td>\n",
       "      <td>-0.721583</td>\n",
       "      <td>-0.491469</td>\n",
       "      <td>-0.820802</td>\n",
       "      <td>3</td>\n",
       "      <td>-0.075775</td>\n",
       "      <td>-0.884014</td>\n",
       "      <td>-0.760765</td>\n",
       "      <td>1.244057</td>\n",
       "      <td>6</td>\n",
       "      <td>2</td>\n",
       "    </tr>\n",
       "    <tr>\n",
       "      <th>3</th>\n",
       "      <td>2</td>\n",
       "      <td>-0.721583</td>\n",
       "      <td>-0.491469</td>\n",
       "      <td>-0.820802</td>\n",
       "      <td>4</td>\n",
       "      <td>-0.090569</td>\n",
       "      <td>-0.007525</td>\n",
       "      <td>1.536134</td>\n",
       "      <td>-0.290437</td>\n",
       "      <td>6</td>\n",
       "      <td>2</td>\n",
       "    </tr>\n",
       "    <tr>\n",
       "      <th>4</th>\n",
       "      <td>2</td>\n",
       "      <td>-0.721583</td>\n",
       "      <td>-0.491469</td>\n",
       "      <td>-0.820802</td>\n",
       "      <td>5</td>\n",
       "      <td>-0.026314</td>\n",
       "      <td>-0.841644</td>\n",
       "      <td>-0.775465</td>\n",
       "      <td>1.276823</td>\n",
       "      <td>6</td>\n",
       "      <td>2</td>\n",
       "    </tr>\n",
       "  </tbody>\n",
       "</table>\n",
       "</div>"
      ],
      "text/plain": [
       "   nc      rssi     rssi1     rssi2  subcarriers  ant1_amplitude  \\\n",
       "0   2 -0.721583 -0.491469 -0.820802            1       -0.187897   \n",
       "1   2 -0.721583 -0.491469 -0.820802            2       -0.145316   \n",
       "2   2 -0.721583 -0.491469 -0.820802            3       -0.075775   \n",
       "3   2 -0.721583 -0.491469 -0.820802            4       -0.090569   \n",
       "4   2 -0.721583 -0.491469 -0.820802            5       -0.026314   \n",
       "\n",
       "   ant2_amplitude  ant1_phase  ant2_phase  coord1  coord2  \n",
       "0       -0.964817   -0.762717    1.268949       6       2  \n",
       "1       -0.094656    1.549240   -0.278531       6       2  \n",
       "2       -0.884014   -0.760765    1.244057       6       2  \n",
       "3       -0.007525    1.536134   -0.290437       6       2  \n",
       "4       -0.841644   -0.775465    1.276823       6       2  "
      ]
     },
     "execution_count": 10,
     "metadata": {},
     "output_type": "execute_result"
    }
   ],
   "source": [
    "data.head()"
   ]
  },
  {
   "cell_type": "code",
   "execution_count": 11,
   "metadata": {},
   "outputs": [
    {
     "data": {
      "text/html": [
       "<div>\n",
       "<style scoped>\n",
       "    .dataframe tbody tr th:only-of-type {\n",
       "        vertical-align: middle;\n",
       "    }\n",
       "\n",
       "    .dataframe tbody tr th {\n",
       "        vertical-align: top;\n",
       "    }\n",
       "\n",
       "    .dataframe thead th {\n",
       "        text-align: right;\n",
       "    }\n",
       "</style>\n",
       "<table border=\"1\" class=\"dataframe\">\n",
       "  <thead>\n",
       "    <tr style=\"text-align: right;\">\n",
       "      <th></th>\n",
       "      <th>nc</th>\n",
       "      <th>rssi</th>\n",
       "      <th>rssi1</th>\n",
       "      <th>rssi2</th>\n",
       "      <th>ant1_amplitude</th>\n",
       "      <th>ant2_amplitude</th>\n",
       "      <th>ant1_phase</th>\n",
       "      <th>ant2_phase</th>\n",
       "      <th>coord1</th>\n",
       "      <th>coord2</th>\n",
       "      <th>...</th>\n",
       "      <th>subcarrier_47</th>\n",
       "      <th>subcarrier_48</th>\n",
       "      <th>subcarrier_49</th>\n",
       "      <th>subcarrier_50</th>\n",
       "      <th>subcarrier_51</th>\n",
       "      <th>subcarrier_52</th>\n",
       "      <th>subcarrier_53</th>\n",
       "      <th>subcarrier_54</th>\n",
       "      <th>subcarrier_55</th>\n",
       "      <th>subcarrier_56</th>\n",
       "    </tr>\n",
       "  </thead>\n",
       "  <tbody>\n",
       "    <tr>\n",
       "      <th>0</th>\n",
       "      <td>2</td>\n",
       "      <td>-0.721583</td>\n",
       "      <td>-0.491469</td>\n",
       "      <td>-0.820802</td>\n",
       "      <td>-0.187897</td>\n",
       "      <td>-0.964817</td>\n",
       "      <td>-0.762717</td>\n",
       "      <td>1.268949</td>\n",
       "      <td>6</td>\n",
       "      <td>2</td>\n",
       "      <td>...</td>\n",
       "      <td>False</td>\n",
       "      <td>False</td>\n",
       "      <td>False</td>\n",
       "      <td>False</td>\n",
       "      <td>False</td>\n",
       "      <td>False</td>\n",
       "      <td>False</td>\n",
       "      <td>False</td>\n",
       "      <td>False</td>\n",
       "      <td>False</td>\n",
       "    </tr>\n",
       "    <tr>\n",
       "      <th>1</th>\n",
       "      <td>2</td>\n",
       "      <td>-0.721583</td>\n",
       "      <td>-0.491469</td>\n",
       "      <td>-0.820802</td>\n",
       "      <td>-0.145316</td>\n",
       "      <td>-0.094656</td>\n",
       "      <td>1.549240</td>\n",
       "      <td>-0.278531</td>\n",
       "      <td>6</td>\n",
       "      <td>2</td>\n",
       "      <td>...</td>\n",
       "      <td>False</td>\n",
       "      <td>False</td>\n",
       "      <td>False</td>\n",
       "      <td>False</td>\n",
       "      <td>False</td>\n",
       "      <td>False</td>\n",
       "      <td>False</td>\n",
       "      <td>False</td>\n",
       "      <td>False</td>\n",
       "      <td>False</td>\n",
       "    </tr>\n",
       "    <tr>\n",
       "      <th>2</th>\n",
       "      <td>2</td>\n",
       "      <td>-0.721583</td>\n",
       "      <td>-0.491469</td>\n",
       "      <td>-0.820802</td>\n",
       "      <td>-0.075775</td>\n",
       "      <td>-0.884014</td>\n",
       "      <td>-0.760765</td>\n",
       "      <td>1.244057</td>\n",
       "      <td>6</td>\n",
       "      <td>2</td>\n",
       "      <td>...</td>\n",
       "      <td>False</td>\n",
       "      <td>False</td>\n",
       "      <td>False</td>\n",
       "      <td>False</td>\n",
       "      <td>False</td>\n",
       "      <td>False</td>\n",
       "      <td>False</td>\n",
       "      <td>False</td>\n",
       "      <td>False</td>\n",
       "      <td>False</td>\n",
       "    </tr>\n",
       "    <tr>\n",
       "      <th>3</th>\n",
       "      <td>2</td>\n",
       "      <td>-0.721583</td>\n",
       "      <td>-0.491469</td>\n",
       "      <td>-0.820802</td>\n",
       "      <td>-0.090569</td>\n",
       "      <td>-0.007525</td>\n",
       "      <td>1.536134</td>\n",
       "      <td>-0.290437</td>\n",
       "      <td>6</td>\n",
       "      <td>2</td>\n",
       "      <td>...</td>\n",
       "      <td>False</td>\n",
       "      <td>False</td>\n",
       "      <td>False</td>\n",
       "      <td>False</td>\n",
       "      <td>False</td>\n",
       "      <td>False</td>\n",
       "      <td>False</td>\n",
       "      <td>False</td>\n",
       "      <td>False</td>\n",
       "      <td>False</td>\n",
       "    </tr>\n",
       "    <tr>\n",
       "      <th>4</th>\n",
       "      <td>2</td>\n",
       "      <td>-0.721583</td>\n",
       "      <td>-0.491469</td>\n",
       "      <td>-0.820802</td>\n",
       "      <td>-0.026314</td>\n",
       "      <td>-0.841644</td>\n",
       "      <td>-0.775465</td>\n",
       "      <td>1.276823</td>\n",
       "      <td>6</td>\n",
       "      <td>2</td>\n",
       "      <td>...</td>\n",
       "      <td>False</td>\n",
       "      <td>False</td>\n",
       "      <td>False</td>\n",
       "      <td>False</td>\n",
       "      <td>False</td>\n",
       "      <td>False</td>\n",
       "      <td>False</td>\n",
       "      <td>False</td>\n",
       "      <td>False</td>\n",
       "      <td>False</td>\n",
       "    </tr>\n",
       "  </tbody>\n",
       "</table>\n",
       "<p>5 rows × 66 columns</p>\n",
       "</div>"
      ],
      "text/plain": [
       "   nc      rssi     rssi1     rssi2  ant1_amplitude  ant2_amplitude  \\\n",
       "0   2 -0.721583 -0.491469 -0.820802       -0.187897       -0.964817   \n",
       "1   2 -0.721583 -0.491469 -0.820802       -0.145316       -0.094656   \n",
       "2   2 -0.721583 -0.491469 -0.820802       -0.075775       -0.884014   \n",
       "3   2 -0.721583 -0.491469 -0.820802       -0.090569       -0.007525   \n",
       "4   2 -0.721583 -0.491469 -0.820802       -0.026314       -0.841644   \n",
       "\n",
       "   ant1_phase  ant2_phase  coord1  coord2  ...  subcarrier_47  subcarrier_48  \\\n",
       "0   -0.762717    1.268949       6       2  ...          False          False   \n",
       "1    1.549240   -0.278531       6       2  ...          False          False   \n",
       "2   -0.760765    1.244057       6       2  ...          False          False   \n",
       "3    1.536134   -0.290437       6       2  ...          False          False   \n",
       "4   -0.775465    1.276823       6       2  ...          False          False   \n",
       "\n",
       "   subcarrier_49  subcarrier_50  subcarrier_51  subcarrier_52  subcarrier_53  \\\n",
       "0          False          False          False          False          False   \n",
       "1          False          False          False          False          False   \n",
       "2          False          False          False          False          False   \n",
       "3          False          False          False          False          False   \n",
       "4          False          False          False          False          False   \n",
       "\n",
       "   subcarrier_54  subcarrier_55  subcarrier_56  \n",
       "0          False          False          False  \n",
       "1          False          False          False  \n",
       "2          False          False          False  \n",
       "3          False          False          False  \n",
       "4          False          False          False  \n",
       "\n",
       "[5 rows x 66 columns]"
      ]
     },
     "execution_count": 11,
     "metadata": {},
     "output_type": "execute_result"
    }
   ],
   "source": [
    "data = pd.concat([data, pd.get_dummies(data['subcarriers'], prefix='subcarrier')], axis=1)\n",
    "data.drop('subcarriers', axis=1, inplace=True)\n",
    "data.head()"
   ]
  },
  {
   "cell_type": "markdown",
   "metadata": {},
   "source": [
    "# Model"
   ]
  },
  {
   "cell_type": "code",
   "execution_count": 12,
   "metadata": {},
   "outputs": [],
   "source": [
    "model_type = \"dnn\""
   ]
  },
  {
   "cell_type": "code",
   "execution_count": 13,
   "metadata": {},
   "outputs": [],
   "source": [
    "X = data.drop(columns=['coord1', 'coord2']) \n",
    "y = data[['coord1', 'coord2']]\n",
    "\n",
    "# X = X.values.astype(np.float32)\n",
    "# y = y.values.astype(np.float32)"
   ]
  },
  {
   "cell_type": "code",
   "execution_count": 14,
   "metadata": {},
   "outputs": [],
   "source": [
    "# np.save('preprocessed_X.npy', X)\n",
    "# np.save('preprocessed_y.npy', y)"
   ]
  },
  {
   "cell_type": "code",
   "execution_count": 15,
   "metadata": {},
   "outputs": [],
   "source": [
    "# X = np.load('preprocessed_X.npy')\n",
    "# y = np.load('preprocessed_y.npy')"
   ]
  },
  {
   "cell_type": "code",
   "execution_count": 16,
   "metadata": {},
   "outputs": [],
   "source": [
    "# dataset = tf.data.Dataset.from_tensor_slices((X, y))\n",
    "\n",
    "# batch_size = 128  # Adjust based on your GPU memory\n",
    "\n",
    "# dataset = dataset.shuffle(buffer_size=10000)\n",
    "# dataset = dataset.batch(batch_size)\n",
    "# dataset = dataset.prefetch(tf.data.AUTOTUNE)"
   ]
  },
  {
   "cell_type": "code",
   "execution_count": 17,
   "metadata": {},
   "outputs": [
    {
     "name": "stdout",
     "output_type": "stream",
     "text": [
      "Training set shape: (7484064, 64)\n",
      "Validation set shape: (2494688, 64)\n",
      "Test set shape: (2494688, 64)\n"
     ]
    }
   ],
   "source": [
    "# First, split the data into training and a temporary set (which will later be split into validation and test sets)\n",
    "X_train, X_temp, y_train, y_temp = train_test_split(X, y, test_size=0.4, random_state=42)  # 60% train, 40% temp\n",
    "\n",
    "# Now, split the temporary set into validation and test sets\n",
    "X_val, X_test, y_val, y_test = train_test_split(X_temp, y_temp, test_size=0.5, random_state=42)  # 20% val, 20% test\n",
    "\n",
    "# Check the shapes of your splits\n",
    "print(\"Training set shape:\", X_train.shape)\n",
    "print(\"Validation set shape:\", X_val.shape)\n",
    "print(\"Test set shape:\", X_test.shape)"
   ]
  },
  {
   "cell_type": "code",
   "execution_count": 18,
   "metadata": {},
   "outputs": [
    {
     "name": "stderr",
     "output_type": "stream",
     "text": [
      "/home/alan-xie/Documents/Thesis/wifi_localization/.venv/lib/python3.10/site-packages/keras/src/layers/core/input_layer.py:26: UserWarning: Argument `input_shape` is deprecated. Use `shape` instead.\n",
      "  warnings.warn(\n",
      "I0000 00:00:1727616371.808368   14106 cuda_executor.cc:1015] successful NUMA node read from SysFS had negative value (-1), but there must be at least one NUMA node, so returning NUMA node zero. See more at https://github.com/torvalds/linux/blob/v6.0/Documentation/ABI/testing/sysfs-bus-pci#L344-L355\n",
      "I0000 00:00:1727616371.810359   14106 cuda_executor.cc:1015] successful NUMA node read from SysFS had negative value (-1), but there must be at least one NUMA node, so returning NUMA node zero. See more at https://github.com/torvalds/linux/blob/v6.0/Documentation/ABI/testing/sysfs-bus-pci#L344-L355\n",
      "I0000 00:00:1727616371.812223   14106 cuda_executor.cc:1015] successful NUMA node read from SysFS had negative value (-1), but there must be at least one NUMA node, so returning NUMA node zero. See more at https://github.com/torvalds/linux/blob/v6.0/Documentation/ABI/testing/sysfs-bus-pci#L344-L355\n",
      "I0000 00:00:1727616371.814006   14106 cuda_executor.cc:1015] successful NUMA node read from SysFS had negative value (-1), but there must be at least one NUMA node, so returning NUMA node zero. See more at https://github.com/torvalds/linux/blob/v6.0/Documentation/ABI/testing/sysfs-bus-pci#L344-L355\n",
      "I0000 00:00:1727616371.815845   14106 cuda_executor.cc:1015] successful NUMA node read from SysFS had negative value (-1), but there must be at least one NUMA node, so returning NUMA node zero. See more at https://github.com/torvalds/linux/blob/v6.0/Documentation/ABI/testing/sysfs-bus-pci#L344-L355\n",
      "2024-09-29 23:26:11.817511: I tensorflow/core/common_runtime/gpu/gpu_device.cc:2021] Created device /job:localhost/replica:0/task:0/device:GPU:0 with 5297 MB memory:  -> device: 0, name: NVIDIA GeForce RTX 3070 Ti, pci bus id: 0000:01:00.0, compute capability: 8.6\n"
     ]
    },
    {
     "data": {
      "text/html": [
       "<pre style=\"white-space:pre;overflow-x:auto;line-height:normal;font-family:Menlo,'DejaVu Sans Mono',consolas,'Courier New',monospace\"><span style=\"font-weight: bold\">Model: \"sequential\"</span>\n",
       "</pre>\n"
      ],
      "text/plain": [
       "\u001b[1mModel: \"sequential\"\u001b[0m\n"
      ]
     },
     "metadata": {},
     "output_type": "display_data"
    },
    {
     "data": {
      "text/html": [
       "<pre style=\"white-space:pre;overflow-x:auto;line-height:normal;font-family:Menlo,'DejaVu Sans Mono',consolas,'Courier New',monospace\">┏━━━━━━━━━━━━━━━━━━━━━━━━━━━━━━━━━┳━━━━━━━━━━━━━━━━━━━━━━━━┳━━━━━━━━━━━━━━━┓\n",
       "┃<span style=\"font-weight: bold\"> Layer (type)                    </span>┃<span style=\"font-weight: bold\"> Output Shape           </span>┃<span style=\"font-weight: bold\">       Param # </span>┃\n",
       "┡━━━━━━━━━━━━━━━━━━━━━━━━━━━━━━━━━╇━━━━━━━━━━━━━━━━━━━━━━━━╇━━━━━━━━━━━━━━━┩\n",
       "│ dense (<span style=\"color: #0087ff; text-decoration-color: #0087ff\">Dense</span>)                   │ (<span style=\"color: #00d7ff; text-decoration-color: #00d7ff\">None</span>, <span style=\"color: #00af00; text-decoration-color: #00af00\">256</span>)            │        <span style=\"color: #00af00; text-decoration-color: #00af00\">16,640</span> │\n",
       "├─────────────────────────────────┼────────────────────────┼───────────────┤\n",
       "│ dense_1 (<span style=\"color: #0087ff; text-decoration-color: #0087ff\">Dense</span>)                 │ (<span style=\"color: #00d7ff; text-decoration-color: #00d7ff\">None</span>, <span style=\"color: #00af00; text-decoration-color: #00af00\">128</span>)            │        <span style=\"color: #00af00; text-decoration-color: #00af00\">32,896</span> │\n",
       "├─────────────────────────────────┼────────────────────────┼───────────────┤\n",
       "│ dense_2 (<span style=\"color: #0087ff; text-decoration-color: #0087ff\">Dense</span>)                 │ (<span style=\"color: #00d7ff; text-decoration-color: #00d7ff\">None</span>, <span style=\"color: #00af00; text-decoration-color: #00af00\">64</span>)             │         <span style=\"color: #00af00; text-decoration-color: #00af00\">8,256</span> │\n",
       "├─────────────────────────────────┼────────────────────────┼───────────────┤\n",
       "│ dense_3 (<span style=\"color: #0087ff; text-decoration-color: #0087ff\">Dense</span>)                 │ (<span style=\"color: #00d7ff; text-decoration-color: #00d7ff\">None</span>, <span style=\"color: #00af00; text-decoration-color: #00af00\">32</span>)             │         <span style=\"color: #00af00; text-decoration-color: #00af00\">2,080</span> │\n",
       "├─────────────────────────────────┼────────────────────────┼───────────────┤\n",
       "│ dense_4 (<span style=\"color: #0087ff; text-decoration-color: #0087ff\">Dense</span>)                 │ (<span style=\"color: #00d7ff; text-decoration-color: #00d7ff\">None</span>, <span style=\"color: #00af00; text-decoration-color: #00af00\">2</span>)              │            <span style=\"color: #00af00; text-decoration-color: #00af00\">66</span> │\n",
       "└─────────────────────────────────┴────────────────────────┴───────────────┘\n",
       "</pre>\n"
      ],
      "text/plain": [
       "┏━━━━━━━━━━━━━━━━━━━━━━━━━━━━━━━━━┳━━━━━━━━━━━━━━━━━━━━━━━━┳━━━━━━━━━━━━━━━┓\n",
       "┃\u001b[1m \u001b[0m\u001b[1mLayer (type)                   \u001b[0m\u001b[1m \u001b[0m┃\u001b[1m \u001b[0m\u001b[1mOutput Shape          \u001b[0m\u001b[1m \u001b[0m┃\u001b[1m \u001b[0m\u001b[1m      Param #\u001b[0m\u001b[1m \u001b[0m┃\n",
       "┡━━━━━━━━━━━━━━━━━━━━━━━━━━━━━━━━━╇━━━━━━━━━━━━━━━━━━━━━━━━╇━━━━━━━━━━━━━━━┩\n",
       "│ dense (\u001b[38;5;33mDense\u001b[0m)                   │ (\u001b[38;5;45mNone\u001b[0m, \u001b[38;5;34m256\u001b[0m)            │        \u001b[38;5;34m16,640\u001b[0m │\n",
       "├─────────────────────────────────┼────────────────────────┼───────────────┤\n",
       "│ dense_1 (\u001b[38;5;33mDense\u001b[0m)                 │ (\u001b[38;5;45mNone\u001b[0m, \u001b[38;5;34m128\u001b[0m)            │        \u001b[38;5;34m32,896\u001b[0m │\n",
       "├─────────────────────────────────┼────────────────────────┼───────────────┤\n",
       "│ dense_2 (\u001b[38;5;33mDense\u001b[0m)                 │ (\u001b[38;5;45mNone\u001b[0m, \u001b[38;5;34m64\u001b[0m)             │         \u001b[38;5;34m8,256\u001b[0m │\n",
       "├─────────────────────────────────┼────────────────────────┼───────────────┤\n",
       "│ dense_3 (\u001b[38;5;33mDense\u001b[0m)                 │ (\u001b[38;5;45mNone\u001b[0m, \u001b[38;5;34m32\u001b[0m)             │         \u001b[38;5;34m2,080\u001b[0m │\n",
       "├─────────────────────────────────┼────────────────────────┼───────────────┤\n",
       "│ dense_4 (\u001b[38;5;33mDense\u001b[0m)                 │ (\u001b[38;5;45mNone\u001b[0m, \u001b[38;5;34m2\u001b[0m)              │            \u001b[38;5;34m66\u001b[0m │\n",
       "└─────────────────────────────────┴────────────────────────┴───────────────┘\n"
      ]
     },
     "metadata": {},
     "output_type": "display_data"
    },
    {
     "data": {
      "text/html": [
       "<pre style=\"white-space:pre;overflow-x:auto;line-height:normal;font-family:Menlo,'DejaVu Sans Mono',consolas,'Courier New',monospace\"><span style=\"font-weight: bold\"> Total params: </span><span style=\"color: #00af00; text-decoration-color: #00af00\">59,938</span> (234.13 KB)\n",
       "</pre>\n"
      ],
      "text/plain": [
       "\u001b[1m Total params: \u001b[0m\u001b[38;5;34m59,938\u001b[0m (234.13 KB)\n"
      ]
     },
     "metadata": {},
     "output_type": "display_data"
    },
    {
     "data": {
      "text/html": [
       "<pre style=\"white-space:pre;overflow-x:auto;line-height:normal;font-family:Menlo,'DejaVu Sans Mono',consolas,'Courier New',monospace\"><span style=\"font-weight: bold\"> Trainable params: </span><span style=\"color: #00af00; text-decoration-color: #00af00\">59,938</span> (234.13 KB)\n",
       "</pre>\n"
      ],
      "text/plain": [
       "\u001b[1m Trainable params: \u001b[0m\u001b[38;5;34m59,938\u001b[0m (234.13 KB)\n"
      ]
     },
     "metadata": {},
     "output_type": "display_data"
    },
    {
     "data": {
      "text/html": [
       "<pre style=\"white-space:pre;overflow-x:auto;line-height:normal;font-family:Menlo,'DejaVu Sans Mono',consolas,'Courier New',monospace\"><span style=\"font-weight: bold\"> Non-trainable params: </span><span style=\"color: #00af00; text-decoration-color: #00af00\">0</span> (0.00 B)\n",
       "</pre>\n"
      ],
      "text/plain": [
       "\u001b[1m Non-trainable params: \u001b[0m\u001b[38;5;34m0\u001b[0m (0.00 B)\n"
      ]
     },
     "metadata": {},
     "output_type": "display_data"
    }
   ],
   "source": [
    "def create_dnn_model(input_shape):\n",
    "    model = models.Sequential()\n",
    "    model.add(layers.InputLayer(input_shape=input_shape))\n",
    "    \n",
    "    # Hidden layers\n",
    "    model.add(layers.Dense(256, activation='relu'))\n",
    "    model.add(layers.Dense(128, activation='relu'))\n",
    "    model.add(layers.Dense(64, activation='relu'))\n",
    "    model.add(layers.Dense(32, activation='relu'))\n",
    "    \n",
    "    # Output layer for regression (2 neurons for x and y coordinates)\n",
    "    model.add(layers.Dense(2))  # For 2D localization, change to 3 for 3D localization\n",
    "\n",
    "    # Compile the model\n",
    "    model.compile(optimizer='adam', loss='mse', metrics=['mae'])\n",
    "    return model\n",
    "\n",
    "# Example of creating the model, input_shape should be (number of features,)\n",
    "input_shape = (X_train.shape[1],)  # Adjust based on your number of features\n",
    "model = create_dnn_model(input_shape)\n",
    "\n",
    "# Print the model summary\n",
    "model.summary()"
   ]
  },
  {
   "cell_type": "code",
   "execution_count": 20,
   "metadata": {},
   "outputs": [
    {
     "name": "stderr",
     "output_type": "stream",
     "text": [
      "2024-09-29 23:27:14.373422: W external/local_tsl/tsl/framework/cpu_allocator_impl.cc:83] Allocation of 1915920384 exceeds 10% of free system memory.\n",
      "2024-09-29 23:27:15.722956: W external/local_tsl/tsl/framework/cpu_allocator_impl.cc:83] Allocation of 119745024 exceeds 10% of free system memory.\n",
      "2024-09-29 23:27:15.799973: W external/local_tsl/tsl/framework/cpu_allocator_impl.cc:83] Allocation of 1915920384 exceeds 10% of free system memory.\n",
      "2024-09-29 23:27:16.447307: W external/local_tsl/tsl/framework/cpu_allocator_impl.cc:83] Allocation of 119745024 exceeds 10% of free system memory.\n"
     ]
    },
    {
     "name": "stdout",
     "output_type": "stream",
     "text": [
      "Epoch 1/50\n"
     ]
    },
    {
     "name": "stderr",
     "output_type": "stream",
     "text": [
      "2024-09-29 23:27:17.205466: W external/local_tsl/tsl/framework/cpu_allocator_impl.cc:83] Allocation of 59872512 exceeds 10% of free system memory.\n",
      "WARNING: All log messages before absl::InitializeLog() is called are written to STDERR\n",
      "I0000 00:00:1727616438.163295   14203 service.cc:146] XLA service 0x70c3e8004a30 initialized for platform CUDA (this does not guarantee that XLA will be used). Devices:\n",
      "I0000 00:00:1727616438.163310   14203 service.cc:154]   StreamExecutor device (0): NVIDIA GeForce RTX 3070 Ti, Compute Capability 8.6\n",
      "2024-09-29 23:27:18.186017: I tensorflow/compiler/mlir/tensorflow/utils/dump_mlir_util.cc:268] disabling MLIR crash reproducer, set env var `MLIR_CRASH_REPRODUCER_DIRECTORY` to enable.\n",
      "2024-09-29 23:27:18.817614: I external/local_xla/xla/stream_executor/cuda/cuda_dnn.cc:531] Loaded cuDNN version 8907\n",
      "2024-09-29 23:27:21.255227: I external/local_xla/xla/stream_executor/cuda/cuda_asm_compiler.cc:393] ptxas warning : Registers are spilled to local memory in function 'gemm_fusion_dot_445', 212 bytes spill stores, 200 bytes spill loads\n",
      "\n",
      "2024-09-29 23:27:21.550111: I external/local_xla/xla/stream_executor/cuda/cuda_asm_compiler.cc:393] ptxas warning : Registers are spilled to local memory in function 'gemm_fusion_dot_449', 32 bytes spill stores, 32 bytes spill loads\n",
      "\n",
      "2024-09-29 23:27:21.888026: I external/local_xla/xla/stream_executor/cuda/cuda_asm_compiler.cc:393] ptxas warning : Registers are spilled to local memory in function 'gemm_fusion_dot_451', 2596 bytes spill stores, 2448 bytes spill loads\n",
      "\n",
      "2024-09-29 23:27:22.116466: I external/local_xla/xla/stream_executor/cuda/cuda_asm_compiler.cc:393] ptxas warning : Registers are spilled to local memory in function 'gemm_fusion_dot_447', 32 bytes spill stores, 32 bytes spill loads\n",
      "\n",
      "2024-09-29 23:27:22.236618: I external/local_xla/xla/stream_executor/cuda/cuda_asm_compiler.cc:393] ptxas warning : Registers are spilled to local memory in function 'gemm_fusion_dot_451', 3452 bytes spill stores, 3324 bytes spill loads\n",
      "\n",
      "2024-09-29 23:27:22.536907: I external/local_xla/xla/stream_executor/cuda/cuda_asm_compiler.cc:393] ptxas warning : Registers are spilled to local memory in function 'gemm_fusion_dot_445', 32 bytes spill stores, 32 bytes spill loads\n",
      "\n"
     ]
    },
    {
     "name": "stdout",
     "output_type": "stream",
     "text": [
      "\u001b[1m   1/7309\u001b[0m \u001b[37m━━━━━━━━━━━━━━━━━━━━\u001b[0m \u001b[1m14:05:53\u001b[0m 7s/step - loss: 17.0976 - mae: 3.6473"
     ]
    },
    {
     "name": "stderr",
     "output_type": "stream",
     "text": [
      "I0000 00:00:1727616443.947044   14203 device_compiler.h:188] Compiled cluster using XLA!  This line is logged at most once for the lifetime of the process.\n"
     ]
    },
    {
     "name": "stdout",
     "output_type": "stream",
     "text": [
      "\u001b[1m7306/7309\u001b[0m \u001b[32m━━━━━━━━━━━━━━━━━━━\u001b[0m\u001b[37m━\u001b[0m \u001b[1m0s\u001b[0m 1ms/step - loss: 2.9814 - mae: 1.4201"
     ]
    },
    {
     "name": "stderr",
     "output_type": "stream",
     "text": [
      "2024-09-29 23:27:36.275352: I external/local_xla/xla/stream_executor/cuda/cuda_asm_compiler.cc:393] ptxas warning : Registers are spilled to local memory in function 'gemm_fusion_dot_445', 4 bytes spill stores, 4 bytes spill loads\n",
      "\n",
      "2024-09-29 23:27:36.862176: I external/local_xla/xla/stream_executor/cuda/cuda_asm_compiler.cc:393] ptxas warning : Registers are spilled to local memory in function 'gemm_fusion_dot_449', 4 bytes spill stores, 4 bytes spill loads\n",
      "\n",
      "2024-09-29 23:27:37.037589: I external/local_xla/xla/stream_executor/cuda/cuda_asm_compiler.cc:393] ptxas warning : Registers are spilled to local memory in function 'gemm_fusion_dot_445', 328 bytes spill stores, 336 bytes spill loads\n",
      "\n",
      "2024-09-29 23:27:38.138102: I external/local_xla/xla/stream_executor/cuda/cuda_asm_compiler.cc:393] ptxas warning : Registers are spilled to local memory in function 'gemm_fusion_dot_451', 44 bytes spill stores, 44 bytes spill loads\n",
      "\n",
      "2024-09-29 23:27:38.282225: I external/local_xla/xla/stream_executor/cuda/cuda_asm_compiler.cc:393] ptxas warning : Registers are spilled to local memory in function 'gemm_fusion_dot_447', 4 bytes spill stores, 4 bytes spill loads\n",
      "\n",
      "2024-09-29 23:27:38.538958: I external/local_xla/xla/stream_executor/cuda/cuda_asm_compiler.cc:393] ptxas warning : Registers are spilled to local memory in function 'gemm_fusion_dot_449', 44 bytes spill stores, 44 bytes spill loads\n",
      "\n",
      "2024-09-29 23:27:38.683414: I external/local_xla/xla/stream_executor/cuda/cuda_asm_compiler.cc:393] ptxas warning : Registers are spilled to local memory in function 'gemm_fusion_dot_445', 44 bytes spill stores, 44 bytes spill loads\n",
      "\n",
      "2024-09-29 23:27:38.985662: I external/local_xla/xla/stream_executor/cuda/cuda_asm_compiler.cc:393] ptxas warning : Registers are spilled to local memory in function 'gemm_fusion_dot_447', 44 bytes spill stores, 44 bytes spill loads\n",
      "\n"
     ]
    },
    {
     "name": "stdout",
     "output_type": "stream",
     "text": [
      "\u001b[1m7309/7309\u001b[0m \u001b[32m━━━━━━━━━━━━━━━━━━━━\u001b[0m\u001b[37m\u001b[0m \u001b[1m28s\u001b[0m 3ms/step - loss: 2.9812 - mae: 1.4201 - val_loss: 2.5749 - val_mae: 1.3186\n",
      "Epoch 2/50\n",
      "\u001b[1m7309/7309\u001b[0m \u001b[32m━━━━━━━━━━━━━━━━━━━━\u001b[0m\u001b[37m\u001b[0m \u001b[1m14s\u001b[0m 2ms/step - loss: 2.5365 - mae: 1.3079 - val_loss: 2.4591 - val_mae: 1.2806\n",
      "Epoch 3/50\n",
      "\u001b[1m7309/7309\u001b[0m \u001b[32m━━━━━━━━━━━━━━━━━━━━\u001b[0m\u001b[37m\u001b[0m \u001b[1m13s\u001b[0m 2ms/step - loss: 2.4287 - mae: 1.2718 - val_loss: 2.3508 - val_mae: 1.2464\n",
      "Epoch 4/50\n",
      "\u001b[1m7309/7309\u001b[0m \u001b[32m━━━━━━━━━━━━━━━━━━━━\u001b[0m\u001b[37m\u001b[0m \u001b[1m12s\u001b[0m 2ms/step - loss: 2.3414 - mae: 1.2426 - val_loss: 2.3067 - val_mae: 1.2299\n",
      "Epoch 5/50\n",
      "\u001b[1m7309/7309\u001b[0m \u001b[32m━━━━━━━━━━━━━━━━━━━━\u001b[0m\u001b[37m\u001b[0m \u001b[1m12s\u001b[0m 2ms/step - loss: 2.2978 - mae: 1.2264 - val_loss: 2.2724 - val_mae: 1.2178\n",
      "Epoch 6/50\n",
      "\u001b[1m7309/7309\u001b[0m \u001b[32m━━━━━━━━━━━━━━━━━━━━\u001b[0m\u001b[37m\u001b[0m \u001b[1m12s\u001b[0m 2ms/step - loss: 2.2691 - mae: 1.2160 - val_loss: 2.2666 - val_mae: 1.2161\n",
      "Epoch 7/50\n",
      "\u001b[1m7309/7309\u001b[0m \u001b[32m━━━━━━━━━━━━━━━━━━━━\u001b[0m\u001b[37m\u001b[0m \u001b[1m12s\u001b[0m 2ms/step - loss: 2.2549 - mae: 1.2107 - val_loss: 2.2414 - val_mae: 1.2065\n",
      "Epoch 8/50\n",
      "\u001b[1m7309/7309\u001b[0m \u001b[32m━━━━━━━━━━━━━━━━━━━━\u001b[0m\u001b[37m\u001b[0m \u001b[1m12s\u001b[0m 2ms/step - loss: 2.2417 - mae: 1.2060 - val_loss: 2.2486 - val_mae: 1.2075\n",
      "Epoch 9/50\n",
      "\u001b[1m7309/7309\u001b[0m \u001b[32m━━━━━━━━━━━━━━━━━━━━\u001b[0m\u001b[37m\u001b[0m \u001b[1m12s\u001b[0m 2ms/step - loss: 2.2307 - mae: 1.2024 - val_loss: 2.2343 - val_mae: 1.2004\n",
      "Epoch 10/50\n",
      "\u001b[1m7309/7309\u001b[0m \u001b[32m━━━━━━━━━━━━━━━━━━━━\u001b[0m\u001b[37m\u001b[0m \u001b[1m12s\u001b[0m 2ms/step - loss: 2.2225 - mae: 1.1993 - val_loss: 2.2206 - val_mae: 1.1978\n",
      "Epoch 11/50\n",
      "\u001b[1m7309/7309\u001b[0m \u001b[32m━━━━━━━━━━━━━━━━━━━━\u001b[0m\u001b[37m\u001b[0m \u001b[1m11s\u001b[0m 2ms/step - loss: 2.2141 - mae: 1.1965 - val_loss: 2.2050 - val_mae: 1.1930\n",
      "Epoch 12/50\n",
      "\u001b[1m7309/7309\u001b[0m \u001b[32m━━━━━━━━━━━━━━━━━━━━\u001b[0m\u001b[37m\u001b[0m \u001b[1m11s\u001b[0m 2ms/step - loss: 2.2046 - mae: 1.1933 - val_loss: 2.2013 - val_mae: 1.1923\n",
      "Epoch 13/50\n",
      "\u001b[1m7309/7309\u001b[0m \u001b[32m━━━━━━━━━━━━━━━━━━━━\u001b[0m\u001b[37m\u001b[0m \u001b[1m11s\u001b[0m 1ms/step - loss: 2.2001 - mae: 1.1917 - val_loss: 2.2082 - val_mae: 1.1912\n",
      "Epoch 14/50\n",
      "\u001b[1m7309/7309\u001b[0m \u001b[32m━━━━━━━━━━━━━━━━━━━━\u001b[0m\u001b[37m\u001b[0m \u001b[1m11s\u001b[0m 2ms/step - loss: 2.1959 - mae: 1.1903 - val_loss: 2.1948 - val_mae: 1.1892\n",
      "Epoch 15/50\n",
      "\u001b[1m7309/7309\u001b[0m \u001b[32m━━━━━━━━━━━━━━━━━━━━\u001b[0m\u001b[37m\u001b[0m \u001b[1m11s\u001b[0m 2ms/step - loss: 2.1895 - mae: 1.1879 - val_loss: 2.1906 - val_mae: 1.1877\n",
      "Epoch 16/50\n",
      "\u001b[1m7309/7309\u001b[0m \u001b[32m━━━━━━━━━━━━━━━━━━━━\u001b[0m\u001b[37m\u001b[0m \u001b[1m11s\u001b[0m 2ms/step - loss: 2.1854 - mae: 1.1865 - val_loss: 2.1828 - val_mae: 1.1870\n",
      "Epoch 17/50\n",
      "\u001b[1m7309/7309\u001b[0m \u001b[32m━━━━━━━━━━━━━━━━━━━━\u001b[0m\u001b[37m\u001b[0m \u001b[1m11s\u001b[0m 1ms/step - loss: 2.1815 - mae: 1.1853 - val_loss: 2.1976 - val_mae: 1.1878\n",
      "Epoch 18/50\n",
      "\u001b[1m7309/7309\u001b[0m \u001b[32m━━━━━━━━━━━━━━━━━━━━\u001b[0m\u001b[37m\u001b[0m \u001b[1m11s\u001b[0m 1ms/step - loss: 2.1778 - mae: 1.1841 - val_loss: 2.1769 - val_mae: 1.1822\n",
      "Epoch 19/50\n",
      "\u001b[1m7309/7309\u001b[0m \u001b[32m━━━━━━━━━━━━━━━━━━━━\u001b[0m\u001b[37m\u001b[0m \u001b[1m11s\u001b[0m 1ms/step - loss: 2.1743 - mae: 1.1829 - val_loss: 2.1725 - val_mae: 1.1827\n",
      "Epoch 20/50\n",
      "\u001b[1m7309/7309\u001b[0m \u001b[32m━━━━━━━━━━━━━━━━━━━━\u001b[0m\u001b[37m\u001b[0m \u001b[1m11s\u001b[0m 1ms/step - loss: 2.1708 - mae: 1.1817 - val_loss: 2.1830 - val_mae: 1.1871\n",
      "Epoch 21/50\n",
      "\u001b[1m7309/7309\u001b[0m \u001b[32m━━━━━━━━━━━━━━━━━━━━\u001b[0m\u001b[37m\u001b[0m \u001b[1m11s\u001b[0m 1ms/step - loss: 2.1696 - mae: 1.1814 - val_loss: 2.1735 - val_mae: 1.1836\n",
      "Epoch 22/50\n",
      "\u001b[1m7309/7309\u001b[0m \u001b[32m━━━━━━━━━━━━━━━━━━━━\u001b[0m\u001b[37m\u001b[0m \u001b[1m11s\u001b[0m 2ms/step - loss: 2.1653 - mae: 1.1798 - val_loss: 2.1829 - val_mae: 1.1856\n",
      "Epoch 23/50\n",
      "\u001b[1m7309/7309\u001b[0m \u001b[32m━━━━━━━━━━━━━━━━━━━━\u001b[0m\u001b[37m\u001b[0m \u001b[1m11s\u001b[0m 1ms/step - loss: 2.1630 - mae: 1.1791 - val_loss: 2.1638 - val_mae: 1.1814\n",
      "Epoch 24/50\n",
      "\u001b[1m7309/7309\u001b[0m \u001b[32m━━━━━━━━━━━━━━━━━━━━\u001b[0m\u001b[37m\u001b[0m \u001b[1m11s\u001b[0m 1ms/step - loss: 2.1602 - mae: 1.1781 - val_loss: 2.1635 - val_mae: 1.1779\n",
      "Epoch 25/50\n",
      "\u001b[1m7309/7309\u001b[0m \u001b[32m━━━━━━━━━━━━━━━━━━━━\u001b[0m\u001b[37m\u001b[0m \u001b[1m11s\u001b[0m 1ms/step - loss: 2.1573 - mae: 1.1771 - val_loss: 2.1765 - val_mae: 1.1878\n",
      "Epoch 26/50\n",
      "\u001b[1m7309/7309\u001b[0m \u001b[32m━━━━━━━━━━━━━━━━━━━━\u001b[0m\u001b[37m\u001b[0m \u001b[1m11s\u001b[0m 2ms/step - loss: 2.1543 - mae: 1.1763 - val_loss: 2.1649 - val_mae: 1.1797\n",
      "Epoch 27/50\n",
      "\u001b[1m7309/7309\u001b[0m \u001b[32m━━━━━━━━━━━━━━━━━━━━\u001b[0m\u001b[37m\u001b[0m \u001b[1m11s\u001b[0m 1ms/step - loss: 2.1533 - mae: 1.1757 - val_loss: 2.1667 - val_mae: 1.1805\n",
      "Epoch 28/50\n",
      "\u001b[1m7309/7309\u001b[0m \u001b[32m━━━━━━━━━━━━━━━━━━━━\u001b[0m\u001b[37m\u001b[0m \u001b[1m11s\u001b[0m 1ms/step - loss: 2.1517 - mae: 1.1751 - val_loss: 2.1572 - val_mae: 1.1786\n",
      "Epoch 29/50\n",
      "\u001b[1m7309/7309\u001b[0m \u001b[32m━━━━━━━━━━━━━━━━━━━━\u001b[0m\u001b[37m\u001b[0m \u001b[1m11s\u001b[0m 1ms/step - loss: 2.1496 - mae: 1.1746 - val_loss: 2.1598 - val_mae: 1.1769\n",
      "Epoch 30/50\n",
      "\u001b[1m7309/7309\u001b[0m \u001b[32m━━━━━━━━━━━━━━━━━━━━\u001b[0m\u001b[37m\u001b[0m \u001b[1m11s\u001b[0m 1ms/step - loss: 2.1480 - mae: 1.1740 - val_loss: 2.1577 - val_mae: 1.1766\n",
      "Epoch 31/50\n",
      "\u001b[1m7309/7309\u001b[0m \u001b[32m━━━━━━━━━━━━━━━━━━━━\u001b[0m\u001b[37m\u001b[0m \u001b[1m11s\u001b[0m 1ms/step - loss: 2.1467 - mae: 1.1736 - val_loss: 2.1603 - val_mae: 1.1789\n",
      "Epoch 32/50\n",
      "\u001b[1m7309/7309\u001b[0m \u001b[32m━━━━━━━━━━━━━━━━━━━━\u001b[0m\u001b[37m\u001b[0m \u001b[1m11s\u001b[0m 1ms/step - loss: 2.1457 - mae: 1.1732 - val_loss: 2.1549 - val_mae: 1.1771\n",
      "Epoch 33/50\n",
      "\u001b[1m7309/7309\u001b[0m \u001b[32m━━━━━━━━━━━━━━━━━━━━\u001b[0m\u001b[37m\u001b[0m \u001b[1m11s\u001b[0m 1ms/step - loss: 2.1438 - mae: 1.1726 - val_loss: 2.1504 - val_mae: 1.1754\n",
      "Epoch 34/50\n",
      "\u001b[1m7309/7309\u001b[0m \u001b[32m━━━━━━━━━━━━━━━━━━━━\u001b[0m\u001b[37m\u001b[0m \u001b[1m11s\u001b[0m 2ms/step - loss: 2.1412 - mae: 1.1717 - val_loss: 2.1500 - val_mae: 1.1735\n",
      "Epoch 35/50\n",
      "\u001b[1m7309/7309\u001b[0m \u001b[32m━━━━━━━━━━━━━━━━━━━━\u001b[0m\u001b[37m\u001b[0m \u001b[1m11s\u001b[0m 1ms/step - loss: 2.1413 - mae: 1.1718 - val_loss: 2.1491 - val_mae: 1.1737\n",
      "Epoch 36/50\n",
      "\u001b[1m7309/7309\u001b[0m \u001b[32m━━━━━━━━━━━━━━━━━━━━\u001b[0m\u001b[37m\u001b[0m \u001b[1m11s\u001b[0m 1ms/step - loss: 2.1393 - mae: 1.1712 - val_loss: 2.1433 - val_mae: 1.1713\n",
      "Epoch 37/50\n",
      "\u001b[1m7309/7309\u001b[0m \u001b[32m━━━━━━━━━━━━━━━━━━━━\u001b[0m\u001b[37m\u001b[0m \u001b[1m11s\u001b[0m 2ms/step - loss: 2.1381 - mae: 1.1705 - val_loss: 2.1579 - val_mae: 1.1764\n",
      "Epoch 38/50\n",
      "\u001b[1m7309/7309\u001b[0m \u001b[32m━━━━━━━━━━━━━━━━━━━━\u001b[0m\u001b[37m\u001b[0m \u001b[1m11s\u001b[0m 1ms/step - loss: 2.1362 - mae: 1.1701 - val_loss: 2.1535 - val_mae: 1.1762\n",
      "Epoch 39/50\n",
      "\u001b[1m7309/7309\u001b[0m \u001b[32m━━━━━━━━━━━━━━━━━━━━\u001b[0m\u001b[37m\u001b[0m \u001b[1m11s\u001b[0m 1ms/step - loss: 2.1353 - mae: 1.1699 - val_loss: 2.1430 - val_mae: 1.1714\n",
      "Epoch 40/50\n",
      "\u001b[1m7309/7309\u001b[0m \u001b[32m━━━━━━━━━━━━━━━━━━━━\u001b[0m\u001b[37m\u001b[0m \u001b[1m11s\u001b[0m 1ms/step - loss: 2.1338 - mae: 1.1692 - val_loss: 2.1547 - val_mae: 1.1723\n",
      "Epoch 41/50\n",
      "\u001b[1m7309/7309\u001b[0m \u001b[32m━━━━━━━━━━━━━━━━━━━━\u001b[0m\u001b[37m\u001b[0m \u001b[1m11s\u001b[0m 1ms/step - loss: 2.1312 - mae: 1.1688 - val_loss: 2.1543 - val_mae: 1.1744\n",
      "Epoch 42/50\n",
      "\u001b[1m7309/7309\u001b[0m \u001b[32m━━━━━━━━━━━━━━━━━━━━\u001b[0m\u001b[37m\u001b[0m \u001b[1m11s\u001b[0m 1ms/step - loss: 2.1332 - mae: 1.1691 - val_loss: 2.1492 - val_mae: 1.1728\n",
      "Epoch 43/50\n",
      "\u001b[1m7309/7309\u001b[0m \u001b[32m━━━━━━━━━━━━━━━━━━━━\u001b[0m\u001b[37m\u001b[0m \u001b[1m11s\u001b[0m 1ms/step - loss: 2.1303 - mae: 1.1681 - val_loss: 2.1456 - val_mae: 1.1720\n",
      "Epoch 44/50\n",
      "\u001b[1m7309/7309\u001b[0m \u001b[32m━━━━━━━━━━━━━━━━━━━━\u001b[0m\u001b[37m\u001b[0m \u001b[1m10s\u001b[0m 1ms/step - loss: 2.1313 - mae: 1.1687 - val_loss: 2.1371 - val_mae: 1.1698\n",
      "Epoch 45/50\n",
      "\u001b[1m7309/7309\u001b[0m \u001b[32m━━━━━━━━━━━━━━━━━━━━\u001b[0m\u001b[37m\u001b[0m \u001b[1m11s\u001b[0m 1ms/step - loss: 2.1279 - mae: 1.1674 - val_loss: 2.1388 - val_mae: 1.1699\n",
      "Epoch 46/50\n",
      "\u001b[1m7309/7309\u001b[0m \u001b[32m━━━━━━━━━━━━━━━━━━━━\u001b[0m\u001b[37m\u001b[0m \u001b[1m11s\u001b[0m 1ms/step - loss: 2.1266 - mae: 1.1670 - val_loss: 2.1420 - val_mae: 1.1749\n",
      "Epoch 47/50\n",
      "\u001b[1m7309/7309\u001b[0m \u001b[32m━━━━━━━━━━━━━━━━━━━━\u001b[0m\u001b[37m\u001b[0m \u001b[1m10s\u001b[0m 1ms/step - loss: 2.1273 - mae: 1.1672 - val_loss: 2.1357 - val_mae: 1.1688\n",
      "Epoch 48/50\n",
      "\u001b[1m7309/7309\u001b[0m \u001b[32m━━━━━━━━━━━━━━━━━━━━\u001b[0m\u001b[37m\u001b[0m \u001b[1m10s\u001b[0m 1ms/step - loss: 2.1270 - mae: 1.1671 - val_loss: 2.1354 - val_mae: 1.1689\n",
      "Epoch 49/50\n",
      "\u001b[1m7309/7309\u001b[0m \u001b[32m━━━━━━━━━━━━━━━━━━━━\u001b[0m\u001b[37m\u001b[0m \u001b[1m11s\u001b[0m 1ms/step - loss: 2.1240 - mae: 1.1662 - val_loss: 2.1364 - val_mae: 1.1686\n",
      "Epoch 50/50\n",
      "\u001b[1m7309/7309\u001b[0m \u001b[32m━━━━━━━━━━━━━━━━━━━━\u001b[0m\u001b[37m\u001b[0m \u001b[1m11s\u001b[0m 1ms/step - loss: 2.1238 - mae: 1.1661 - val_loss: 2.1323 - val_mae: 1.1683\n",
      "\u001b[1m77959/77959\u001b[0m \u001b[32m━━━━━━━━━━━━━━━━━━━━\u001b[0m\u001b[37m\u001b[0m \u001b[1m48s\u001b[0m 600us/step - loss: 2.1317 - mae: 1.1681\n",
      "Test Loss: 2.131094455718994, Test MAE: 1.1676280498504639\n"
     ]
    }
   ],
   "source": [
    "tensorboard_callback = tf.keras.callbacks.TensorBoard(log_dir=\"logs\")\n",
    "# Train the model\n",
    "with tf.device('/GPU:0'):\n",
    "    history = model.fit(\n",
    "                        # dataset,\n",
    "                        X_train, y_train, \n",
    "                        epochs=50, \n",
    "                        batch_size=1024, \n",
    "                        validation_data=(X_val, y_val),\n",
    "                        callbacks=[tensorboard_callback, tf.keras.callbacks.EarlyStopping(monitor='val_loss', patience=10)])\n",
    "\n",
    "    # Evaluate the model on test data\n",
    "    test_loss, test_mae = model.evaluate(X_test, y_test)\n",
    "    print(f\"Test Loss: {test_loss}, Test MAE: {test_mae}\")\n"
   ]
  },
  {
   "cell_type": "code",
   "execution_count": 21,
   "metadata": {},
   "outputs": [
    {
     "data": {
      "image/png": "[encoded data removed]",
      "text/plain": [
       "<Figure size 640x480 with 1 Axes>"
      ]
     },
     "metadata": {},
     "output_type": "display_data"
    }
   ],
   "source": [
    "# Plot training & validation loss\n",
    "plt.plot(history.history['loss'], label='Train Loss')\n",
    "plt.plot(history.history['val_loss'], label='Validation Loss')\n",
    "plt.title('Model Loss Over Epochs')\n",
    "plt.xlabel('Epochs')\n",
    "plt.ylabel('Loss')\n",
    "plt.legend()\n",
    "plt.show()\n"
   ]
  },
  {
   "cell_type": "code",
   "execution_count": 22,
   "metadata": {},
   "outputs": [
    {
     "name": "stdout",
     "output_type": "stream",
     "text": [
      "\u001b[1m77959/77959\u001b[0m \u001b[32m━━━━━━━━━━━━━━━━━━━━\u001b[0m\u001b[37m\u001b[0m \u001b[1m45s\u001b[0m 567us/step\n"
     ]
    }
   ],
   "source": [
    "# After training your model\n",
    "y_pred = model.predict(X_test)"
   ]
  },
  {
   "cell_type": "code",
   "execution_count": 23,
   "metadata": {},
   "outputs": [],
   "source": [
    "# Convert y_test to NumPy array with float64 data type\n",
    "y_test_np = y_test.to_numpy(dtype=np.float64)\n",
    "\n",
    "# Ensure y_pred is a NumPy array with float64 data type\n",
    "y_pred_np = np.array(y_pred, dtype=np.float64)"
   ]
  },
  {
   "cell_type": "code",
   "execution_count": 24,
   "metadata": {},
   "outputs": [
    {
     "name": "stdout",
     "output_type": "stream",
     "text": [
      "Mean Relative Error for coord1: 0.2084\n",
      "Mean Relative Error for coord2: 0.2170\n"
     ]
    }
   ],
   "source": [
    "# Assuming y_test and y_pred are NumPy arrays\n",
    "absolute_errors = np.abs(y_test_np - y_pred_np)\n",
    "coordinate_ranges = np.ptp(y_test_np, axis=0)  # Peak to peak (max - min) along each coordinate\n",
    "\n",
    "# Avoid division by zero\n",
    "coordinate_ranges[coordinate_ranges == 0] = 1\n",
    "\n",
    "relative_errors = absolute_errors / coordinate_ranges\n",
    "mean_relative_error = np.mean(relative_errors, axis=0)\n",
    "\n",
    "print(f\"Mean Relative Error for coord1: {mean_relative_error[0]:.4f}\")\n",
    "print(f\"Mean Relative Error for coord2: {mean_relative_error[1]:.4f}\")\n"
   ]
  },
  {
   "cell_type": "code",
   "execution_count": 25,
   "metadata": {},
   "outputs": [
    {
     "name": "stdout",
     "output_type": "stream",
     "text": [
      "Spearman's Rank Correlation for coord1: 0.5771\n",
      "Spearman's Rank Correlation for coord2: 0.3297\n"
     ]
    }
   ],
   "source": [
    "from scipy.stats import spearmanr\n",
    "\n",
    "rho_coord1, _ = spearmanr(y_test_np[:, 0], y_pred_np[:, 0])\n",
    "rho_coord2, _ = spearmanr(y_test_np[:, 1], y_pred_np[:, 1])\n",
    "\n",
    "print(f\"Spearman's Rank Correlation for coord1: {rho_coord1:.4f}\")\n",
    "print(f\"Spearman's Rank Correlation for coord2: {rho_coord2:.4f}\")\n"
   ]
  },
  {
   "cell_type": "code",
   "execution_count": 26,
   "metadata": {},
   "outputs": [],
   "source": [
    "# Create a mapping from coordinate pairs to class labels\n",
    "unique_coords = np.unique(y_test_np, axis=0)\n",
    "coord_to_label = {tuple(coord): idx for idx, coord in enumerate(unique_coords)}\n",
    "\n",
    "# Convert coordinates to labels\n",
    "y_test_labels = np.array([coord_to_label[tuple(coord)] for coord in y_test_np])\n",
    "y_pred_labels = np.array([coord_to_label.get(tuple(coord), -1) for coord in y_pred_np])  # Use -1 for unknowns\n"
   ]
  },
  {
   "cell_type": "code",
   "execution_count": 27,
   "metadata": {},
   "outputs": [],
   "source": [
    "# from sklearn.metrics import accuracy_score, confusion_matrix\n",
    "\n",
    "# # Filter out predictions that don't map to a valid label\n",
    "# valid_indices = y_pred_labels != -1\n",
    "# accuracy = accuracy_score(y_test_labels[valid_indices], y_pred_labels[valid_indices])\n",
    "# print(f\"Classification Accuracy: {accuracy:.4f}\")\n"
   ]
  },
  {
   "cell_type": "code",
   "execution_count": 28,
   "metadata": {},
   "outputs": [],
   "source": [
    "# import matplotlib.pyplot as plt\n",
    "# from sklearn.metrics import ConfusionMatrixDisplay\n",
    "\n",
    "# cm = confusion_matrix(y_test_labels[valid_indices], y_pred_labels[valid_indices])\n",
    "# disp = ConfusionMatrixDisplay(confusion_matrix=cm)\n",
    "# disp.plot(cmap='Blues')\n",
    "# plt.title('Confusion Matrix of Predicted vs Actual Classes')\n",
    "# plt.show()"
   ]
  },
  {
   "cell_type": "code",
   "execution_count": 29,
   "metadata": {},
   "outputs": [
    {
     "name": "stdout",
     "output_type": "stream",
     "text": [
      "MSE on Standardized Coordinates: 0.7045\n"
     ]
    }
   ],
   "source": [
    "from sklearn.preprocessing import StandardScaler\n",
    "\n",
    "scaler = StandardScaler()\n",
    "y_test_scaled = scaler.fit_transform(y_test_np)\n",
    "y_pred_scaled = scaler.transform(y_pred_np)\n",
    "\n",
    "# Compute Mean Squared Error on standardized data\n",
    "from sklearn.metrics import mean_squared_error\n",
    "\n",
    "mse_scaled = mean_squared_error(y_test_scaled, y_pred_scaled)\n",
    "print(f\"MSE on Standardized Coordinates: {mse_scaled:.4f}\")\n"
   ]
  },
  {
   "cell_type": "code",
   "execution_count": 30,
   "metadata": {},
   "outputs": [
    {
     "name": "stdout",
     "output_type": "stream",
     "text": [
      "Accuracy within tolerance 1: 0.2645\n",
      "Accuracy within tolerance 0.5: 0.1019\n",
      "Accuracy within tolerance 0.1: 0.0084\n"
     ]
    }
   ],
   "source": [
    "def custom_accuracy(y_true, y_pred, tolerance):\n",
    "    # Count predictions within a certain tolerance\n",
    "    correct_predictions = np.all(np.abs(y_true - y_pred) <= tolerance, axis=1)\n",
    "    accuracy = np.mean(correct_predictions)\n",
    "    return accuracy\n",
    "\n",
    "tolerances = [1, 0.5, 0.1]  # Adjust based on your coordinate system\n",
    "\n",
    "for tolerance in tolerances:\n",
    "    accuracy = custom_accuracy(y_test_np, y_pred_np, tolerance)\n",
    "    print(f\"Accuracy within tolerance {tolerance}: {accuracy:.4f}\")\n",
    "\n",
    "accuracy = custom_accuracy(y_test_np, y_pred_np, 1)"
   ]
  },
  {
   "cell_type": "code",
   "execution_count": 31,
   "metadata": {},
   "outputs": [
    {
     "name": "stderr",
     "output_type": "stream",
     "text": [
      "/home/alan-xie/Documents/Thesis/wifi_localization/.venv/lib/python3.10/site-packages/IPython/core/pylabtools.py:170: UserWarning: Creating legend with loc=\"best\" can be slow with large amounts of data.\n",
      "  fig.canvas.print_figure(bytes_io, **kw)\n"
     ]
    },
    {
     "data": {
      "image/png": "[encoded data removed]",
      "text/plain": [
       "<Figure size 800x600 with 1 Axes>"
      ]
     },
     "metadata": {},
     "output_type": "display_data"
    }
   ],
   "source": [
    "import matplotlib.pyplot as plt\n",
    "\n",
    "plt.figure(figsize=(8, 6))\n",
    "plt.scatter(y_test_np[:, 0], y_test_np[:, 1], label='Actual', alpha=0.6)\n",
    "plt.scatter(y_pred_np[:, 0], y_pred_np[:, 1], label='Predicted', alpha=0.6)\n",
    "plt.xlabel('Coordinate 1')\n",
    "plt.ylabel('Coordinate 2')\n",
    "plt.title('Actual vs Predicted Coordinates')\n",
    "plt.legend()\n",
    "plt.grid(True)\n",
    "plt.show()\n"
   ]
  },
  {
   "cell_type": "code",
   "execution_count": 32,
   "metadata": {},
   "outputs": [],
   "source": [
    "now = datetime.datetime.now()\n",
    "date_time = now.strftime(\"%m-%d-%H-%M\")\n",
    "\n",
    "model.save(f\"./models/{date_time}-{model_type}-{accuracy:.2f}.keras\")"
   ]
  }
 ],
 "metadata": {
  "kernelspec": {
   "display_name": "Python 3",
   "language": "python",
   "name": "python3"
  },
  "language_info": {
   "codemirror_mode": {
    "name": "ipython",
    "version": 3
   },
   "file_extension": ".py",
   "mimetype": "text/x-python",
   "name": "python",
   "nbconvert_exporter": "python",
   "pygments_lexer": "ipython3",
   "version": "3.10.15"
  }
 },
 "nbformat": 4,
 "nbformat_minor": 2
}
