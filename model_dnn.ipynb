version https://git-lfs.github.com/spec/v1
oid sha256:09135368ba60ee009c3878dfe832290d3de5842653253c8f8b7c8a38a5cc17c0
size 239065
