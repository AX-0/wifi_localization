{
 "cells": [
  {
   "cell_type": "code",
   "execution_count": 76,
   "metadata": {},
   "outputs": [],
   "source": [
    "from sklearn.preprocessing import StandardScaler\n",
    "import pandas as pd\n",
    "import tensorflow as tf\n",
    "from tensorflow.keras import layers, models\n",
    "import matplotlib.pyplot as plt\n",
    "from sklearn.model_selection import train_test_split\n",
    "import numpy as np\n",
    "from sklearn.metrics import mean_squared_error\n",
    "from sklearn.metrics import r2_score\n",
    "import seaborn as sns\n",
    "import datetime\n",
    "import math\n",
    "from sklearn.cluster import DBSCAN\n",
    "import hdbscan\n",
    "from sklearn.neighbors import NearestNeighbors\n",
    "from sklearn.metrics import mean_absolute_error\n",
    "from sklearn.metrics import median_absolute_error\n",
    "from sklearn.decomposition import PCA"
   ]
  },
  {
   "cell_type": "code",
   "execution_count": 77,
   "metadata": {},
   "outputs": [],
   "source": [
    "from tensorflow.keras import mixed_precision\n",
    "\n",
    "# # Set the global policy to mixed precision\n",
    "# policy = mixed_precision.Policy('mixed_float16')\n",
    "# mixed_precision.set_global_policy(policy)\n",
    "\n",
    "physical_devices = tf.config.list_physical_devices('GPU')\n",
    "tf.config.experimental.set_memory_growth(physical_devices[0], True)"
   ]
  },
  {
   "cell_type": "code",
   "execution_count": 78,
   "metadata": {},
   "outputs": [],
   "source": [
    "# import os\n",
    "\n",
    "# # Set the environment variable\n",
    "# os.environ['TF_GPU_ALLOCATOR'] = 'cuda_malloc_async'"
   ]
  },
  {
   "cell_type": "code",
   "execution_count": 79,
   "metadata": {},
   "outputs": [
    {
     "name": "stdout",
     "output_type": "stream",
     "text": [
      "Num GPUs Available:  1\n"
     ]
    }
   ],
   "source": [
    "print(\"Num GPUs Available: \", len(tf.config.list_physical_devices('GPU')))"
   ]
  },
  {
   "cell_type": "code",
   "execution_count": 80,
   "metadata": {},
   "outputs": [
    {
     "name": "stdout",
     "output_type": "stream",
     "text": [
      "['/device:CPU:0', '/device:GPU:0']\n"
     ]
    },
    {
     "name": "stderr",
     "output_type": "stream",
     "text": [
      "I0000 00:00:1729082611.224236    9604 cuda_executor.cc:1015] successful NUMA node read from SysFS had negative value (-1), but there must be at least one NUMA node, so returning NUMA node zero. See more at https://github.com/torvalds/linux/blob/v6.0/Documentation/ABI/testing/sysfs-bus-pci#L344-L355\n",
      "I0000 00:00:1729082611.225455    9604 cuda_executor.cc:1015] successful NUMA node read from SysFS had negative value (-1), but there must be at least one NUMA node, so returning NUMA node zero. See more at https://github.com/torvalds/linux/blob/v6.0/Documentation/ABI/testing/sysfs-bus-pci#L344-L355\n",
      "I0000 00:00:1729082611.226631    9604 cuda_executor.cc:1015] successful NUMA node read from SysFS had negative value (-1), but there must be at least one NUMA node, so returning NUMA node zero. See more at https://github.com/torvalds/linux/blob/v6.0/Documentation/ABI/testing/sysfs-bus-pci#L344-L355\n",
      "I0000 00:00:1729082611.228185    9604 cuda_executor.cc:1015] successful NUMA node read from SysFS had negative value (-1), but there must be at least one NUMA node, so returning NUMA node zero. See more at https://github.com/torvalds/linux/blob/v6.0/Documentation/ABI/testing/sysfs-bus-pci#L344-L355\n",
      "I0000 00:00:1729082611.229797    9604 cuda_executor.cc:1015] successful NUMA node read from SysFS had negative value (-1), but there must be at least one NUMA node, so returning NUMA node zero. See more at https://github.com/torvalds/linux/blob/v6.0/Documentation/ABI/testing/sysfs-bus-pci#L344-L355\n",
      "2024-10-16 23:43:31.231009: I tensorflow/core/common_runtime/gpu/gpu_device.cc:2021] Created device /device:GPU:0 with 5496 MB memory:  -> device: 0, name: NVIDIA GeForce RTX 3070 Ti, pci bus id: 0000:01:00.0, compute capability: 8.6\n"
     ]
    }
   ],
   "source": [
    "from tensorflow.python.client import device_lib\n",
    "\n",
    "def get_available_devices():\n",
    "    local_device_protos = device_lib.list_local_devices()\n",
    "    return [x.name for x in local_device_protos]\n",
    "\n",
    "print(get_available_devices())"
   ]
  },
  {
   "cell_type": "code",
   "execution_count": 81,
   "metadata": {},
   "outputs": [
    {
     "data": {
      "text/html": [
       "<div>\n",
       "<style scoped>\n",
       "    .dataframe tbody tr th:only-of-type {\n",
       "        vertical-align: middle;\n",
       "    }\n",
       "\n",
       "    .dataframe tbody tr th {\n",
       "        vertical-align: top;\n",
       "    }\n",
       "\n",
       "    .dataframe thead th {\n",
       "        text-align: right;\n",
       "    }\n",
       "</style>\n",
       "<table border=\"1\" class=\"dataframe\">\n",
       "  <thead>\n",
       "    <tr style=\"text-align: right;\">\n",
       "      <th></th>\n",
       "      <th>timestamps</th>\n",
       "      <th>csi_len</th>\n",
       "      <th>channel</th>\n",
       "      <th>err_info</th>\n",
       "      <th>noise_floor</th>\n",
       "      <th>rate</th>\n",
       "      <th>bandWidth</th>\n",
       "      <th>num_tones</th>\n",
       "      <th>nr</th>\n",
       "      <th>nc</th>\n",
       "      <th>...</th>\n",
       "      <th>subcarriers</th>\n",
       "      <th>ant1_amplitude</th>\n",
       "      <th>ant2_amplitude</th>\n",
       "      <th>ant1_phase</th>\n",
       "      <th>ant2_phase</th>\n",
       "      <th>with_receiver</th>\n",
       "      <th>coord1</th>\n",
       "      <th>coord2</th>\n",
       "      <th>ant1_amplitude_cluster</th>\n",
       "      <th>ant2_amplitude_cluster</th>\n",
       "    </tr>\n",
       "  </thead>\n",
       "  <tbody>\n",
       "    <tr>\n",
       "      <th>0</th>\n",
       "      <td>3689776957</td>\n",
       "      <td>280</td>\n",
       "      <td>2437</td>\n",
       "      <td>0</td>\n",
       "      <td>0</td>\n",
       "      <td>135</td>\n",
       "      <td>0</td>\n",
       "      <td>56</td>\n",
       "      <td>2</td>\n",
       "      <td>1</td>\n",
       "      <td>...</td>\n",
       "      <td>1</td>\n",
       "      <td>0.003257</td>\n",
       "      <td>0.735746</td>\n",
       "      <td>0.704058</td>\n",
       "      <td>0.912444</td>\n",
       "      <td>0</td>\n",
       "      <td>5</td>\n",
       "      <td>3</td>\n",
       "      <td>0.0</td>\n",
       "      <td>1.0</td>\n",
       "    </tr>\n",
       "    <tr>\n",
       "      <th>1</th>\n",
       "      <td>3689776957</td>\n",
       "      <td>280</td>\n",
       "      <td>2437</td>\n",
       "      <td>0</td>\n",
       "      <td>0</td>\n",
       "      <td>135</td>\n",
       "      <td>0</td>\n",
       "      <td>56</td>\n",
       "      <td>2</td>\n",
       "      <td>1</td>\n",
       "      <td>...</td>\n",
       "      <td>2</td>\n",
       "      <td>-0.038335</td>\n",
       "      <td>0.813530</td>\n",
       "      <td>0.681169</td>\n",
       "      <td>0.885140</td>\n",
       "      <td>0</td>\n",
       "      <td>5</td>\n",
       "      <td>3</td>\n",
       "      <td>0.0</td>\n",
       "      <td>1.0</td>\n",
       "    </tr>\n",
       "    <tr>\n",
       "      <th>2</th>\n",
       "      <td>3689776957</td>\n",
       "      <td>280</td>\n",
       "      <td>2437</td>\n",
       "      <td>0</td>\n",
       "      <td>0</td>\n",
       "      <td>135</td>\n",
       "      <td>0</td>\n",
       "      <td>56</td>\n",
       "      <td>2</td>\n",
       "      <td>1</td>\n",
       "      <td>...</td>\n",
       "      <td>3</td>\n",
       "      <td>-0.053136</td>\n",
       "      <td>1.063410</td>\n",
       "      <td>0.656483</td>\n",
       "      <td>0.853598</td>\n",
       "      <td>0</td>\n",
       "      <td>5</td>\n",
       "      <td>3</td>\n",
       "      <td>0.0</td>\n",
       "      <td>1.0</td>\n",
       "    </tr>\n",
       "    <tr>\n",
       "      <th>3</th>\n",
       "      <td>3689776957</td>\n",
       "      <td>280</td>\n",
       "      <td>2437</td>\n",
       "      <td>0</td>\n",
       "      <td>0</td>\n",
       "      <td>135</td>\n",
       "      <td>0</td>\n",
       "      <td>56</td>\n",
       "      <td>2</td>\n",
       "      <td>1</td>\n",
       "      <td>...</td>\n",
       "      <td>5</td>\n",
       "      <td>-0.105276</td>\n",
       "      <td>0.884010</td>\n",
       "      <td>0.632759</td>\n",
       "      <td>0.841939</td>\n",
       "      <td>0</td>\n",
       "      <td>5</td>\n",
       "      <td>3</td>\n",
       "      <td>0.0</td>\n",
       "      <td>1.0</td>\n",
       "    </tr>\n",
       "    <tr>\n",
       "      <th>4</th>\n",
       "      <td>3689776957</td>\n",
       "      <td>280</td>\n",
       "      <td>2437</td>\n",
       "      <td>0</td>\n",
       "      <td>0</td>\n",
       "      <td>135</td>\n",
       "      <td>0</td>\n",
       "      <td>56</td>\n",
       "      <td>2</td>\n",
       "      <td>1</td>\n",
       "      <td>...</td>\n",
       "      <td>6</td>\n",
       "      <td>-0.197311</td>\n",
       "      <td>0.933567</td>\n",
       "      <td>0.602048</td>\n",
       "      <td>0.820009</td>\n",
       "      <td>0</td>\n",
       "      <td>5</td>\n",
       "      <td>3</td>\n",
       "      <td>0.0</td>\n",
       "      <td>1.0</td>\n",
       "    </tr>\n",
       "  </tbody>\n",
       "</table>\n",
       "<p>5 rows × 26 columns</p>\n",
       "</div>"
      ],
      "text/plain": [
       "   timestamps  csi_len  channel  err_info  noise_floor  rate  bandWidth  \\\n",
       "0  3689776957      280     2437         0            0   135          0   \n",
       "1  3689776957      280     2437         0            0   135          0   \n",
       "2  3689776957      280     2437         0            0   135          0   \n",
       "3  3689776957      280     2437         0            0   135          0   \n",
       "4  3689776957      280     2437         0            0   135          0   \n",
       "\n",
       "   num_tones  nr  nc  ...  subcarriers  ant1_amplitude  ant2_amplitude  \\\n",
       "0         56   2   1  ...            1        0.003257        0.735746   \n",
       "1         56   2   1  ...            2       -0.038335        0.813530   \n",
       "2         56   2   1  ...            3       -0.053136        1.063410   \n",
       "3         56   2   1  ...            5       -0.105276        0.884010   \n",
       "4         56   2   1  ...            6       -0.197311        0.933567   \n",
       "\n",
       "   ant1_phase  ant2_phase  with_receiver  coord1  coord2  \\\n",
       "0    0.704058    0.912444              0       5       3   \n",
       "1    0.681169    0.885140              0       5       3   \n",
       "2    0.656483    0.853598              0       5       3   \n",
       "3    0.632759    0.841939              0       5       3   \n",
       "4    0.602048    0.820009              0       5       3   \n",
       "\n",
       "   ant1_amplitude_cluster  ant2_amplitude_cluster  \n",
       "0                     0.0                     1.0  \n",
       "1                     0.0                     1.0  \n",
       "2                     0.0                     1.0  \n",
       "3                     0.0                     1.0  \n",
       "4                     0.0                     1.0  \n",
       "\n",
       "[5 rows x 26 columns]"
      ]
     },
     "execution_count": 81,
     "metadata": {},
     "output_type": "execute_result"
    }
   ],
   "source": [
    "# data = pd.read_csv(\"C:\\Users\\alanx\\OneDrive - The University of Sydney (Students)\\Thesis\\Deep Learning\\wifi_localization\\data\\csv\\ultimate_combined.csv\")\n",
    "# data = pd.read_csv(\"data/csv/ultimate_combined.csv\")\n",
    "data = pd.read_csv(\"data/csv/still/still.csv\")\n",
    "# data = pd.read_csv(\"data/csv/still_with_receiver/still_with_receiver.csv\")\n",
    "\n",
    "data.head()"
   ]
  },
  {
   "cell_type": "code",
   "execution_count": 82,
   "metadata": {},
   "outputs": [],
   "source": [
    "# data.drop('with_receiver', axis=1, inplace=True)\n",
    "# data.drop('nc', axis=1, inplace=True)\n",
    "# data.drop('ant1_phase', axis=1, inplace=True)\n",
    "# data.drop('ant2_phase', axis=1, inplace=True)"
   ]
  },
  {
   "cell_type": "code",
   "execution_count": 83,
   "metadata": {},
   "outputs": [],
   "source": [
    "# data = pd.concat([data, pd.get_dummies(data['subcarriers'], prefix='subcarrier')], axis=1)\n",
    "# data.drop('subcarriers', axis=1, inplace=True)\n",
    "# data.head()"
   ]
  },
  {
   "cell_type": "code",
   "execution_count": 84,
   "metadata": {},
   "outputs": [],
   "source": [
    "features = data.columns\n",
    "X = data[features].drop(columns=['coord1', 'coord2'])\n",
    "y = data[['coord1', 'coord2']]\n",
    "\n",
    "scaler = StandardScaler()\n",
    "X_scaled = scaler.fit_transform(X)"
   ]
  },
  {
   "cell_type": "code",
   "execution_count": 85,
   "metadata": {},
   "outputs": [
    {
     "name": "stdout",
     "output_type": "stream",
     "text": [
      "PCA with 0 components, sum is 0.\n",
      "PCA with 1 components, sum is 0.4121608089138585.\n",
      "PCA with 2 components, sum is 0.5026862033398102.\n",
      "PCA with 3 components, sum is 0.5639601695714305.\n",
      "PCA with 4 components, sum is 0.6224068671168601.\n",
      "PCA with 5 components, sum is 0.6792014422422445.\n",
      "PCA with 6 components, sum is 0.7347482266019113.\n",
      "PCA with 7 components, sum is 0.7902723257602985.\n",
      "PCA with 8 components, sum is 0.845444833384884.\n",
      "PCA with 9 components, sum is 0.8955181192670213.\n"
     ]
    }
   ],
   "source": [
    "for i in range(1, X.shape[0]):\n",
    "    pca = PCA(n_components=i)\n",
    "    X_pca = pca.fit_transform(X_scaled)\n",
    "    explained_variance = pca.explained_variance_ratio_\n",
    "    # print(f'Explained variance by each component: {explained_variance}')\n",
    "    print(f\"PCA with {i} components, sum is {sum(explained_variance)}.\")\n",
    "    \n",
    "    if (sum(explained_variance) >= 0.85):\n",
    "        break"
   ]
  },
  {
   "cell_type": "code",
   "execution_count": 86,
   "metadata": {},
   "outputs": [],
   "source": [
    "X = pca.fit_transform(X_scaled)"
   ]
  },
  {
   "cell_type": "markdown",
   "metadata": {},
   "source": [
    "# Model"
   ]
  },
  {
   "cell_type": "code",
   "execution_count": 87,
   "metadata": {},
   "outputs": [],
   "source": [
    "model_type = \"dnn\""
   ]
  },
  {
   "cell_type": "code",
   "execution_count": 88,
   "metadata": {},
   "outputs": [],
   "source": [
    "# X = data.drop(columns=['coord1', 'coord2']) \n",
    "# y = data[['coord1', 'coord2']]\n",
    "\n",
    "# X = X.values.astype(np.float32)\n",
    "# y = y.values.astype(np.float32)"
   ]
  },
  {
   "cell_type": "code",
   "execution_count": 89,
   "metadata": {},
   "outputs": [],
   "source": [
    "# np.save('preprocessed_X.npy', X)\n",
    "# np.save('preprocessed_y.npy', y)"
   ]
  },
  {
   "cell_type": "code",
   "execution_count": 90,
   "metadata": {},
   "outputs": [],
   "source": [
    "# X = np.load('preprocessed_X.npy')\n",
    "# y = np.load('preprocessed_y.npy')"
   ]
  },
  {
   "cell_type": "code",
   "execution_count": 91,
   "metadata": {},
   "outputs": [],
   "source": [
    "# dataset = tf.data.Dataset.from_tensor_slices((X, y))\n",
    "\n",
    "# batch_size = 128  # Adjust based on your GPU memory\n",
    "\n",
    "# dataset = dataset.shuffle(buffer_size=10000)\n",
    "# dataset = dataset.batch(batch_size)\n",
    "# dataset = dataset.prefetch(tf.data.AUTOTUNE)"
   ]
  },
  {
   "cell_type": "code",
   "execution_count": 92,
   "metadata": {},
   "outputs": [
    {
     "name": "stdout",
     "output_type": "stream",
     "text": [
      "Training set shape: (5235678, 9)\n",
      "Validation set shape: (1745226, 9)\n",
      "Test set shape: (1745226, 9)\n"
     ]
    }
   ],
   "source": [
    "# First, split the data into training and a temporary set (which will later be split into validation and test sets)\n",
    "X_train, X_temp, y_train, y_temp = train_test_split(X, y, test_size=0.4, random_state=42)  # 60% train, 40% temp\n",
    "\n",
    "# Now, split the temporary set into validation and test sets\n",
    "X_val, X_test, y_val, y_test = train_test_split(X_temp, y_temp, test_size=0.5, random_state=42)  # 20% val, 20% test\n",
    "\n",
    "# Check the shapes of your splits\n",
    "print(\"Training set shape:\", X_train.shape)\n",
    "print(\"Validation set shape:\", X_val.shape)\n",
    "print(\"Test set shape:\", X_test.shape)"
   ]
  },
  {
   "cell_type": "code",
   "execution_count": 110,
   "metadata": {},
   "outputs": [
    {
     "name": "stderr",
     "output_type": "stream",
     "text": [
      "/home/alan-xie/Documents/Thesis/wifi_localization/.venv/lib/python3.10/site-packages/keras/src/layers/core/input_layer.py:26: UserWarning: Argument `input_shape` is deprecated. Use `shape` instead.\n",
      "  warnings.warn(\n"
     ]
    },
    {
     "data": {
      "text/html": [
       "<pre style=\"white-space:pre;overflow-x:auto;line-height:normal;font-family:Menlo,'DejaVu Sans Mono',consolas,'Courier New',monospace\"><span style=\"font-weight: bold\">Model: \"sequential_4\"</span>\n",
       "</pre>\n"
      ],
      "text/plain": [
       "\u001b[1mModel: \"sequential_4\"\u001b[0m\n"
      ]
     },
     "metadata": {},
     "output_type": "display_data"
    },
    {
     "data": {
      "text/html": [
       "<pre style=\"white-space:pre;overflow-x:auto;line-height:normal;font-family:Menlo,'DejaVu Sans Mono',consolas,'Courier New',monospace\">┏━━━━━━━━━━━━━━━━━━━━━━━━━━━━━━━━━┳━━━━━━━━━━━━━━━━━━━━━━━━┳━━━━━━━━━━━━━━━┓\n",
       "┃<span style=\"font-weight: bold\"> Layer (type)                    </span>┃<span style=\"font-weight: bold\"> Output Shape           </span>┃<span style=\"font-weight: bold\">       Param # </span>┃\n",
       "┡━━━━━━━━━━━━━━━━━━━━━━━━━━━━━━━━━╇━━━━━━━━━━━━━━━━━━━━━━━━╇━━━━━━━━━━━━━━━┩\n",
       "│ dense_19 (<span style=\"color: #0087ff; text-decoration-color: #0087ff\">Dense</span>)                │ (<span style=\"color: #00d7ff; text-decoration-color: #00d7ff\">None</span>, <span style=\"color: #00af00; text-decoration-color: #00af00\">1024</span>)           │        <span style=\"color: #00af00; text-decoration-color: #00af00\">10,240</span> │\n",
       "├─────────────────────────────────┼────────────────────────┼───────────────┤\n",
       "│ dense_20 (<span style=\"color: #0087ff; text-decoration-color: #0087ff\">Dense</span>)                │ (<span style=\"color: #00d7ff; text-decoration-color: #00d7ff\">None</span>, <span style=\"color: #00af00; text-decoration-color: #00af00\">512</span>)            │       <span style=\"color: #00af00; text-decoration-color: #00af00\">524,800</span> │\n",
       "├─────────────────────────────────┼────────────────────────┼───────────────┤\n",
       "│ dense_21 (<span style=\"color: #0087ff; text-decoration-color: #0087ff\">Dense</span>)                │ (<span style=\"color: #00d7ff; text-decoration-color: #00d7ff\">None</span>, <span style=\"color: #00af00; text-decoration-color: #00af00\">1024</span>)           │       <span style=\"color: #00af00; text-decoration-color: #00af00\">525,312</span> │\n",
       "├─────────────────────────────────┼────────────────────────┼───────────────┤\n",
       "│ dense_22 (<span style=\"color: #0087ff; text-decoration-color: #0087ff\">Dense</span>)                │ (<span style=\"color: #00d7ff; text-decoration-color: #00d7ff\">None</span>, <span style=\"color: #00af00; text-decoration-color: #00af00\">512</span>)            │       <span style=\"color: #00af00; text-decoration-color: #00af00\">524,800</span> │\n",
       "├─────────────────────────────────┼────────────────────────┼───────────────┤\n",
       "│ dense_23 (<span style=\"color: #0087ff; text-decoration-color: #0087ff\">Dense</span>)                │ (<span style=\"color: #00d7ff; text-decoration-color: #00d7ff\">None</span>, <span style=\"color: #00af00; text-decoration-color: #00af00\">2</span>)              │         <span style=\"color: #00af00; text-decoration-color: #00af00\">1,026</span> │\n",
       "└─────────────────────────────────┴────────────────────────┴───────────────┘\n",
       "</pre>\n"
      ],
      "text/plain": [
       "┏━━━━━━━━━━━━━━━━━━━━━━━━━━━━━━━━━┳━━━━━━━━━━━━━━━━━━━━━━━━┳━━━━━━━━━━━━━━━┓\n",
       "┃\u001b[1m \u001b[0m\u001b[1mLayer (type)                   \u001b[0m\u001b[1m \u001b[0m┃\u001b[1m \u001b[0m\u001b[1mOutput Shape          \u001b[0m\u001b[1m \u001b[0m┃\u001b[1m \u001b[0m\u001b[1m      Param #\u001b[0m\u001b[1m \u001b[0m┃\n",
       "┡━━━━━━━━━━━━━━━━━━━━━━━━━━━━━━━━━╇━━━━━━━━━━━━━━━━━━━━━━━━╇━━━━━━━━━━━━━━━┩\n",
       "│ dense_19 (\u001b[38;5;33mDense\u001b[0m)                │ (\u001b[38;5;45mNone\u001b[0m, \u001b[38;5;34m1024\u001b[0m)           │        \u001b[38;5;34m10,240\u001b[0m │\n",
       "├─────────────────────────────────┼────────────────────────┼───────────────┤\n",
       "│ dense_20 (\u001b[38;5;33mDense\u001b[0m)                │ (\u001b[38;5;45mNone\u001b[0m, \u001b[38;5;34m512\u001b[0m)            │       \u001b[38;5;34m524,800\u001b[0m │\n",
       "├─────────────────────────────────┼────────────────────────┼───────────────┤\n",
       "│ dense_21 (\u001b[38;5;33mDense\u001b[0m)                │ (\u001b[38;5;45mNone\u001b[0m, \u001b[38;5;34m1024\u001b[0m)           │       \u001b[38;5;34m525,312\u001b[0m │\n",
       "├─────────────────────────────────┼────────────────────────┼───────────────┤\n",
       "│ dense_22 (\u001b[38;5;33mDense\u001b[0m)                │ (\u001b[38;5;45mNone\u001b[0m, \u001b[38;5;34m512\u001b[0m)            │       \u001b[38;5;34m524,800\u001b[0m │\n",
       "├─────────────────────────────────┼────────────────────────┼───────────────┤\n",
       "│ dense_23 (\u001b[38;5;33mDense\u001b[0m)                │ (\u001b[38;5;45mNone\u001b[0m, \u001b[38;5;34m2\u001b[0m)              │         \u001b[38;5;34m1,026\u001b[0m │\n",
       "└─────────────────────────────────┴────────────────────────┴───────────────┘\n"
      ]
     },
     "metadata": {},
     "output_type": "display_data"
    },
    {
     "data": {
      "text/html": [
       "<pre style=\"white-space:pre;overflow-x:auto;line-height:normal;font-family:Menlo,'DejaVu Sans Mono',consolas,'Courier New',monospace\"><span style=\"font-weight: bold\"> Total params: </span><span style=\"color: #00af00; text-decoration-color: #00af00\">1,586,178</span> (6.05 MB)\n",
       "</pre>\n"
      ],
      "text/plain": [
       "\u001b[1m Total params: \u001b[0m\u001b[38;5;34m1,586,178\u001b[0m (6.05 MB)\n"
      ]
     },
     "metadata": {},
     "output_type": "display_data"
    },
    {
     "data": {
      "text/html": [
       "<pre style=\"white-space:pre;overflow-x:auto;line-height:normal;font-family:Menlo,'DejaVu Sans Mono',consolas,'Courier New',monospace\"><span style=\"font-weight: bold\"> Trainable params: </span><span style=\"color: #00af00; text-decoration-color: #00af00\">1,586,178</span> (6.05 MB)\n",
       "</pre>\n"
      ],
      "text/plain": [
       "\u001b[1m Trainable params: \u001b[0m\u001b[38;5;34m1,586,178\u001b[0m (6.05 MB)\n"
      ]
     },
     "metadata": {},
     "output_type": "display_data"
    },
    {
     "data": {
      "text/html": [
       "<pre style=\"white-space:pre;overflow-x:auto;line-height:normal;font-family:Menlo,'DejaVu Sans Mono',consolas,'Courier New',monospace\"><span style=\"font-weight: bold\"> Non-trainable params: </span><span style=\"color: #00af00; text-decoration-color: #00af00\">0</span> (0.00 B)\n",
       "</pre>\n"
      ],
      "text/plain": [
       "\u001b[1m Non-trainable params: \u001b[0m\u001b[38;5;34m0\u001b[0m (0.00 B)\n"
      ]
     },
     "metadata": {},
     "output_type": "display_data"
    }
   ],
   "source": [
    "def create_dnn_model(input_shape):\n",
    "    model = models.Sequential()\n",
    "    model.add(layers.InputLayer(input_shape=input_shape))\n",
    "\n",
    "    # Hidden layers\n",
    "    # model.add(layers.Dense(8192, activation='relu'))\n",
    "    # model.add(layers.Dense(4096, activation='relu'))\n",
    "    # model.add(layers.Dense(2048, activation='relu'))\n",
    "    # model.add(layers.Dense(2048, activation='relu'))\n",
    "    # model.add(layers.Dense(2048, activation='relu'))\n",
    "    model.add(layers.Dense(1024, activation='relu'))\n",
    "    model.add(layers.Dense(512, activation='relu'))\n",
    "    model.add(layers.Dense(1024, activation='relu'))\n",
    "    model.add(layers.Dense(512, activation='relu'))\n",
    "    # model.add(layers.Dense(256, activation='relu'))\n",
    "    # model.add(layers.Dense(128, activation='relu'))\n",
    "    # model.add(layers.Dense(64, activation='relu'))\n",
    "    # model.add(layers.Dense(32, activation='relu'))\n",
    "    # model.add(layers.Dense(16, activation='relu'))\n",
    "\n",
    "    # Output layer\n",
    "    model.add(layers.Dense(2))\n",
    "\n",
    "    # Compile the model\n",
    "    model.compile(optimizer='adam', loss='mse', metrics=['mae'])\n",
    "    return model\n",
    "\n",
    "\n",
    "# Example of creating the model, input_shape should be (number of features,)\n",
    "input_shape = (X_train.shape[1],)  # Adjust based on your number of features\n",
    "model = create_dnn_model(input_shape)\n",
    "\n",
    "# Print the model summary\n",
    "model.summary()"
   ]
  },
  {
   "cell_type": "code",
   "execution_count": 111,
   "metadata": {},
   "outputs": [
    {
     "name": "stdout",
     "output_type": "stream",
     "text": [
      "Epoch 1/15\n"
     ]
    },
    {
     "name": "stderr",
     "output_type": "stream",
     "text": [
      "2024-10-16 23:57:20.112172: I external/local_xla/xla/stream_executor/cuda/cuda_asm_compiler.cc:393] ptxas warning : Registers are spilled to local memory in function 'gemm_fusion_dot_215', 12 bytes spill stores, 12 bytes spill loads\n",
      "\n",
      "2024-10-16 23:57:20.648121: I external/local_xla/xla/stream_executor/cuda/cuda_asm_compiler.cc:393] ptxas warning : Registers are spilled to local memory in function 'gemm_fusion_dot_215', 336 bytes spill stores, 288 bytes spill loads\n",
      "\n",
      "2024-10-16 23:57:21.055998: I external/local_xla/xla/stream_executor/cuda/cuda_asm_compiler.cc:393] ptxas warning : Registers are spilled to local memory in function 'gemm_fusion_dot_215', 184 bytes spill stores, 184 bytes spill loads\n",
      "\n",
      "2024-10-16 23:57:21.276741: I external/local_xla/xla/stream_executor/cuda/cuda_asm_compiler.cc:393] ptxas warning : Registers are spilled to local memory in function 'gemm_fusion_dot_447', 20 bytes spill stores, 20 bytes spill loads\n",
      "\n"
     ]
    },
    {
     "name": "stdout",
     "output_type": "stream",
     "text": [
      "\u001b[1m40874/40904\u001b[0m \u001b[32m━━━━━━━━━━━━━━━━━━━\u001b[0m\u001b[37m━\u001b[0m \u001b[1m0s\u001b[0m 2ms/step - loss: 1.9286 - mae: 1.0204"
     ]
    },
    {
     "name": "stderr",
     "output_type": "stream",
     "text": [
      "2024-10-16 23:58:26.374089: I external/local_xla/xla/stream_executor/cuda/cuda_asm_compiler.cc:393] ptxas warning : Registers are spilled to local memory in function 'gemm_fusion_dot_215', 16 bytes spill stores, 16 bytes spill loads\n",
      "\n",
      "2024-10-16 23:58:26.896196: I external/local_xla/xla/stream_executor/cuda/cuda_asm_compiler.cc:393] ptxas warning : Registers are spilled to local memory in function 'gemm_fusion_dot_215', 368 bytes spill stores, 280 bytes spill loads\n",
      "\n",
      "2024-10-16 23:58:27.145199: I external/local_xla/xla/stream_executor/cuda/cuda_asm_compiler.cc:393] ptxas warning : Registers are spilled to local memory in function 'gemm_fusion_dot_215', 200 bytes spill stores, 200 bytes spill loads\n",
      "\n"
     ]
    },
    {
     "name": "stdout",
     "output_type": "stream",
     "text": [
      "\u001b[1m40904/40904\u001b[0m \u001b[32m━━━━━━━━━━━━━━━━━━━━\u001b[0m\u001b[37m\u001b[0m \u001b[1m0s\u001b[0m 2ms/step - loss: 1.9282 - mae: 1.0202"
     ]
    },
    {
     "name": "stderr",
     "output_type": "stream",
     "text": [
      "2024-10-16 23:58:37.811077: I external/local_xla/xla/stream_executor/cuda/cuda_asm_compiler.cc:393] ptxas warning : Registers are spilled to local memory in function 'gemm_fusion_dot_37', 16 bytes spill stores, 16 bytes spill loads\n",
      "\n",
      "2024-10-16 23:58:38.210423: I external/local_xla/xla/stream_executor/cuda/cuda_asm_compiler.cc:393] ptxas warning : Registers are spilled to local memory in function 'gemm_fusion_dot_37', 336 bytes spill stores, 248 bytes spill loads\n",
      "\n"
     ]
    },
    {
     "name": "stdout",
     "output_type": "stream",
     "text": [
      "\n",
      "Epoch 1: val_loss improved from inf to 0.64460, saving model to ./models/checkpoint/model_checkpoint_01_0.64.keras\n",
      "\u001b[1m40904/40904\u001b[0m \u001b[32m━━━━━━━━━━━━━━━━━━━━\u001b[0m\u001b[37m\u001b[0m \u001b[1m81s\u001b[0m 2ms/step - loss: 1.9282 - mae: 1.0202 - val_loss: 0.6446 - val_mae: 0.5253\n",
      "Epoch 2/15\n",
      "\u001b[1m40900/40904\u001b[0m \u001b[32m━━━━━━━━━━━━━━━━━━━\u001b[0m\u001b[37m━\u001b[0m \u001b[1m0s\u001b[0m 2ms/step - loss: 0.5927 - mae: 0.4900\n",
      "Epoch 2: val_loss improved from 0.64460 to 0.42320, saving model to ./models/checkpoint/model_checkpoint_02_0.42.keras\n",
      "\u001b[1m40904/40904\u001b[0m \u001b[32m━━━━━━━━━━━━━━━━━━━━\u001b[0m\u001b[37m\u001b[0m \u001b[1m71s\u001b[0m 2ms/step - loss: 0.5927 - mae: 0.4900 - val_loss: 0.4232 - val_mae: 0.4028\n",
      "Epoch 3/15\n",
      "\u001b[1m40889/40904\u001b[0m \u001b[32m━━━━━━━━━━━━━━━━━━━\u001b[0m\u001b[37m━\u001b[0m \u001b[1m0s\u001b[0m 2ms/step - loss: 0.4083 - mae: 0.3935\n",
      "Epoch 3: val_loss improved from 0.42320 to 0.35101, saving model to ./models/checkpoint/model_checkpoint_03_0.35.keras\n",
      "\u001b[1m40904/40904\u001b[0m \u001b[32m━━━━━━━━━━━━━━━━━━━━\u001b[0m\u001b[37m\u001b[0m \u001b[1m70s\u001b[0m 2ms/step - loss: 0.4083 - mae: 0.3935 - val_loss: 0.3510 - val_mae: 0.3591\n",
      "Epoch 4/15\n",
      "\u001b[1m40891/40904\u001b[0m \u001b[32m━━━━━━━━━━━━━━━━━━━\u001b[0m\u001b[37m━\u001b[0m \u001b[1m0s\u001b[0m 1ms/step - loss: 0.3333 - mae: 0.3453\n",
      "Epoch 4: val_loss improved from 0.35101 to 0.28829, saving model to ./models/checkpoint/model_checkpoint_04_0.29.keras\n",
      "\u001b[1m40904/40904\u001b[0m \u001b[32m━━━━━━━━━━━━━━━━━━━━\u001b[0m\u001b[37m\u001b[0m \u001b[1m68s\u001b[0m 2ms/step - loss: 0.3333 - mae: 0.3453 - val_loss: 0.2883 - val_mae: 0.3185\n",
      "Epoch 5/15\n",
      "\u001b[1m40901/40904\u001b[0m \u001b[32m━━━━━━━━━━━━━━━━━━━\u001b[0m\u001b[37m━\u001b[0m \u001b[1m0s\u001b[0m 1ms/step - loss: 0.5193 - mae: 0.3146\n",
      "Epoch 5: val_loss improved from 0.28829 to 0.27770, saving model to ./models/checkpoint/model_checkpoint_05_0.28.keras\n",
      "\u001b[1m40904/40904\u001b[0m \u001b[32m━━━━━━━━━━━━━━━━━━━━\u001b[0m\u001b[37m\u001b[0m \u001b[1m69s\u001b[0m 2ms/step - loss: 0.5195 - mae: 0.3146 - val_loss: 0.2777 - val_mae: 0.3173\n",
      "Epoch 6/15\n",
      "\u001b[1m40904/40904\u001b[0m \u001b[32m━━━━━━━━━━━━━━━━━━━━\u001b[0m\u001b[37m\u001b[0m \u001b[1m0s\u001b[0m 2ms/step - loss: 0.2523 - mae: 0.2982\n",
      "Epoch 6: val_loss improved from 0.27770 to 0.22675, saving model to ./models/checkpoint/model_checkpoint_06_0.23.keras\n",
      "\u001b[1m40904/40904\u001b[0m \u001b[32m━━━━━━━━━━━━━━━━━━━━\u001b[0m\u001b[37m\u001b[0m \u001b[1m70s\u001b[0m 2ms/step - loss: 0.2523 - mae: 0.2982 - val_loss: 0.2268 - val_mae: 0.2787\n",
      "Epoch 7/15\n",
      "\u001b[1m40890/40904\u001b[0m \u001b[32m━━━━━━━━━━━━━━━━━━━\u001b[0m\u001b[37m━\u001b[0m \u001b[1m0s\u001b[0m 2ms/step - loss: 0.7995 - mae: 0.2788\n",
      "Epoch 7: val_loss improved from 0.22675 to 0.19520, saving model to ./models/checkpoint/model_checkpoint_07_0.20.keras\n",
      "\u001b[1m40904/40904\u001b[0m \u001b[32m━━━━━━━━━━━━━━━━━━━━\u001b[0m\u001b[37m\u001b[0m \u001b[1m70s\u001b[0m 2ms/step - loss: 0.7996 - mae: 0.2788 - val_loss: 0.1952 - val_mae: 0.2578\n",
      "Epoch 8/15\n",
      "\u001b[1m40899/40904\u001b[0m \u001b[32m━━━━━━━━━━━━━━━━━━━\u001b[0m\u001b[37m━\u001b[0m \u001b[1m0s\u001b[0m 1ms/step - loss: 0.2459 - mae: 0.2631\n",
      "Epoch 8: val_loss improved from 0.19520 to 0.18127, saving model to ./models/checkpoint/model_checkpoint_08_0.18.keras\n",
      "\u001b[1m40904/40904\u001b[0m \u001b[32m━━━━━━━━━━━━━━━━━━━━\u001b[0m\u001b[37m\u001b[0m \u001b[1m69s\u001b[0m 2ms/step - loss: 0.2459 - mae: 0.2631 - val_loss: 0.1813 - val_mae: 0.2467\n",
      "Epoch 9/15\n",
      "\u001b[1m40888/40904\u001b[0m \u001b[32m━━━━━━━━━━━━━━━━━━━\u001b[0m\u001b[37m━\u001b[0m \u001b[1m0s\u001b[0m 2ms/step - loss: 0.1915 - mae: 0.2531\n",
      "Epoch 9: val_loss did not improve from 0.18127\n",
      "\u001b[1m40904/40904\u001b[0m \u001b[32m━━━━━━━━━━━━━━━━━━━━\u001b[0m\u001b[37m\u001b[0m \u001b[1m69s\u001b[0m 2ms/step - loss: 0.1915 - mae: 0.2530 - val_loss: 0.1817 - val_mae: 0.2531\n",
      "Epoch 10/15\n",
      "\u001b[1m40888/40904\u001b[0m \u001b[32m━━━━━━━━━━━━━━━━━━━\u001b[0m\u001b[37m━\u001b[0m \u001b[1m0s\u001b[0m 2ms/step - loss: 0.1745 - mae: 0.2430\n",
      "Epoch 10: val_loss improved from 0.18127 to 0.16752, saving model to ./models/checkpoint/model_checkpoint_10_0.17.keras\n",
      "\u001b[1m40904/40904\u001b[0m \u001b[32m━━━━━━━━━━━━━━━━━━━━\u001b[0m\u001b[37m\u001b[0m \u001b[1m70s\u001b[0m 2ms/step - loss: 0.1745 - mae: 0.2430 - val_loss: 0.1675 - val_mae: 0.2364\n",
      "Epoch 11/15\n",
      "\u001b[1m40903/40904\u001b[0m \u001b[32m━━━━━━━━━━━━━━━━━━━\u001b[0m\u001b[37m━\u001b[0m \u001b[1m0s\u001b[0m 1ms/step - loss: 0.1629 - mae: 0.2350\n",
      "Epoch 11: val_loss improved from 0.16752 to 0.15397, saving model to ./models/checkpoint/model_checkpoint_11_0.15.keras\n",
      "\u001b[1m40904/40904\u001b[0m \u001b[32m━━━━━━━━━━━━━━━━━━━━\u001b[0m\u001b[37m\u001b[0m \u001b[1m69s\u001b[0m 2ms/step - loss: 0.1629 - mae: 0.2350 - val_loss: 0.1540 - val_mae: 0.2262\n",
      "Epoch 12/15\n",
      "\u001b[1m40890/40904\u001b[0m \u001b[32m━━━━━━━━━━━━━━━━━━━\u001b[0m\u001b[37m━\u001b[0m \u001b[1m0s\u001b[0m 1ms/step - loss: 0.1554 - mae: 0.2292\n",
      "Epoch 12: val_loss improved from 0.15397 to 0.14267, saving model to ./models/checkpoint/model_checkpoint_12_0.14.keras\n",
      "\u001b[1m40904/40904\u001b[0m \u001b[32m━━━━━━━━━━━━━━━━━━━━\u001b[0m\u001b[37m\u001b[0m \u001b[1m69s\u001b[0m 2ms/step - loss: 0.1554 - mae: 0.2292 - val_loss: 0.1427 - val_mae: 0.2175\n",
      "Epoch 13/15\n",
      "\u001b[1m40902/40904\u001b[0m \u001b[32m━━━━━━━━━━━━━━━━━━━\u001b[0m\u001b[37m━\u001b[0m \u001b[1m0s\u001b[0m 1ms/step - loss: 0.1492 - mae: 0.2235\n",
      "Epoch 13: val_loss did not improve from 0.14267\n",
      "\u001b[1m40904/40904\u001b[0m \u001b[32m━━━━━━━━━━━━━━━━━━━━\u001b[0m\u001b[37m\u001b[0m \u001b[1m69s\u001b[0m 2ms/step - loss: 0.1492 - mae: 0.2235 - val_loss: 0.1449 - val_mae: 0.2223\n",
      "Epoch 14/15\n",
      "\u001b[1m40888/40904\u001b[0m \u001b[32m━━━━━━━━━━━━━━━━━━━\u001b[0m\u001b[37m━\u001b[0m \u001b[1m0s\u001b[0m 1ms/step - loss: 0.1414 - mae: 0.2181\n",
      "Epoch 14: val_loss improved from 0.14267 to 0.13200, saving model to ./models/checkpoint/model_checkpoint_14_0.13.keras\n",
      "\u001b[1m40904/40904\u001b[0m \u001b[32m━━━━━━━━━━━━━━━━━━━━\u001b[0m\u001b[37m\u001b[0m \u001b[1m69s\u001b[0m 2ms/step - loss: 0.1414 - mae: 0.2181 - val_loss: 0.1320 - val_mae: 0.2095\n",
      "Epoch 15/15\n",
      "\u001b[1m40902/40904\u001b[0m \u001b[32m━━━━━━━━━━━━━━━━━━━\u001b[0m\u001b[37m━\u001b[0m \u001b[1m0s\u001b[0m 1ms/step - loss: 0.1354 - mae: 0.2135\n",
      "Epoch 15: val_loss did not improve from 0.13200\n",
      "\u001b[1m40904/40904\u001b[0m \u001b[32m━━━━━━━━━━━━━━━━━━━━\u001b[0m\u001b[37m\u001b[0m \u001b[1m69s\u001b[0m 2ms/step - loss: 0.1354 - mae: 0.2135 - val_loss: 0.1342 - val_mae: 0.2173\n",
      "\u001b[1m54529/54539\u001b[0m \u001b[32m━━━━━━━━━━━━━━━━━━━\u001b[0m\u001b[37m━\u001b[0m \u001b[1m0s\u001b[0m 600us/step - loss: 0.1345 - mae: 0.2171"
     ]
    },
    {
     "name": "stderr",
     "output_type": "stream",
     "text": [
      "2024-10-17 00:15:24.988613: I external/local_xla/xla/stream_executor/cuda/cuda_asm_compiler.cc:393] ptxas warning : Registers are spilled to local memory in function 'gemm_fusion_dot_37', 8 bytes spill stores, 8 bytes spill loads\n",
      "\n"
     ]
    },
    {
     "name": "stdout",
     "output_type": "stream",
     "text": [
      "\u001b[1m54539/54539\u001b[0m \u001b[32m━━━━━━━━━━━━━━━━━━━━\u001b[0m\u001b[37m\u001b[0m \u001b[1m35s\u001b[0m 617us/step - loss: 0.1345 - mae: 0.2171\n",
      "Test Loss: 0.13406825065612793, Test MAE: 0.21706275641918182\n"
     ]
    }
   ],
   "source": [
    "from tensorflow.keras.callbacks import ModelCheckpoint\n",
    "from tensorflow.keras.models import load_model\n",
    "\n",
    "tensorboard_callback = tf.keras.callbacks.TensorBoard(log_dir=\"logs\")\n",
    "\n",
    "# Define the checkpoint callback\n",
    "checkpoint = ModelCheckpoint(\n",
    "    filepath='./models/checkpoint/model_checkpoint_{epoch:02d}_{val_loss:.2f}.keras',     # Path where the model will be saved\n",
    "    monitor='val_loss',                 # Monitor the validation loss for improvements\n",
    "    save_best_only=True,                # Only save the model if it's the best one seen so far\n",
    "    save_weights_only=False,            # Save the entire model (set to True to save only weights)\n",
    "    mode='min',                         # In case of loss, use 'min' (use 'max' for accuracy)\n",
    "    verbose=1                           # Print a message when saving the model\n",
    ")\n",
    "\n",
    "# model = load_model('./models/checkpoint/model_checkpoint_42_0.59.keras')\n",
    "\n",
    "# Train the model\n",
    "with tf.device('/GPU:0'):\n",
    "    history = model.fit(\n",
    "                        # dataset,\n",
    "                        X_train, y_train, \n",
    "                        epochs=15, \n",
    "                        batch_size=128, \n",
    "                        validation_data=(X_val, y_val),\n",
    "                        callbacks=[tensorboard_callback, tf.keras.callbacks.EarlyStopping(monitor='val_loss', patience=5), checkpoint])\n",
    "\n",
    "    # Evaluate the model on test data\n",
    "    test_loss, test_mae = model.evaluate(X_test, y_test)\n",
    "    print(f\"Test Loss: {test_loss}, Test MAE: {test_mae}\")\n"
   ]
  },
  {
   "cell_type": "code",
   "execution_count": 112,
   "metadata": {},
   "outputs": [
    {
     "data": {
      "image/png": "[encoded data removed]",
      "text/plain": [
       "<Figure size 640x480 with 1 Axes>"
      ]
     },
     "metadata": {},
     "output_type": "display_data"
    }
   ],
   "source": [
    "# Plot training & validation loss\n",
    "plt.plot(history.history['loss'], label='Train Loss')\n",
    "plt.plot(history.history['val_loss'], label='Validation Loss')\n",
    "plt.title('Model Loss Over Epochs')\n",
    "plt.xlabel('Epochs')\n",
    "plt.ylabel('Loss')\n",
    "plt.legend()\n",
    "plt.show()\n"
   ]
  },
  {
   "cell_type": "code",
   "execution_count": 113,
   "metadata": {},
   "outputs": [
    {
     "name": "stdout",
     "output_type": "stream",
     "text": [
      "\u001b[1m54539/54539\u001b[0m \u001b[32m━━━━━━━━━━━━━━━━━━━━\u001b[0m\u001b[37m\u001b[0m \u001b[1m32s\u001b[0m 577us/step\n"
     ]
    }
   ],
   "source": [
    "# After training your model\n",
    "y_pred = model.predict(X_test)"
   ]
  },
  {
   "cell_type": "code",
   "execution_count": 128,
   "metadata": {},
   "outputs": [
    {
     "name": "stdout",
     "output_type": "stream",
     "text": [
      "Evaluate on test data\n",
      "\u001b[1m13635/13635\u001b[0m \u001b[32m━━━━━━━━━━━━━━━━━━━━\u001b[0m\u001b[37m\u001b[0m \u001b[1m8s\u001b[0m 604us/step - loss: 0.1346 - mae: 0.2173\n",
      "test loss, test mae: [0.13413521647453308, 0.21720163524150848]\n"
     ]
    }
   ],
   "source": [
    "print(\"Evaluate on test data\")\n",
    "results = model.evaluate(X_test, y_test, batch_size=128)\n",
    "print(\"test loss, test mae:\", results)"
   ]
  },
  {
   "cell_type": "code",
   "execution_count": 114,
   "metadata": {},
   "outputs": [],
   "source": [
    "# Convert y_test to NumPy array with float64 data type\n",
    "y_test_np = y_test.to_numpy(dtype=np.float64)\n",
    "\n",
    "# Ensure y_pred is a NumPy array with float64 data type\n",
    "y_pred_np = np.array(y_pred, dtype=np.float64)"
   ]
  },
  {
   "cell_type": "code",
   "execution_count": 115,
   "metadata": {},
   "outputs": [
    {
     "name": "stdout",
     "output_type": "stream",
     "text": [
      "Mean Relative Error for coord1: 0.0303\n",
      "Mean Relative Error for coord2: 0.0505\n"
     ]
    }
   ],
   "source": [
    "# Assuming y_test and y_pred are NumPy arrays\n",
    "absolute_errors = np.abs(y_test_np - y_pred_np)\n",
    "coordinate_ranges = np.ptp(y_test_np, axis=0)  # Peak to peak (max - min) along each coordinate\n",
    "\n",
    "# Avoid division by zero\n",
    "coordinate_ranges[coordinate_ranges == 0] = 1\n",
    "\n",
    "relative_errors = absolute_errors / coordinate_ranges\n",
    "mean_relative_error = np.mean(relative_errors, axis=0)\n",
    "\n",
    "print(f\"Mean Relative Error for coord1: {mean_relative_error[0]:.4f}\")\n",
    "print(f\"Mean Relative Error for coord2: {mean_relative_error[1]:.4f}\")\n"
   ]
  },
  {
   "cell_type": "code",
   "execution_count": 116,
   "metadata": {},
   "outputs": [
    {
     "name": "stdout",
     "output_type": "stream",
     "text": [
      "Spearman's Rank Correlation for coord1: 0.9813\n",
      "Spearman's Rank Correlation for coord2: 0.9518\n"
     ]
    }
   ],
   "source": [
    "from scipy.stats import spearmanr\n",
    "\n",
    "rho_coord1, _ = spearmanr(y_test_np[:, 0], y_pred_np[:, 0])\n",
    "rho_coord2, _ = spearmanr(y_test_np[:, 1], y_pred_np[:, 1])\n",
    "\n",
    "print(f\"Spearman's Rank Correlation for coord1: {rho_coord1:.4f}\")\n",
    "print(f\"Spearman's Rank Correlation for coord2: {rho_coord2:.4f}\")\n"
   ]
  },
  {
   "cell_type": "code",
   "execution_count": 117,
   "metadata": {},
   "outputs": [],
   "source": [
    "# Create a mapping from coordinate pairs to class labels\n",
    "unique_coords = np.unique(y_test_np, axis=0)\n",
    "coord_to_label = {tuple(coord): idx for idx, coord in enumerate(unique_coords)}\n",
    "\n",
    "# Convert coordinates to labels\n",
    "y_test_labels = np.array([coord_to_label[tuple(coord)] for coord in y_test_np])\n",
    "y_pred_labels = np.array([coord_to_label.get(tuple(coord), -1) for coord in y_pred_np])  # Use -1 for unknowns\n"
   ]
  },
  {
   "cell_type": "code",
   "execution_count": 118,
   "metadata": {},
   "outputs": [],
   "source": [
    "# from sklearn.metrics import accuracy_score, confusion_matrix\n",
    "\n",
    "# # Filter out predictions that don't map to a valid label\n",
    "# valid_indices = y_pred_labels != -1\n",
    "# accuracy = accuracy_score(y_test_labels[valid_indices], y_pred_labels[valid_indices])\n",
    "# print(f\"Classification Accuracy: {accuracy:.4f}\")\n"
   ]
  },
  {
   "cell_type": "code",
   "execution_count": 119,
   "metadata": {},
   "outputs": [],
   "source": [
    "# import matplotlib.pyplot as plt\n",
    "# from sklearn.metrics import ConfusionMatrixDisplay\n",
    "\n",
    "# cm = confusion_matrix(y_test_labels[valid_indices], y_pred_labels[valid_indices])\n",
    "# disp = ConfusionMatrixDisplay(confusion_matrix=cm)\n",
    "# disp.plot(cmap='Blues')\n",
    "# plt.title('Confusion Matrix of Predicted vs Actual Classes')\n",
    "# plt.show()"
   ]
  },
  {
   "cell_type": "code",
   "execution_count": 120,
   "metadata": {},
   "outputs": [
    {
     "name": "stdout",
     "output_type": "stream",
     "text": [
      "MSE on Standardized Coordinates: 0.0509\n"
     ]
    }
   ],
   "source": [
    "scaler = StandardScaler()\n",
    "y_test_scaled = scaler.fit_transform(y_test_np)\n",
    "y_pred_scaled = scaler.transform(y_pred_np)\n",
    "\n",
    "# Compute Mean Squared Error on standardized data\n",
    "from sklearn.metrics import mean_squared_error\n",
    "\n",
    "mse_scaled = mean_squared_error(y_test_scaled, y_pred_scaled)\n",
    "print(f\"MSE on Standardized Coordinates: {mse_scaled:.4f}\")\n"
   ]
  },
  {
   "cell_type": "code",
   "execution_count": 121,
   "metadata": {},
   "outputs": [
    {
     "name": "stdout",
     "output_type": "stream",
     "text": [
      "Accuracy within tolerance 1: 0.9528\n",
      "Accuracy within tolerance 0.5: 0.8469\n",
      "Accuracy within tolerance 0.1: 0.1911\n"
     ]
    }
   ],
   "source": [
    "def custom_accuracy(y_true, y_pred, tolerance):\n",
    "    # Count predictions within a certain tolerance\n",
    "    correct_predictions = np.all(np.abs(y_true - y_pred) <= tolerance, axis=1)\n",
    "    accuracy = np.mean(correct_predictions)\n",
    "    return accuracy\n",
    "\n",
    "tolerances = [1, 0.5, 0.1]  # Adjust based on your coordinate system\n",
    "\n",
    "for tolerance in tolerances:\n",
    "    accuracy = custom_accuracy(y_test_np, y_pred_np, tolerance)\n",
    "    print(f\"Accuracy within tolerance {tolerance}: {accuracy:.4f}\")\n",
    "\n",
    "accuracy = custom_accuracy(y_test_np, y_pred_np, 1)"
   ]
  },
  {
   "cell_type": "code",
   "execution_count": 123,
   "metadata": {},
   "outputs": [
    {
     "name": "stderr",
     "output_type": "stream",
     "text": [
      "/home/alan-xie/Documents/Thesis/wifi_localization/.venv/lib/python3.10/site-packages/IPython/core/pylabtools.py:170: UserWarning: Creating legend with loc=\"best\" can be slow with large amounts of data.\n",
      "  fig.canvas.print_figure(bytes_io, **kw)\n"
     ]
    },
    {
     "data": {
      "image/png": "[encoded data removed]",
      "text/plain": [
       "<Figure size 800x600 with 1 Axes>"
      ]
     },
     "metadata": {},
     "output_type": "display_data"
    }
   ],
   "source": [
    "import matplotlib.pyplot as plt\n",
    "\n",
    "plt.figure(figsize=(8, 6))\n",
    "plt.scatter(y_pred_np[:, 0], y_pred_np[:, 1], label='Predicted', alpha=0.6)\n",
    "plt.scatter(y_test_np[:, 0], y_test_np[:, 1], label='Actual', alpha=0.6)\n",
    "plt.xlabel('Coordinate 1')\n",
    "plt.ylabel('Coordinate 2')\n",
    "plt.title('Actual vs Predicted Coordinates')\n",
    "plt.legend()\n",
    "plt.grid(True)\n",
    "plt.show()\n"
   ]
  },
  {
   "cell_type": "code",
   "execution_count": 124,
   "metadata": {},
   "outputs": [
    {
     "name": "stdout",
     "output_type": "stream",
     "text": [
      "MAE for coord1: 0.1815\n",
      "MAE for coord2: 0.2526\n",
      "Overall MAE: 0.2171\n",
      "RMSE for coord1: 0.3010\n",
      "RMSE for coord2: 0.4213\n",
      "Overall RMSE: 0.3612\n",
      "Mean Euclidean Distance Error: 0.3445 units\n",
      "R-squared for coord1: 0.9774\n",
      "R-squared for coord2: 0.9208\n",
      "Median Absolute Error for coord1: 0.1168\n",
      "Median Absolute Error for coord2: 0.1477\n"
     ]
    }
   ],
   "source": [
    "# MAE for each coordinate\n",
    "mae_coord1 = mean_absolute_error(y_test_np[:, 0], y_pred_np[:, 0])\n",
    "mae_coord2 = mean_absolute_error(y_test_np[:, 1], y_pred_np[:, 1])\n",
    "\n",
    "# Overall MAE\n",
    "mae_overall = np.mean([mae_coord1, mae_coord2])\n",
    "\n",
    "print(f\"MAE for coord1: {mae_coord1:.4f}\")\n",
    "print(f\"MAE for coord2: {mae_coord2:.4f}\")\n",
    "print(f\"Overall MAE: {mae_overall:.4f}\")\n",
    "\n",
    "# RMSE for each coordinate\n",
    "rmse_coord1 = np.sqrt(mean_squared_error(y_test_np[:, 0], y_pred_np[:, 0]))\n",
    "rmse_coord2 = np.sqrt(mean_squared_error(y_test_np[:, 1], y_pred_np[:, 1]))\n",
    "\n",
    "# Overall RMSE\n",
    "rmse_overall = np.mean([rmse_coord1, rmse_coord2])\n",
    "\n",
    "print(f\"RMSE for coord1: {rmse_coord1:.4f}\")\n",
    "print(f\"RMSE for coord2: {rmse_coord2:.4f}\")\n",
    "print(f\"Overall RMSE: {rmse_overall:.4f}\")\n",
    "\n",
    "# Calculate Euclidean distances\n",
    "distance_errors = np.linalg.norm(y_test_np - y_pred_np, axis=1)\n",
    "mean_distance_error = np.mean(distance_errors)\n",
    "\n",
    "print(f\"Mean Euclidean Distance Error: {mean_distance_error:.4f} units\")\n",
    "\n",
    "# R-squared for each coordinate\n",
    "r2_coord1 = r2_score(y_test_np[:, 0], y_pred_np[:, 0])\n",
    "r2_coord2 = r2_score(y_test_np[:, 1], y_pred_np[:, 1])\n",
    "\n",
    "print(f\"R-squared for coord1: {r2_coord1:.4f}\")\n",
    "print(f\"R-squared for coord2: {r2_coord2:.4f}\")\n",
    "\n",
    "# Median Absolute Error for each coordinate\n",
    "medae_coord1 = median_absolute_error(y_test_np[:, 0], y_pred_np[:, 0])\n",
    "medae_coord2 = median_absolute_error(y_test_np[:, 1], y_pred_np[:, 1])\n",
    "\n",
    "print(f\"Median Absolute Error for coord1: {medae_coord1:.4f}\")\n",
    "print(f\"Median Absolute Error for coord2: {medae_coord2:.4f}\")"
   ]
  },
  {
   "cell_type": "code",
   "execution_count": null,
   "metadata": {},
   "outputs": [
    {
     "name": "stderr",
     "output_type": "stream",
     "text": [
      "/home/alan-xie/Documents/Thesis/wifi_localization/.venv/lib/python3.10/site-packages/keras/src/layers/core/input_layer.py:26: UserWarning: Argument `input_shape` is deprecated. Use `shape` instead.\n",
      "  warnings.warn(\n",
      "2024-10-17 00:22:17.791539: I external/local_xla/xla/stream_executor/cuda/cuda_asm_compiler.cc:393] ptxas warning : Registers are spilled to local memory in function 'gemm_fusion_dot_201', 20 bytes spill stores, 20 bytes spill loads\n",
      "\n",
      "2024-10-17 00:22:17.989582: I external/local_xla/xla/stream_executor/cuda/cuda_asm_compiler.cc:393] ptxas warning : Registers are spilled to local memory in function 'gemm_fusion_dot_215', 16 bytes spill stores, 16 bytes spill loads\n",
      "\n",
      "2024-10-17 00:22:18.150864: I external/local_xla/xla/stream_executor/cuda/cuda_asm_compiler.cc:393] ptxas warning : Registers are spilled to local memory in function 'gemm_fusion_dot_201', 336 bytes spill stores, 336 bytes spill loads\n",
      "\n",
      "2024-10-17 00:22:18.749886: I external/local_xla/xla/stream_executor/cuda/cuda_asm_compiler.cc:393] ptxas warning : Registers are spilled to local memory in function 'gemm_fusion_dot_201', 12 bytes spill stores, 12 bytes spill loads\n",
      "\n",
      "2024-10-17 00:22:19.012193: I external/local_xla/xla/stream_executor/cuda/cuda_asm_compiler.cc:393] ptxas warning : Registers are spilled to local memory in function 'gemm_fusion_dot_447', 444 bytes spill stores, 444 bytes spill loads\n",
      "\n",
      "2024-10-17 00:22:19.367109: I external/local_xla/xla/stream_executor/cuda/cuda_asm_compiler.cc:393] ptxas warning : Registers are spilled to local memory in function 'gemm_fusion_dot_447', 436 bytes spill stores, 436 bytes spill loads\n",
      "\n",
      "2024-10-17 00:22:19.484533: I external/local_xla/xla/stream_executor/cuda/cuda_asm_compiler.cc:393] ptxas warning : Registers are spilled to local memory in function 'gemm_fusion_dot_201', 200 bytes spill stores, 200 bytes spill loads\n",
      "\n",
      "2024-10-17 00:22:19.996563: I external/local_xla/xla/stream_executor/cuda/cuda_asm_compiler.cc:393] ptxas warning : Registers are spilled to local memory in function 'gemm_fusion_dot_445', 436 bytes spill stores, 436 bytes spill loads\n",
      "\n",
      "2024-10-17 00:22:20.072644: I external/local_xla/xla/stream_executor/cuda/cuda_asm_compiler.cc:393] ptxas warning : Registers are spilled to local memory in function 'gemm_fusion_dot_445', 444 bytes spill stores, 444 bytes spill loads\n",
      "\n"
     ]
    }
   ],
   "source": [
    "from sklearn.model_selection import KFold\n",
    "import numpy as np\n",
    "\n",
    "kf = KFold(n_splits=5, shuffle=True, random_state=42)\n",
    "mae_scores = []\n",
    "\n",
    "for train_index, test_index in kf.split(X):\n",
    "    X_train_cv, X_test_cv = X[train_index], X[test_index]\n",
    "    y_train_cv, y_test_cv = y.iloc[train_index], y.iloc[test_index]\n",
    "    \n",
    "    # Create and train the model\n",
    "    model = create_dnn_model(input_shape=(X_train_cv.shape[1],))\n",
    "    model.fit(X_train_cv, y_train_cv, epochs=30, batch_size=128, verbose=0)\n",
    "    \n",
    "    # Evaluate the model\n",
    "    y_pred_cv = model.predict(X_test_cv)\n",
    "    mae_cv = np.mean(np.abs(y_test_cv - y_pred_cv))\n",
    "    mae_scores.append(mae_cv)\n",
    "\n",
    "print(f\"Cross-validated MAE: {np.mean(mae_scores):.4f} ± {np.std(mae_scores):.4f}\")"
   ]
  },
  {
   "cell_type": "code",
   "execution_count": 126,
   "metadata": {},
   "outputs": [],
   "source": [
    "now = datetime.datetime.now()\n",
    "date_time = now.strftime(\"%m-%d-%H-%M\")\n",
    "\n",
    "model.save(f\"./models/{date_time}-{model_type}-{accuracy:.2f}.keras\")"
   ]
  }
 ],
 "metadata": {
  "kernelspec": {
   "display_name": ".venv",
   "language": "python",
   "name": "python3"
  },
  "language_info": {
   "codemirror_mode": {
    "name": "ipython",
    "version": 3
   },
   "file_extension": ".py",
   "mimetype": "text/x-python",
   "name": "python",
   "nbconvert_exporter": "python",
   "pygments_lexer": "ipython3",
   "version": "3.10.15"
  }
 },
 "nbformat": 4,
 "nbformat_minor": 2
}
