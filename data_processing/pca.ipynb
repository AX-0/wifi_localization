{
 "cells": [
  {
   "cell_type": "code",
   "execution_count": 1,
   "metadata": {},
   "outputs": [],
   "source": [
    "import pandas as pd\n",
    "from sklearn.preprocessing import StandardScaler\n",
    "from sklearn.decomposition import PCA\n",
    "import matplotlib.pyplot as plt"
   ]
  },
  {
   "cell_type": "code",
   "execution_count": 2,
   "metadata": {},
   "outputs": [],
   "source": [
    "# Assuming you've loaded your data into a DataFrame\n",
    "# data = pd.read_csv('/home/alan-xie/Desktop/wifi_localization/data/csv/still/still.csv')  # Adjust this to your file\n",
    "data = pd.read_csv('/home/alan-xie/Documents/Thesis/wifi_localization/data/csv/still/still.csv')"
   ]
  },
  {
   "cell_type": "code",
   "execution_count": 3,
   "metadata": {},
   "outputs": [],
   "source": [
    "# data.drop('rssi', axis=1, inplace=True)\n",
    "# data.drop('rssi1', axis=1, inplace=True)\n",
    "# data.drop('rssi2', axis=1, inplace=True)\n",
    "# data.drop('rssi3', axis=1, inplace=True)\n",
    "# data.drop(columns=[\"timestamps\", 'ant1_amplitude', 'ant2_amplitude', 'subcarriers', 'csi_len', 'channel', 'err_info', 'noise_floor', 'bandWidth', 'num_tones', 'nr', 'rssi3', 'payload_length', 'block_length', 'with_receiver'], axis=1, inplace=True)\n",
    "\n",
    "# data.drop(columns=['coord1', 'coord2', \"timestamps\", 'ant1_amplitude', 'ant2_amplitude', 'subcarriers'], inplace=True)\n",
    "# data.drop(columns=['coord1', 'coord2', \"timestamps\", 'ant1_amplitude', 'ant2_amplitude', 'subcarriers'], inplace=True)\n"
   ]
  },
  {
   "cell_type": "code",
   "execution_count": 4,
   "metadata": {},
   "outputs": [],
   "source": [
    "data.drop(columns=['ant1_amplitude', 'ant2_amplitude', 'subcarriers','coord1', 'coord2', \"rssi\", \"rssi1\", \"rssi2\"], inplace=True)"
   ]
  },
  {
   "cell_type": "code",
   "execution_count": 5,
   "metadata": {},
   "outputs": [
    {
     "data": {
      "text/html": [
       "<div>\n",
       "<style scoped>\n",
       "    .dataframe tbody tr th:only-of-type {\n",
       "        vertical-align: middle;\n",
       "    }\n",
       "\n",
       "    .dataframe tbody tr th {\n",
       "        vertical-align: top;\n",
       "    }\n",
       "\n",
       "    .dataframe thead th {\n",
       "        text-align: right;\n",
       "    }\n",
       "</style>\n",
       "<table border=\"1\" class=\"dataframe\">\n",
       "  <thead>\n",
       "    <tr style=\"text-align: right;\">\n",
       "      <th></th>\n",
       "      <th>timestamps</th>\n",
       "      <th>csi_len</th>\n",
       "      <th>channel</th>\n",
       "      <th>err_info</th>\n",
       "      <th>noise_floor</th>\n",
       "      <th>rate</th>\n",
       "      <th>bandWidth</th>\n",
       "      <th>num_tones</th>\n",
       "      <th>nr</th>\n",
       "      <th>nc</th>\n",
       "      <th>...</th>\n",
       "      <th>rssi1</th>\n",
       "      <th>rssi2</th>\n",
       "      <th>rssi3</th>\n",
       "      <th>payload_length</th>\n",
       "      <th>block_length</th>\n",
       "      <th>ant1_phase</th>\n",
       "      <th>ant2_phase</th>\n",
       "      <th>with_receiver</th>\n",
       "      <th>ant1_amplitude_cluster</th>\n",
       "      <th>ant2_amplitude_cluster</th>\n",
       "    </tr>\n",
       "  </thead>\n",
       "  <tbody>\n",
       "    <tr>\n",
       "      <th>0</th>\n",
       "      <td>1.231404</td>\n",
       "      <td>-2.395136</td>\n",
       "      <td>0.002533</td>\n",
       "      <td>-0.009847</td>\n",
       "      <td>0.0</td>\n",
       "      <td>-1.615045</td>\n",
       "      <td>0.0</td>\n",
       "      <td>0.0</td>\n",
       "      <td>0.0</td>\n",
       "      <td>-2.395136</td>\n",
       "      <td>...</td>\n",
       "      <td>-0.591057</td>\n",
       "      <td>-0.617024</td>\n",
       "      <td>0.0</td>\n",
       "      <td>0.767275</td>\n",
       "      <td>-0.798548</td>\n",
       "      <td>0.704058</td>\n",
       "      <td>0.912444</td>\n",
       "      <td>0.0</td>\n",
       "      <td>-0.69164</td>\n",
       "      <td>-0.255681</td>\n",
       "    </tr>\n",
       "    <tr>\n",
       "      <th>1</th>\n",
       "      <td>1.231404</td>\n",
       "      <td>-2.395136</td>\n",
       "      <td>0.002533</td>\n",
       "      <td>-0.009847</td>\n",
       "      <td>0.0</td>\n",
       "      <td>-1.615045</td>\n",
       "      <td>0.0</td>\n",
       "      <td>0.0</td>\n",
       "      <td>0.0</td>\n",
       "      <td>-2.395136</td>\n",
       "      <td>...</td>\n",
       "      <td>-0.591057</td>\n",
       "      <td>-0.617024</td>\n",
       "      <td>0.0</td>\n",
       "      <td>0.767275</td>\n",
       "      <td>-0.798548</td>\n",
       "      <td>0.681169</td>\n",
       "      <td>0.885140</td>\n",
       "      <td>0.0</td>\n",
       "      <td>-0.69164</td>\n",
       "      <td>-0.255681</td>\n",
       "    </tr>\n",
       "    <tr>\n",
       "      <th>2</th>\n",
       "      <td>1.231404</td>\n",
       "      <td>-2.395136</td>\n",
       "      <td>0.002533</td>\n",
       "      <td>-0.009847</td>\n",
       "      <td>0.0</td>\n",
       "      <td>-1.615045</td>\n",
       "      <td>0.0</td>\n",
       "      <td>0.0</td>\n",
       "      <td>0.0</td>\n",
       "      <td>-2.395136</td>\n",
       "      <td>...</td>\n",
       "      <td>-0.591057</td>\n",
       "      <td>-0.617024</td>\n",
       "      <td>0.0</td>\n",
       "      <td>0.767275</td>\n",
       "      <td>-0.798548</td>\n",
       "      <td>0.656483</td>\n",
       "      <td>0.853598</td>\n",
       "      <td>0.0</td>\n",
       "      <td>-0.69164</td>\n",
       "      <td>-0.255681</td>\n",
       "    </tr>\n",
       "    <tr>\n",
       "      <th>3</th>\n",
       "      <td>1.231404</td>\n",
       "      <td>-2.395136</td>\n",
       "      <td>0.002533</td>\n",
       "      <td>-0.009847</td>\n",
       "      <td>0.0</td>\n",
       "      <td>-1.615045</td>\n",
       "      <td>0.0</td>\n",
       "      <td>0.0</td>\n",
       "      <td>0.0</td>\n",
       "      <td>-2.395136</td>\n",
       "      <td>...</td>\n",
       "      <td>-0.591057</td>\n",
       "      <td>-0.617024</td>\n",
       "      <td>0.0</td>\n",
       "      <td>0.767275</td>\n",
       "      <td>-0.798548</td>\n",
       "      <td>0.632759</td>\n",
       "      <td>0.841939</td>\n",
       "      <td>0.0</td>\n",
       "      <td>-0.69164</td>\n",
       "      <td>-0.255681</td>\n",
       "    </tr>\n",
       "    <tr>\n",
       "      <th>4</th>\n",
       "      <td>1.231404</td>\n",
       "      <td>-2.395136</td>\n",
       "      <td>0.002533</td>\n",
       "      <td>-0.009847</td>\n",
       "      <td>0.0</td>\n",
       "      <td>-1.615045</td>\n",
       "      <td>0.0</td>\n",
       "      <td>0.0</td>\n",
       "      <td>0.0</td>\n",
       "      <td>-2.395136</td>\n",
       "      <td>...</td>\n",
       "      <td>-0.591057</td>\n",
       "      <td>-0.617024</td>\n",
       "      <td>0.0</td>\n",
       "      <td>0.767275</td>\n",
       "      <td>-0.798548</td>\n",
       "      <td>0.602048</td>\n",
       "      <td>0.820009</td>\n",
       "      <td>0.0</td>\n",
       "      <td>-0.69164</td>\n",
       "      <td>-0.255681</td>\n",
       "    </tr>\n",
       "  </tbody>\n",
       "</table>\n",
       "<p>5 rows × 21 columns</p>\n",
       "</div>"
      ],
      "text/plain": [
       "   timestamps   csi_len   channel  err_info  noise_floor      rate  bandWidth  \\\n",
       "0    1.231404 -2.395136  0.002533 -0.009847          0.0 -1.615045        0.0   \n",
       "1    1.231404 -2.395136  0.002533 -0.009847          0.0 -1.615045        0.0   \n",
       "2    1.231404 -2.395136  0.002533 -0.009847          0.0 -1.615045        0.0   \n",
       "3    1.231404 -2.395136  0.002533 -0.009847          0.0 -1.615045        0.0   \n",
       "4    1.231404 -2.395136  0.002533 -0.009847          0.0 -1.615045        0.0   \n",
       "\n",
       "   num_tones   nr        nc  ...     rssi1     rssi2  rssi3  payload_length  \\\n",
       "0        0.0  0.0 -2.395136  ... -0.591057 -0.617024    0.0        0.767275   \n",
       "1        0.0  0.0 -2.395136  ... -0.591057 -0.617024    0.0        0.767275   \n",
       "2        0.0  0.0 -2.395136  ... -0.591057 -0.617024    0.0        0.767275   \n",
       "3        0.0  0.0 -2.395136  ... -0.591057 -0.617024    0.0        0.767275   \n",
       "4        0.0  0.0 -2.395136  ... -0.591057 -0.617024    0.0        0.767275   \n",
       "\n",
       "   block_length  ant1_phase  ant2_phase  with_receiver  \\\n",
       "0     -0.798548    0.704058    0.912444            0.0   \n",
       "1     -0.798548    0.681169    0.885140            0.0   \n",
       "2     -0.798548    0.656483    0.853598            0.0   \n",
       "3     -0.798548    0.632759    0.841939            0.0   \n",
       "4     -0.798548    0.602048    0.820009            0.0   \n",
       "\n",
       "   ant1_amplitude_cluster  ant2_amplitude_cluster  \n",
       "0                -0.69164               -0.255681  \n",
       "1                -0.69164               -0.255681  \n",
       "2                -0.69164               -0.255681  \n",
       "3                -0.69164               -0.255681  \n",
       "4                -0.69164               -0.255681  \n",
       "\n",
       "[5 rows x 21 columns]"
      ]
     },
     "execution_count": 5,
     "metadata": {},
     "output_type": "execute_result"
    }
   ],
   "source": [
    "\n",
    "features_scaled = [\"ant1_phase\", \"ant2_phase\"]#, \"rssi\", \"rssi1\", \"rssi2\"]\n",
    "X = data.copy()\n",
    "features = data.columns\n",
    "\n",
    "# Separate the columns that need to be scaled\n",
    "columns_to_scale = [col for col in X.columns if col not in features_scaled]\n",
    "\n",
    "# Initialize the scaler\n",
    "scaler = StandardScaler()\n",
    "\n",
    "# Apply the scaler to the columns that need to be scaled\n",
    "X_scaled_part = scaler.fit_transform(X[columns_to_scale])\n",
    "\n",
    "# Create a DataFrame for the scaled part, with the correct column names\n",
    "X_scaled_df = pd.DataFrame(X_scaled_part, columns=columns_to_scale)\n",
    "\n",
    "# Combine the scaled columns with the unscaled columns\n",
    "X_scaled = pd.concat([X_scaled_df, X[features_scaled]], axis=1)\n",
    "\n",
    "# Reorder columns to match the original DataFrame's structure (optional)\n",
    "X_scaled = X_scaled[X.columns]\n",
    "\n",
    "X_scaled.head()"
   ]
  },
  {
   "cell_type": "code",
   "execution_count": 6,
   "metadata": {},
   "outputs": [
    {
     "name": "stdout",
     "output_type": "stream",
     "text": [
      "PCA with 1 components, sum is 0.9877462790787966.\n"
     ]
    }
   ],
   "source": [
    "for i in range(1, X_scaled.shape[0]):\n",
    "    pca = PCA(n_components=i)\n",
    "    X_pca = pca.fit_transform(X_scaled)\n",
    "    explained_variance = pca.explained_variance_ratio_\n",
    "    # print(f'Explained variance by each component: {explained_variance}')\n",
    "    print(f\"PCA with {i} components, sum is {sum(explained_variance)}.\")\n",
    "    \n",
    "    if (sum(explained_variance) >= 0.85):\n",
    "        break\n",
    "\n",
    "X_pca = pca.fit_transform(X_scaled)"
   ]
  },
  {
   "cell_type": "code",
   "execution_count": 7,
   "metadata": {},
   "outputs": [
    {
     "name": "stdout",
     "output_type": "stream",
     "text": [
      "Explained variance by each component: [0.98774628]\n"
     ]
    }
   ],
   "source": [
    "explained_variance = pca.explained_variance_ratio_\n",
    "print(f'Explained variance by each component: {explained_variance}')\n"
   ]
  },
  {
   "cell_type": "code",
   "execution_count": 8,
   "metadata": {},
   "outputs": [],
   "source": [
    "# plt.scatter(X_pca[:, 0], X_pca[:, 1], c=data['coord1'])  # Color by one of your features\n",
    "# plt.xlabel('Principal Component 1')\n",
    "# plt.ylabel('Principal Component 2')\n",
    "# plt.title('PCA of CSI Data')\n",
    "# plt.show()"
   ]
  },
  {
   "cell_type": "code",
   "execution_count": 9,
   "metadata": {},
   "outputs": [
    {
     "name": "stdout",
     "output_type": "stream",
     "text": [
      "Index(['timestamps', 'csi_len', 'channel', 'err_info', 'noise_floor', 'rate',\n",
      "       'bandWidth', 'num_tones', 'nr', 'nc', 'rssi', 'rssi1', 'rssi2', 'rssi3',\n",
      "       'payload_length', 'block_length', 'ant1_phase', 'ant2_phase',\n",
      "       'with_receiver', 'ant1_amplitude_cluster', 'ant2_amplitude_cluster'],\n",
      "      dtype='object')\n"
     ]
    }
   ],
   "source": [
    "print(features)"
   ]
  },
  {
   "cell_type": "code",
   "execution_count": 10,
   "metadata": {},
   "outputs": [
    {
     "name": "stdout",
     "output_type": "stream",
     "text": [
      "   timestamps   csi_len   channel  err_info   noise_floor      rate  \\\n",
      "0   -0.001537  0.027934 -0.000021 -0.000654 -1.654361e-24  0.023996   \n",
      "\n",
      "      bandWidth  num_tones   nr        nc  ...     rssi1     rssi2  rssi3  \\\n",
      "0 -7.888609e-31       -0.0 -0.0  0.027934  ...  0.540137  0.586941   -0.0   \n",
      "\n",
      "   payload_length  block_length  ant1_phase  ant2_phase  with_receiver  \\\n",
      "0        0.000224       0.01668     0.00006   -0.000096           -0.0   \n",
      "\n",
      "   ant1_amplitude_cluster  ant2_amplitude_cluster  \n",
      "0                0.005249                 0.00067  \n",
      "\n",
      "[1 rows x 21 columns]\n"
     ]
    }
   ],
   "source": [
    "# Get the PCA loadings\n",
    "loadings = pca.components_\n",
    "\n",
    "# Create a DataFrame to better view them\n",
    "loading_df = pd.DataFrame(loadings, columns=data.columns)\n",
    "\n",
    "print(loading_df)\n"
   ]
  },
  {
   "cell_type": "code",
   "execution_count": 11,
   "metadata": {},
   "outputs": [
    {
     "data": {
      "image/png": "[encoded data removed]",
      "text/plain": [
       "<Figure size 640x480 with 1 Axes>"
      ]
     },
     "metadata": {},
     "output_type": "display_data"
    }
   ],
   "source": [
    "for j in range(i):\n",
    "    plt.bar(features, loadings[j], color='g')\n",
    "    plt.xticks(rotation=90)\n",
    "    plt.xlabel('Features')\n",
    "    plt.ylabel(f'Loadings for PC{j}')\n",
    "    plt.title(f'Feature Loadings for Principal Component {j}')\n",
    "    plt.show()\n"
   ]
  },
  {
   "cell_type": "code",
   "execution_count": 12,
   "metadata": {},
   "outputs": [
    {
     "name": "stdout",
     "output_type": "stream",
     "text": [
      "Cumulative explained variance: [0.98774628]\n"
     ]
    }
   ],
   "source": [
    "import numpy as np\n",
    "\n",
    "# Calculate cumulative explained variance\n",
    "cumulative_variance = np.cumsum(pca.explained_variance_ratio_)\n",
    "print(f'Cumulative explained variance: {cumulative_variance}')\n"
   ]
  },
  {
   "cell_type": "code",
   "execution_count": 13,
   "metadata": {},
   "outputs": [
    {
     "name": "stdout",
     "output_type": "stream",
     "text": [
      "Explained variance by each component: [1.]\n",
      "SUM: 0.9999999999999702\n"
     ]
    }
   ],
   "source": [
    "pca = PCA(n_components=i)\n",
    "X_reduced = pca.fit_transform(X)\n",
    "\n",
    "# Check the explained variance ratio for the chosen components\n",
    "explained_variance = pca.explained_variance_ratio_\n",
    "print(f'Explained variance by each component: {explained_variance}')\n",
    "print(f'SUM: {sum(explained_variance)}')\n"
   ]
  },
  {
   "cell_type": "code",
   "execution_count": 14,
   "metadata": {},
   "outputs": [
    {
     "data": {
      "image/png": "[encoded data removed]",
      "text/plain": [
       "<Figure size 640x480 with 1 Axes>"
      ]
     },
     "metadata": {},
     "output_type": "display_data"
    }
   ],
   "source": [
    "import matplotlib.pyplot as plt\n",
    "\n",
    "plt.plot(np.cumsum(pca.explained_variance_ratio_))\n",
    "plt.xlabel('Number of Components')\n",
    "plt.ylabel('Cumulative Explained Variance')\n",
    "plt.title('Explained Variance by Number of Components')\n",
    "plt.grid(True)\n",
    "plt.show()\n"
   ]
  },
  {
   "cell_type": "code",
   "execution_count": 15,
   "metadata": {},
   "outputs": [],
   "source": [
    "# Remove exact duplicates\n",
    "# df = pd.DataFrame(X_reduced)\n",
    "# X_reduced_deduped = df.drop_duplicates()\n"
   ]
  }
 ],
 "metadata": {
  "kernelspec": {
   "display_name": ".venv",
   "language": "python",
   "name": "python3"
  },
  "language_info": {
   "codemirror_mode": {
    "name": "ipython",
    "version": 3
   },
   "file_extension": ".py",
   "mimetype": "text/x-python",
   "name": "python",
   "nbconvert_exporter": "python",
   "pygments_lexer": "ipython3",
   "version": "3.10.15"
  }
 },
 "nbformat": 4,
 "nbformat_minor": 2
}
